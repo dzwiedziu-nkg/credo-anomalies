{
 "cells": [
  {
   "cell_type": "code",
   "execution_count": 1,
   "metadata": {
    "collapsed": true
   },
   "outputs": [],
   "source": [
    "import numpy as np\n",
    "\n",
    "from commons import *\n",
    "from dataset_loader import load_images, prepare_dataset\n",
    "from IPython.display import display\n",
    "import matplotlib.pyplot as plt\n",
    "import cv2\n",
    "import pickle\n",
    "from keras.models import load_model\n",
    "\n",
    "\n",
    "DOTS_SRC = 'hit-images-final2/dot'\n",
    "TRACKS_SRC = 'hit-images-final2/line'\n",
    "WORMS_SRC = 'hit-images-final2/worms'\n",
    "ARTIFACTS_SRC = 'hit-images-final2/artefact'\n",
    "\n",
    "DOTS_AC = 'cache/dots_100000.h5'\n",
    "TRACKS_AC = 'cache/tracks_100000.h5'\n",
    "WORMS_AC = 'cache/worms_100000.h5'\n",
    "ARTIFACTS_AC = 'cache/artifacts_100000.h5'\n",
    "\n",
    "\n",
    "\n",
    "dots_set =  prepare_dataset(load_images(DOTS_SRC))\n",
    "worms_set =  prepare_dataset(load_images(WORMS_SRC))\n",
    "tracks_set =  prepare_dataset(load_images(TRACKS_SRC))\n",
    "artifacts_set =  prepare_dataset(load_images(ARTIFACTS_SRC))\n",
    "\n",
    "dots_autoencoder = load_model(DOTS_AC)\n",
    "worms_autoencoder = load_model(WORMS_AC)\n",
    "tracks_autoencoder = load_model(TRACKS_AC)\n",
    "artifacts_autoencoder = load_model(ARTIFACTS_AC)\n",
    "\n",
    "on_dots = calc_similarity(dots_autoencoder, dots_set, tracks_set, worms_set, artifacts_set)\n",
    "on_worms = calc_similarity(worms_autoencoder, dots_set, tracks_set, worms_set, artifacts_set)\n",
    "on_tracks = calc_similarity(tracks_autoencoder, dots_set, tracks_set, worms_set, artifacts_set)\n",
    "on_artifacts = calc_similarity(artifacts_autoencoder, dots_set, tracks_set, worms_set, artifacts_set)"
   ]
  },
  {
   "cell_type": "code",
   "execution_count": 4,
   "outputs": [
    {
     "data": {
      "text/plain": "<Figure size 576x432 with 1 Axes>",
      "image/png": "[encoded data removed]"
     },
     "metadata": {
      "needs_background": "light"
     },
     "output_type": "display_data"
    },
    {
     "name": "stdout",
     "output_type": "stream",
     "text": [
      "Threshold value: -11.091067446192564\n",
      "False classified rate %: 4.008097165991903\n"
     ]
    }
   ],
   "source": [
    "def append_label_column(v, c):\n",
    "    with_c = np.vstack([v, np.ones(v.shape) * c])\n",
    "    transposed = with_c.transpose()\n",
    "    return transposed\n",
    "\n",
    "dots = on_dots['dots']\n",
    "tracks = on_dots['tracks']\n",
    "\n",
    "def find_threshold(a, b):\n",
    "    a = sorted(a)\n",
    "    b = sorted(b)\n",
    "\n",
    "    ca = a[len(a) // 2]\n",
    "    cb = b[len(b) // 2]\n",
    "\n",
    "    if ca > cb:\n",
    "        swap = a\n",
    "        a = b\n",
    "        b = swap\n",
    "\n",
    "    np_a = np.array(a)\n",
    "    np_b = np.array(b)\n",
    "\n",
    "    np_a_ex = append_label_column(np_a, 1)\n",
    "    np_b_ex = append_label_column(np_b, 2)\n",
    "\n",
    "    left = 4\n",
    "    right = 3\n",
    "\n",
    "    np_ab = np.vstack([np_a_ex, np_b_ex])\n",
    "    np_ab = np_ab[np_ab[:, 0].argsort()]\n",
    "\n",
    "    labels = np_ab[:,1]\n",
    "\n",
    "    cumsum_a = np.where(labels == 1, 1 / len(a), 0).cumsum()\n",
    "    cumsum_ar = np.flip(np.flip(np.where(labels == 1, 1 / len(a), 0)).cumsum())\n",
    "    cumsum_b = np.where(labels == 2, 1 / len(b), 0).cumsum()\n",
    "    cumsum_br = np.flip(np.flip(np.where(labels == 2, 1 / len(b), 0)).cumsum())\n",
    "\n",
    "    np_ab_ex = np.hstack([np_ab, np.vstack([cumsum_a, cumsum_ar, cumsum_b, cumsum_br]).transpose()])\n",
    "\n",
    "    half = 0\n",
    "    for row in np_ab_ex:\n",
    "        rl = row[left]\n",
    "        rr = row[right]\n",
    "        if rl > rr:\n",
    "            break\n",
    "        half += 1\n",
    "\n",
    "    threshold = (np_ab_ex[half - 1, 0] + np_ab_ex[half, 0])/2\n",
    "\n",
    "    fp_a = np_ab[np.where((np_ab[:,1] == 1) & (np_ab[:,0] >= threshold))]\n",
    "    fp_b = np_ab[np.where((np_ab[:,1] == 2) & (np_ab[:,0] <= threshold))]\n",
    "\n",
    "    percent = (fp_a.shape[0] + fp_b.shape[0]) / np_ab.shape[0] * 100\n",
    "\n",
    "    return threshold, percent\n",
    "\n",
    "\n",
    "def plot_threshold(a, b, threshold, name_a, name_b):\n",
    "    plt.figure(figsize=(8,6))\n",
    "    plt.hist(a, bins=100, alpha=0.5, label=name_a)\n",
    "    plt.hist(b, bins=100, alpha=0.5, label=name_b)\n",
    "    plt.vlines(x = threshold, ymin = 0, ymax = 50, colors = 'purple', label = 'Threshold')\n",
    "    plt.xlabel(\"Data\", size=14)\n",
    "    plt.ylabel(\"Count\", size=14)\n",
    "    plt.legend(loc='upper right')\n",
    "    plt.show()\n",
    "\n",
    "\n",
    "threshold, percent = find_threshold(dots, tracks)\n",
    "plot_threshold(dots, tracks, threshold, 'Dots', 'Worms')\n",
    "\n",
    "print('Threshold value: ' + str(threshold))\n",
    "print('False classified rate %: ' + str(percent))"
   ],
   "metadata": {
    "collapsed": false,
    "pycharm": {
     "name": "#%%\n"
    }
   }
  },
  {
   "cell_type": "markdown",
   "source": [],
   "metadata": {
    "collapsed": false,
    "pycharm": {
     "name": "#%% md\n"
    }
   }
  }
 ],
 "metadata": {
  "kernelspec": {
   "display_name": "Python 3",
   "language": "python",
   "name": "python3"
  },
  "language_info": {
   "codemirror_mode": {
    "name": "ipython",
    "version": 2
   },
   "file_extension": ".py",
   "mimetype": "text/x-python",
   "name": "python",
   "nbconvert_exporter": "python",
   "pygments_lexer": "ipython2",
   "version": "2.7.6"
  }
 },
 "nbformat": 4,
 "nbformat_minor": 0
}