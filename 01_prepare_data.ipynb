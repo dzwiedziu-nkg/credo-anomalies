{
 "cells": [
  {
   "cell_type": "code",
   "execution_count": 1,
   "metadata": {
    "collapsed": true
   },
   "outputs": [],
   "source": [
    "from dataset_loader import load_dataset_with_augmentation, save_to_file, load_from_file\n",
    "\n",
    "MIN_COUNT = 100000\n",
    "\n",
    "DOTS_SRC = 'hit-images-final2/dot'\n",
    "DOTS_DST = 'cache/dots_100000.pickle'\n",
    "\n",
    "TRACKS_SRC = 'hit-images-final2/line'\n",
    "TRACKS_DST = 'cache/tracks_100000.pickle'\n",
    "\n",
    "WORMS_SRC = 'hit-images-final2/worms'\n",
    "WORMS_DST = 'cache/worms_100000.pickle'\n",
    "\n",
    "ARTIFACTS_SRC = 'hit-images-final2/artefact'\n",
    "ARTIFACTS_DST = 'cache/artifacts_100000.pickle'"
   ]
  },
  {
   "cell_type": "code",
   "execution_count": 2,
   "outputs": [
    {
     "name": "stdout",
     "output_type": "stream",
     "text": [
      "Dots: 1875/101250\n"
     ]
    }
   ],
   "source": [
    "images, augmented = load_dataset_with_augmentation(DOTS_SRC, min_count=MIN_COUNT)\n",
    "save_to_file(DOTS_DST, (images, augmented))\n",
    "print('Dots: %d/%d' % (len(images), len(augmented)))"
   ],
   "metadata": {
    "collapsed": false,
    "pycharm": {
     "name": "#%%\n"
    }
   }
  },
  {
   "cell_type": "code",
   "execution_count": 3,
   "outputs": [
    {
     "name": "stdout",
     "output_type": "stream",
     "text": [
      "Tracks: 3065/101145\n"
     ]
    }
   ],
   "source": [
    "images, augmented = load_dataset_with_augmentation(TRACKS_SRC, min_count=MIN_COUNT)\n",
    "save_to_file(TRACKS_DST, (images, augmented))\n",
    "print('Tracks: %d/%d' % (len(images), len(augmented)))"
   ],
   "metadata": {
    "collapsed": false,
    "pycharm": {
     "name": "#%%\n"
    }
   }
  },
  {
   "cell_type": "code",
   "execution_count": 4,
   "outputs": [
    {
     "name": "stdout",
     "output_type": "stream",
     "text": [
      "Worms: 496/100192\n"
     ]
    }
   ],
   "source": [
    "images, augmented = load_dataset_with_augmentation(WORMS_SRC, min_count=MIN_COUNT)\n",
    "save_to_file(WORMS_DST, (images, augmented))\n",
    "print('Worms: %d/%d' % (len(images), len(augmented)))"
   ],
   "metadata": {
    "collapsed": false,
    "pycharm": {
     "name": "#%%\n"
    }
   }
  },
  {
   "cell_type": "code",
   "execution_count": 5,
   "outputs": [
    {
     "name": "stdout",
     "output_type": "stream",
     "text": [
      "Artifacts: 646/100130\n"
     ]
    }
   ],
   "source": [
    "images, augmented = load_dataset_with_augmentation(ARTIFACTS_SRC, min_count=MIN_COUNT)\n",
    "save_to_file(ARTIFACTS_DST, (images, augmented))\n",
    "print('Artifacts: %d/%d' % (len(images), len(augmented)))"
   ],
   "metadata": {
    "collapsed": false,
    "pycharm": {
     "name": "#%%\n"
    }
   }
  }
 ],
 "metadata": {
  "kernelspec": {
   "display_name": "Python 3",
   "language": "python",
   "name": "python3"
  },
  "language_info": {
   "codemirror_mode": {
    "name": "ipython",
    "version": 2
   },
   "file_extension": ".py",
   "mimetype": "text/x-python",
   "name": "python",
   "nbconvert_exporter": "python",
   "pygments_lexer": "ipython2",
   "version": "2.7.6"
  }
 },
 "nbformat": 4,
 "nbformat_minor": 0
}