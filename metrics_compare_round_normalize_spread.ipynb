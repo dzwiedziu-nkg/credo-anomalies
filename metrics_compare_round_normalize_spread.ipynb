{
 "cells": [
  {
   "cell_type": "code",
   "execution_count": 24,
   "outputs": [],
   "source": [
    "import numpy as np\n",
    "\n",
    "from dataset_loader import load_from_file\n",
    "from tabulate import tabulate\n",
    "from matplotlib.pyplot import figure, imshow, axis\n",
    "from commons import *\n",
    "from skimage import data, util\n",
    "from skimage.measure import label, regionprops\n",
    "from scipy.ndimage import rotate\n",
    "from skimage.transform import hough_line, hough_line_peaks\n",
    "from skimage.feature import canny\n",
    "from skimage.draw import line\n",
    "from skimage import data\n",
    "from skimage.transform import probabilistic_hough_line\n",
    "from numpy import (array, dot, arccos, clip)\n",
    "from numpy.linalg import norm\n",
    "\n",
    "# obrót do poziomu, metodami:\n",
    "# 1. hough lines\n",
    "# 2. tomkowe\n",
    "# 3. tamtą pierwszą biblioteką od eliciticy\n",
    "# informacja wzjaemna - między jednym obrazkiem a porównywanym\n",
    "# jeszcze te metryki: https://towardsdatascience.com/measuring-similarity-in-two-images-using-python-b72233eb53c6\n",
    "\n",
    "\n",
    "DOTS_DST = 'cache/dots_v2.pickle'\n",
    "TRACKS_DST = 'cache/tracks_v2.pickle'\n",
    "WORMS_DST = 'cache/worms_v2.pickle'\n",
    "ARTIFACTS_DST = 'cache/artifacts_v2.pickle'\n",
    "\n",
    "DOTS_DSTx4 = 'cache/dots_v3.pickle'\n",
    "TRACKS_DSTx4 = 'cache/tracks_v3.pickle'\n",
    "WORMS_DSTx4 = 'cache/worms_v3.pickle'\n",
    "ARTIFACTS_DSTx4 = 'cache/artifacts_v3.pickle'\n",
    "\n",
    "\n",
    "tf_classes = [ tf.keras.metrics.AUC,\n",
    "    tf.keras.metrics.Accuracy,\n",
    "    tf.keras.metrics.BinaryAccuracy,\n",
    "    tf.keras.metrics.BinaryCrossentropy,\n",
    "    tf.keras.metrics.BinaryIoU,\n",
    "    tf.keras.metrics.CategoricalAccuracy,\n",
    "    tf.keras.metrics.CategoricalCrossentropy,\n",
    "    tf.keras.metrics.CategoricalHinge,\n",
    "    tf.keras.metrics.CosineSimilarity,\n",
    "    tf.keras.metrics.FalseNegatives,\n",
    "    tf.keras.metrics.FalsePositives,\n",
    "    tf.keras.metrics.Hinge,\n",
    "    #tf.keras.metrics.IoU,\n",
    "    tf.keras.metrics.KLDivergence,\n",
    "    tf.keras.metrics.LogCoshError,\n",
    "    tf.keras.metrics.Mean,\n",
    "    tf.keras.metrics.MeanAbsoluteError,\n",
    "    tf.keras.metrics.MeanAbsolutePercentageError,\n",
    "    #tf.keras.metrics.MeanIoU,\n",
    "    #tf.keras.metrics.MeanMetricWrapper,\n",
    "    #tf.keras.metrics.MeanRelativeError,\n",
    "    tf.keras.metrics.MeanSquaredError,\n",
    "    tf.keras.metrics.MeanSquaredLogarithmicError,\n",
    "    #tf.keras.metrics.MeanTensor,\n",
    "    #tf.keras.metrics.Metric,\n",
    "    #tf.keras.metrics.OneHotIoU,\n",
    "    #tf.keras.metrics.OneHotMeanIoU,\n",
    "    tf.keras.metrics.Poisson,\n",
    "    tf.keras.metrics.Precision,\n",
    "    #tf.keras.metrics.PrecisionAtRecall,\n",
    "    tf.keras.metrics.Recall,\n",
    "    #tf.keras.metrics.RecallAtPrecision,\n",
    "    tf.keras.metrics.RootMeanSquaredError,\n",
    "    #tf.keras.metrics.SensitivityAtSpecificity,\n",
    "    tf.keras.metrics.SparseCategoricalAccuracy,\n",
    "    tf.keras.metrics.SparseCategoricalCrossentropy,\n",
    "    tf.keras.metrics.SparseTopKCategoricalAccuracy,\n",
    "    #tf.keras.metrics.SpecificityAtSensitivity,\n",
    "    tf.keras.metrics.SquaredHinge,\n",
    "    tf.keras.metrics.Sum,\n",
    "    tf.keras.metrics.TopKCategoricalAccuracy,\n",
    "    tf.keras.metrics.TrueNegatives,\n",
    "    tf.keras.metrics.TruePositives ]\n",
    "\n",
    "def generic_tf_metrics(cls):\n",
    "    def tf_metrics(image, recon):\n",
    "        m = cls()\n",
    "        m.update_state(image, recon)\n",
    "        return m.result().numpy()\n",
    "    return tf_metrics, cls.__name__\n",
    "\n",
    "tf_mean = generic_tf_metrics(tf.keras.metrics.Mean)\n",
    "\n",
    "\n",
    "def tf_kl_divergence(image, recon):\n",
    "    m = tf.keras.metrics.KLDivergence()\n",
    "    m.update_state(image, recon)\n",
    "    return m.result().numpy()\n",
    "\n",
    "\n",
    "def tf_accuracy(image, recon):\n",
    "    m = tf.keras.metrics.Accuracy()\n",
    "    m.update_state(image, recon)\n",
    "    return m.result().numpy()\n",
    "\n",
    "def tf_mse(image, recon):\n",
    "    m = tf.keras.metrics.MeanSquaredError()\n",
    "    m.update_state(image, recon)\n",
    "    return m.result().numpy()\n",
    "\n",
    "\n",
    "\n",
    "\n",
    "funcs = [\n",
    "    (dm_func_mean2, 'mean'),\n",
    "    (dm_func_avg_hash, 'avg_hash'),\n",
    "    (dm_func_p_hash, 'p_hash'),\n",
    "    (dm_func_d_hash,  'd_hash'),\n",
    "    (dm_func_haar_hash,  'haar_hash'),\n",
    "    (dm_func_db4_hash, 'db4_hash')\n",
    "] #, tf_kl_divergence, tf_accuracy, tf_mse]\n",
    "for c in tf_classes:\n",
    "    funcs.append(generic_tf_metrics(c))\n",
    "\n",
    "\n",
    "def angle(x, y):\n",
    "    rad = np.arctan2(y, x)\n",
    "    degrees = rad*180/np.pi\n",
    "    return degrees\n",
    "\n",
    "\n",
    "def round_normalize(image):\n",
    "    mask = np.where(image == 0, 0.0, 1.0)\n",
    "    min_var = 1000\n",
    "    deg = 0\n",
    "    for d in range(0, 360):\n",
    "        rotated_mask = rotate(mask, d, reshape=False)\n",
    "        rotated_image = rotate(image, d, reshape=False)\n",
    "        rotated_image = np.where(rotated_mask < 0.25, 0, rotated_image)\n",
    "        rotated_image.sort(axis=0)\n",
    "        rotated_image.sort(axis=1)\n",
    "\n",
    "        s = rotated_image.sum(axis=1)\n",
    "        v = np.var(s)\n",
    "        if v < min_var:\n",
    "            min_var = v\n",
    "            deg = d\n",
    "        #print(\"%d: %f\" % (d, v))\n",
    "        #rotated_image.sort(axis=1)\n",
    "\n",
    "    mask = np.where(image == 0, 0.0, 1.0)\n",
    "    deg += 90\n",
    "    rotated_mask = rotate(mask, deg, reshape=False)\n",
    "    rotated_image = rotate(image, deg, reshape=False)\n",
    "    rotated_image = np.where(rotated_mask < 0.25, 0, rotated_image)\n",
    "    rotated_image = np.where(rotated_image < 0, 0, rotated_image)\n",
    "    rotated_image = np.where(rotated_image > 1, 1, rotated_image)\n",
    "    return rotated_image\n",
    "\n",
    "\n",
    "def showImagesMatrix(images, col=10):\n",
    "\n",
    "    hSize = 20\n",
    "    wSize = 20\n",
    "\n",
    "    fig = figure( figsize=(wSize, hSize))\n",
    "    number_of_files = len(images)\n",
    "    row = number_of_files // col\n",
    "    if (number_of_files%col != 0):\n",
    "        row += 1\n",
    "\n",
    "    row_head = ['Image 0 vs image:']\n",
    "    row_funcs = []\n",
    "\n",
    "    for f, n in funcs:\n",
    "        row_funcs.append([n])\n",
    "\n",
    "    img0 = round_normalize(images[0])\n",
    "    img0 = np.expand_dims(img0, axis=-1)\n",
    "\n",
    "    img1 = round_normalize(images[0])\n",
    "    img2 = round_normalize(images[0])\n",
    "\n",
    "    for i in range(number_of_files):\n",
    "        row_head.append(str(i))\n",
    "        a=fig.add_subplot(row,col,i+1)\n",
    "        image = round_normalize(images[i])\n",
    "        image = np.expand_dims(image, axis=-1)\n",
    "        imshow(image,cmap='Greys_r')\n",
    "        axis('off')\n",
    "\n",
    "        d = np.squeeze(img0, axis=2)\n",
    "        e = np.squeeze(image, axis=2)\n",
    "\n",
    "        #print('%010s | %6.3f' % ('dm_func_mean2', v))\n",
    "        for fi, (f, n) in enumerate(funcs):\n",
    "            v = f(img0, image)\n",
    "            row_funcs[fi].append(str(v))\n",
    "            a = np.squeeze(img0, axis=2)\n",
    "            b = np.squeeze(image, axis=2)\n",
    "            if i == 0 and fi == 0 and v != 0:\n",
    "                print(a == b)\n",
    "                print(d == e)\n",
    "                print(image == img0)\n",
    "                print('---' + str(v) + '---')\n",
    "\n",
    "    table = [row_head, *row_funcs]\n",
    "    print(tabulate(table))\n",
    "\n",
    "\n",
    "\n",
    "images, augmented = load_from_file(TRACKS_DST)\n",
    "#showImagesMatrix([augmented[16], augmented[0], augmented[2], augmented[5], images[0]], 5)\n",
    "#showImagesMatrix([images[0], images[1], images[2], images[3], images[4]], 5)\n",
    "\n",
    "#images_worms, augmented_worms = load_from_file(WORMS_DST)\n",
    "#round_normalize(images_worms[0])\n",
    "#showImagesMatrix([images_worms[0], augmented_worms[0], augmented_worms[2], augmented_worms[5], augmented_worms[16]], 5)"
   ],
   "metadata": {
    "collapsed": false,
    "pycharm": {
     "name": "#%%\n"
    }
   }
  },
  {
   "cell_type": "code",
   "execution_count": 25,
   "outputs": [
    {
     "name": "stdout",
     "output_type": "stream",
     "text": [
      "-----------------------------  -------------  ----------------  -------------  ----------------  ---------------\n",
      "Image 0 vs image:                 0                1               2                3                4\n",
      "mean                              0              -11.7167          0               -8.82389         -9.49468\n",
      "avg_hash                          0                0               0                0                0\n",
      "p_hash                            0                0.0302457       0                0.0604915        0.0604915\n",
      "d_hash                            0                0               0                0                0\n",
      "haar_hash                         0                0.0189036       0                0.0226843        0.0226843\n",
      "db4_hash                          0                0.0283554       0                0.0396975        0.0283554\n",
      "AUC                               1                0.999885        1                0.890934         0.934692\n",
      "Accuracy                          1                0.992222        1                0.992222         0.992778\n",
      "BinaryAccuracy                    0.993611         0.993611        0.993611         0.993611         0.993611\n",
      "BinaryCrossentropy                0.0033145        0.00349819      0.0033145        0.00687852       0.00475443\n",
      "BinaryIoU                         1                1               1                1                1\n",
      "CategoricalAccuracy               1                1               1                1                1\n",
      "CategoricalCrossentropy         nan              nan             nan              nan              nan\n",
      "CategoricalHinge                  1.00066          1.00081         1.00066          1.00089          1.0008\n",
      "CosineSimilarity                  0.00638889       0.00638889      0.00638889       0.005            0.00555556\n",
      "FalseNegatives                   23               23              23               23               23\n",
      "FalsePositives                    0                0               0                0                0\n",
      "Hinge                             0.999561         0.999567        0.999561         0.999678         0.999634\n",
      "KLDivergence                      0                2.88209e-05     0                0.003574         0.00140068\n",
      "LogCoshError                      0                1.56915e-05     0                0.000115618      7.2892e-05\n",
      "Mean                              0.285851         0.25887         0.285851         0.209833         0.238099\n",
      "MeanAbsoluteError                 0                0.000419247     0                0.00115555       0.000884726\n",
      "MeanAbsolutePercentageError       0           112851               0           223933            77876.6\n",
      "MeanSquaredError                  0                3.14353e-05     0                0.000233469      0.000146656\n",
      "MeanSquaredLogarithmicError       0                2.39783e-05     0                0.000168316      0.0001022\n",
      "Poisson                           0.00356126       0.00372571      0.00356126       0.00713526       0.00496194\n",
      "Precision                         0                0               0                0                0\n",
      "Recall                            0                0               0                0                0\n",
      "RootMeanSquaredError              0                0.00560672      0                0.0152797        0.0121102\n",
      "SparseCategoricalAccuracy         0.993611         0.993611        0.993611         0.993611         0.993611\n",
      "SparseCategoricalCrossentropy     0                0               0                0                0\n",
      "SparseTopKCategoricalAccuracy     1                1               1                1                1\n",
      "SquaredHinge                      0.999166         0.999177        0.999166         0.999382         0.999299\n",
      "Sum                               1.58025          1.55749         1.58025          1.16001          1.31627\n",
      "TopKCategoricalAccuracy           1                1               1                1                1\n",
      "TrueNegatives                  3577             3577            3577             3577             3577\n",
      "TruePositives                     0                0               0                0                0\n",
      "-----------------------------  -------------  ----------------  -------------  ----------------  ---------------\n"
     ]
    },
    {
     "data": {
      "text/plain": "<Figure size 1440x1440 with 5 Axes>",
      "image/png": "[encoded data removed]"
     },
     "metadata": {
      "needs_background": "light"
     },
     "output_type": "display_data"
    }
   ],
   "source": [
    "showImagesMatrix([images[0], augmented[0], augmented[2], augmented[5], augmented[16]], 5)"
   ],
   "metadata": {
    "collapsed": false,
    "pycharm": {
     "name": "#%%\n"
    }
   }
  },
  {
   "cell_type": "code",
   "execution_count": 26,
   "outputs": [
    {
     "name": "stdout",
     "output_type": "stream",
     "text": [
      "-----------------------------  -------------  ---------------  ----------------  ----------------  ----------------\n",
      "Image 0 vs image:                 0               1                 2                 3                 4\n",
      "mean                              0              -9.27886          -9.51408          -8.07269          -7.56966\n",
      "avg_hash                          0               0                 0                 0.00378072        0.00378072\n",
      "p_hash                            0               0.0226843         0.0226843         0.0831758         0.0226843\n",
      "d_hash                            0               0.00378072        0.00378072        0.00378072        0.00567108\n",
      "haar_hash                         0               0.0226843         0.020794          0.0226843         0.026465\n",
      "db4_hash                          0               0.0604915         0.0415879         0.145558          0.0812854\n",
      "AUC                               1               0.825898          0.825844          0.71631           0.672515\n",
      "Accuracy                          1               0.993056          0.9925            0.991389          0.990278\n",
      "BinaryAccuracy                    0.993611        0.993611          0.993611          0.993611          0.993611\n",
      "BinaryCrossentropy                0.0033145       0.0093114         0.00871543        0.0147677         0.0167148\n",
      "BinaryIoU                         1               1                 0.499861          1                 0.499722\n",
      "CategoricalAccuracy               1               1                 1                 1                 1\n",
      "CategoricalCrossentropy         nan             nan               nan               nan               nan\n",
      "CategoricalHinge                  1.00066         1.00059           1.00056           1.00067           1.00112\n",
      "CosineSimilarity                  0.00638889      0.00416667        0.00416667        0.00277778        0.00222222\n",
      "FalseNegatives                   23              23                22                23                21\n",
      "FalsePositives                    0               0                 0                 0                 0\n",
      "Hinge                             0.999561        0.999685          0.999672          0.99986           0.99972\n",
      "KLDivergence                      0               0.00651668        0.00591524        0.0123722         0.0135267\n",
      "LogCoshError                      0               8.41767e-05       7.16603e-05       0.000193594       0.000273997\n",
      "Mean                              0.285851        0.257876          0.270359          0.147503          0.166344\n",
      "MeanAbsoluteError                 0               0.000863318       0.000845669       0.00154124        0.00208108\n",
      "MeanAbsolutePercentageError       0           87393.9          103634            414066            780642\n",
      "MeanSquaredError                  0               0.000170322       0.000144698       0.000392973       0.000556918\n",
      "MeanSquaredLogarithmicError       0               0.000127844       0.000109542       0.000295664       0.000401754\n",
      "Poisson                           0.00356126      0.0097637         0.00915271        0.0153458         0.0172352\n",
      "Precision                         0               0                 1                 0                 1\n",
      "Recall                            0               0                 0.0434783         0                 0.0869565\n",
      "RootMeanSquaredError              0               0.0130508         0.0120291         0.0198235         0.0235991\n",
      "SparseCategoricalAccuracy         0.993611        0.993611          0.993611          0.993611          0.993611\n",
      "SparseCategoricalCrossentropy     0               0                 0                 0                 0\n",
      "SparseTopKCategoricalAccuracy     1               1                 1                 1                 1\n",
      "SquaredHinge                      0.999166        0.999402          0.999381          0.999731          0.999491\n",
      "Sum                               1.58025         1.13388           1.17948           0.503365          1.00778\n",
      "TopKCategoricalAccuracy           1               1                 1                 1                 1\n",
      "TrueNegatives                  3577            3577              3577              3577              3577\n",
      "TruePositives                     0               0                 1                 0                 2\n",
      "-----------------------------  -------------  ---------------  ----------------  ----------------  ----------------\n"
     ]
    },
    {
     "data": {
      "text/plain": "<Figure size 1440x1440 with 5 Axes>",
      "image/png": "[encoded data removed]"
     },
     "metadata": {
      "needs_background": "light"
     },
     "output_type": "display_data"
    }
   ],
   "source": [
    "showImagesMatrix([images[0], images[1], images[2], images[3], images[4]], 5)"
   ],
   "metadata": {
    "collapsed": false,
    "pycharm": {
     "name": "#%%\n"
    }
   }
  },
  {
   "cell_type": "code",
   "execution_count": 27,
   "outputs": [
    {
     "name": "stdout",
     "output_type": "stream",
     "text": [
      "-----------------------------  --------------  ----------------  --------------  ----------------  ----------------\n",
      "Image 0 vs image:                 0                 1               2                 3                 4\n",
      "mean                              0                -3.3049          0                -3.22864          -3.22864\n",
      "avg_hash                          0                 0               0                 0                 0\n",
      "p_hash                            0                 8               0                 8                 8\n",
      "d_hash                            0                 0               0                 0                 0\n",
      "haar_hash                         0                 6.5             0                 7.5               7.5\n",
      "db4_hash                          0                17.5             0                16.75             18.75\n",
      "AUC                               1                 0.499444        1                 0.499722          0.499722\n",
      "Accuracy                          1                 0.998333        1                 0.998889          0.998889\n",
      "BinaryAccuracy                    0.999444          0.999444        0.999444          0.999444          0.999444\n",
      "BinaryCrossentropy                0.000284568       0.00228809      0.000284568       0.00227293        0.00227293\n",
      "BinaryIoU                         1                 1               1                 1                 1\n",
      "CategoricalAccuracy               1                 1               1                 1                 1\n",
      "CategoricalCrossentropy         nan               nan             nan               nan               nan\n",
      "CategoricalHinge                  1.00005           1.00016         1.00005           1.00014           1.00014\n",
      "CosineSimilarity                  0.000555556       0               0.000555556       0                 0\n",
      "FalseNegatives                    2                 2               2                 2                 2\n",
      "FalsePositives                    0                 0               0                 0                 0\n",
      "Hinge                             0.999957          1               0.999957          1                 1\n",
      "KLDivergence                      0                 0.00203039      0                 0.00203039        0.00203039\n",
      "LogCoshError                      0                 3.97277e-05     0                 4.17927e-05       4.17927e-05\n",
      "Mean                              0.312247          0               0.312247          0                 0\n",
      "MeanAbsoluteError                 0                 0.000292442     0                 0.000273322       0.000273322\n",
      "MeanAbsolutePercentageError       0            155781               0            136661            136661\n",
      "MeanSquaredError                  0                 8.09499e-05     0                 8.5344e-05        8.5344e-05\n",
      "MeanSquaredLogarithmicError       0                 6.08029e-05     0                 6.29427e-05       6.29427e-05\n",
      "Poisson                           0.000308988       0.0023585       0.000308988       0.00233938        0.00233938\n",
      "Precision                         0                 0               0                 0                 0\n",
      "Recall                            0                 0               0                 0                 0\n",
      "RootMeanSquaredError              0                 0.00899722      0                 0.00923818        0.00923818\n",
      "SparseCategoricalAccuracy         0.999444          0.999444        0.999444          0.999444          0.999444\n",
      "SparseCategoricalCrossentropy     0                 0               0                 0                 0\n",
      "SparseTopKCategoricalAccuracy     1                 1               1                 1                 1\n",
      "SquaredHinge                      0.99992           1               0.99992           1                 1\n",
      "Sum                               0.153619          0               0.153619          0                 0\n",
      "TopKCategoricalAccuracy           1                 1               1                 1                 1\n",
      "TrueNegatives                  3598              3598            3598              3598              3598\n",
      "TruePositives                     0                 0               0                 0                 0\n",
      "-----------------------------  --------------  ----------------  --------------  ----------------  ----------------\n"
     ]
    },
    {
     "data": {
      "text/plain": "<Figure size 1440x1440 with 5 Axes>",
      "image/png": "[encoded data removed]"
     },
     "metadata": {
      "needs_background": "light"
     },
     "output_type": "display_data"
    }
   ],
   "source": [
    "images_dots, augmented_dots = load_from_file(DOTS_DST)\n",
    "\n",
    "showImagesMatrix([images_dots[0], augmented_dots[0], augmented_dots[2], augmented_dots[5], augmented_dots[16]], 5)"
   ],
   "metadata": {
    "collapsed": false,
    "pycharm": {
     "name": "#%%\n"
    }
   }
  },
  {
   "cell_type": "code",
   "execution_count": 28,
   "outputs": [
    {
     "name": "stdout",
     "output_type": "stream",
     "text": [
      "-----------------------------  --------------  ---------------  ----------------  ----------------  ----------------\n",
      "Image 0 vs image:                 0                1                 2                 3                 4\n",
      "mean                              0               -4.24104          -4.91198          -0.918602         -1.7526\n",
      "avg_hash                          0                0                 0                 0                 0\n",
      "p_hash                            0                0                 0                 8                 0\n",
      "d_hash                            0                0.25              0                 0.25              0.5\n",
      "haar_hash                         0                3.75              1                 6.25              1.25\n",
      "db4_hash                          0               11.75              1.25             17.25              6.5\n",
      "AUC                               1                1                 0.999861          0.499166          0.999861\n",
      "Accuracy                          1                0.999167          0.998333          0.997778          0.996667\n",
      "BinaryAccuracy                    0.999444         0.999444          0.999444          0.999167          0.999167\n",
      "BinaryCrossentropy                0.000284568      0.00039198        0.000430195       0.00326368        0.00111261\n",
      "BinaryIoU                         1                0.499861          0.499861          0.499861          0.499722\n",
      "CategoricalAccuracy               1                1                 1                 1                 1\n",
      "CategoricalCrossentropy         nan              nan               nan               nan               nan\n",
      "CategoricalHinge                  1.00005          1.00015           1.00019           1.00069           1.00073\n",
      "CosineSimilarity                  0.000555556      0.000555556       0.000555556       0                 0.000555556\n",
      "FalseNegatives                    2                1                 1                 2                 1\n",
      "FalsePositives                    0                0                 0                 1                 1\n",
      "Hinge                             0.999957         0.99993           0.999941          1                 0.99994\n",
      "KLDivergence                      0               -8.06569e-05      -4.00587e-05       0.00203039       -5.88574e-05\n",
      "LogCoshError                      0                2.07762e-05       1.31972e-05       0.000197458       0.000115713\n",
      "Mean                              0.312247         0.240763          0.192804          0                 0.070001\n",
      "MeanAbsoluteError                 0                0.000153799       0.000167942       0.00083163        0.000717311\n",
      "MeanAbsolutePercentageError       0            12991            120934            694969            598260\n",
      "MeanSquaredError                  0                4.23067e-05       2.65728e-05       0.000423217       0.000237414\n",
      "MeanSquaredLogarithmicError       0                2.49124e-05       1.98716e-05       0.00026014        0.000165642\n",
      "Poisson                           0.000308988      0.000382131       0.000436873       0.00289769        0.000967446\n",
      "Precision                         0                1                 1                 0                 0.5\n",
      "Recall                            0                0.5               0.5               0                 0.5\n",
      "RootMeanSquaredError              0                0.00650436        0.00515488        0.0205722         0.0154082\n",
      "SparseCategoricalAccuracy         0.999444         0.999444          0.999444          0.999444          0.999444\n",
      "SparseCategoricalCrossentropy     0                0                 0                 0                 0\n",
      "SparseTopKCategoricalAccuracy     1                1                 1                 1                 1\n",
      "SquaredHinge                      0.99992          0.999872          0.999893          1                 0.999888\n",
      "Sum                               0.153619         0.251756          0.211423          0                 0.215204\n",
      "TopKCategoricalAccuracy           1                1                 1                 1                 1\n",
      "TrueNegatives                  3598             3598              3598              3597              3597\n",
      "TruePositives                     0                1                 1                 0                 1\n",
      "-----------------------------  --------------  ---------------  ----------------  ----------------  ----------------\n"
     ]
    },
    {
     "data": {
      "text/plain": "<Figure size 1440x1440 with 5 Axes>",
      "image/png": "[encoded data removed]"
     },
     "metadata": {
      "needs_background": "light"
     },
     "output_type": "display_data"
    }
   ],
   "source": [
    "showImagesMatrix([images_dots[0], images_dots[1], images_dots[2], images_dots[3], images_dots[4]], 5)"
   ],
   "metadata": {
    "collapsed": false,
    "pycharm": {
     "name": "#%%\n"
    }
   }
  },
  {
   "cell_type": "code",
   "execution_count": 29,
   "outputs": [
    {
     "name": "stdout",
     "output_type": "stream",
     "text": [
      "-----------------------------  -------------  ---------------  -------------  --------------  --------------\n",
      "Image 0 vs image:                 0               1               2              3               4\n",
      "mean                              0             -16.9267          0             -8.90664        -9.11384\n",
      "avg_hash                          0               0               0              0.000711997     0.000711997\n",
      "p_hash                            0               0               0              0.011392        0.011392\n",
      "d_hash                            0               0               0              0.00213599      0.00142399\n",
      "haar_hash                         0               0.00320399      0              0.00854397      0.00711997\n",
      "db4_hash                          0               0.00462798      0              0.0291919       0.0274119\n",
      "AUC                               1               0.990557        1              0.550591        0.646433\n",
      "Accuracy                          1               0.984619        1              0.975586        0.978027\n",
      "BinaryAccuracy                    0.987061        0.987061        0.987061       0.987061        0.987061\n",
      "BinaryCrossentropy                0.00532397      0.00539694      0.00532397     0.0357233       0.028344\n",
      "BinaryIoU                         1               1               1              1               1\n",
      "CategoricalAccuracy               1               1               1              1               1\n",
      "CategoricalCrossentropy         nan             nan             nan            nan             nan\n",
      "CategoricalHinge                  1.00108         1.0011          1.00108        1.00225         1.00209\n",
      "CosineSimilarity                  0.0129395       0.0126953       0.0129395      0.00146484      0.00390625\n",
      "FalseNegatives                   53              53              53             53              53\n",
      "FalsePositives                    0               0               0              0               0\n",
      "Hinge                             0.999397        0.999399        0.999397       0.999982        0.999904\n",
      "KLDivergence                      0               5.7529e-05      0              0.0311558       0.0234804\n",
      "LogCoshError                      0               2.25469e-06     0              0.000574505     0.000497745\n",
      "Mean                              0.26435         0.261458        0.26435        0.00785301      0.0421674\n",
      "MeanAbsoluteError                 0               0.000226912     0              0.00433898      0.0038382\n",
      "MeanAbsolutePercentageError       0           20341.1             0              2.11924e+06     1.56359e+06\n",
      "MeanSquaredError                  0               4.50974e-06     0              0.00117062      0.00101401\n",
      "MeanSquaredLogarithmicError       0               3.33631e-06     0              0.000882601     0.000754208\n",
      "Poisson                           0.00566517      0.00573761      0.00566517     0.0368209       0.0291455\n",
      "Precision                         0               0               0              0               0\n",
      "Recall                            0               0               0              0               0\n",
      "RootMeanSquaredError              0               0.00212361      0              0.0342143       0.0318436\n",
      "SparseCategoricalAccuracy         0.987061        0.987061        0.987061       0.987061        0.987061\n",
      "SparseCategoricalCrossentropy     0               0               0              0               0\n",
      "SparseTopKCategoricalAccuracy     1               1               1              1               1\n",
      "SquaredHinge                      0.998862        0.998867        0.998862       0.999964        0.999811\n",
      "Sum                               2.47083         2.45976         2.47083        0.0734004       0.39413\n",
      "TopKCategoricalAccuracy           1               1               1              1               1\n",
      "TrueNegatives                  4043            4043            4043           4043            4043\n",
      "TruePositives                     0               0               0              0               0\n",
      "-----------------------------  -------------  ---------------  -------------  --------------  --------------\n"
     ]
    },
    {
     "data": {
      "text/plain": "<Figure size 1440x1440 with 5 Axes>",
      "image/png": "[encoded data removed]"
     },
     "metadata": {
      "needs_background": "light"
     },
     "output_type": "display_data"
    }
   ],
   "source": [
    "images_dots4x, augmented_dots4x = load_from_file(DOTS_DSTx4)\n",
    "showImagesMatrix([images_dots4x[0], augmented_dots4x[0], augmented_dots4x[2], augmented_dots4x[5], augmented_dots4x[16]], 5)"
   ],
   "metadata": {
    "collapsed": false,
    "pycharm": {
     "name": "#%%\n"
    }
   }
  },
  {
   "cell_type": "code",
   "execution_count": 30,
   "outputs": [
    {
     "name": "stdout",
     "output_type": "stream",
     "text": [
      "-----------------------------  -------------  --------------  --------------  --------------  --------------\n",
      "Image 0 vs image:                 0              1               2               3               4\n",
      "mean                              0             -8.18013        -8.40474        -6.62513        -6.76728\n",
      "avg_hash                          0              0.000711997     0.000355999     0.001068        0.00213599\n",
      "p_hash                            0              0.011392        0.011392        0.011392        0.011392\n",
      "d_hash                            0              0.00249199      0.000355999     0.00213599      0.00213599\n",
      "haar_hash                         0              0.00889996      0.00640797      0.0135279       0.00925596\n",
      "db4_hash                          0              0.0320399       0.0227839       0.0469918       0.0327519\n",
      "AUC                               1              0.691477        0.624233        0.638597        0.60232\n",
      "Accuracy                          1              0.974854        0.970703        0.963379        0.950684\n",
      "BinaryAccuracy                    0.987061       0.985352        0.987061        0.979248        0.981201\n",
      "BinaryCrossentropy                0.00532397     0.0272614       0.0318966       0.0413949       0.0458437\n",
      "BinaryIoU                         1              0.499023        1               0.495483        0.49707\n",
      "CategoricalAccuracy               1              1               1               1               1\n",
      "CategoricalCrossentropy         nan            nan             nan             nan             nan\n",
      "CategoricalHinge                  1.00108        1.00432         1.00419         1.01044         1.01227\n",
      "CosineSimilarity                  0.0129395      0.00512695      0.00341797      0.00390625      0.00317383\n",
      "FalseNegatives                   53             52              53              48              53\n",
      "FalsePositives                    0              7               0              32              24\n",
      "Hinge                             0.999397       0.999812        0.999864        0.999784        0.999922\n",
      "KLDivergence                      0              0.0190452       0.0244861       0.0235652       0.0280289\n",
      "LogCoshError                      0              0.000941325     0.000811661     0.00269838      0.00250091\n",
      "Mean                              0.26435        0.0400063       0.0304692       0.0198539       0.00629472\n",
      "MeanAbsoluteError                 0              0.00580655      0.00581602      0.0119694       0.014012\n",
      "MeanAbsolutePercentageError       0              3.48651e+06     3.58483e+06     9.48719e+06     1.17353e+07\n",
      "MeanSquaredError                  0              0.00193695      0.00165768      0.0056914       0.00515734\n",
      "MeanSquaredLogarithmicError       0              0.00135329      0.0012186       0.00360192      0.00361418\n",
      "Poisson                           0.00566517     0.0271219       0.0323258       0.0378247       0.043836\n",
      "Precision                         0              0.125           0               0.135135        0\n",
      "Recall                            0              0.0188679       0               0.0943396       0\n",
      "RootMeanSquaredError              0              0.0440108       0.0407147       0.0754413       0.0718146\n",
      "SparseCategoricalAccuracy         0.987061       0.987061        0.987061        0.987061        0.987061\n",
      "SparseCategoricalCrossentropy     0              0               0               0               0\n",
      "SparseTopKCategoricalAccuracy     1              1               1               1               1\n",
      "SquaredHinge                      0.998862       0.999634        0.999735        0.999584        0.999846\n",
      "Sum                               2.47083        0.769109        0.556181        0.884471        0.320325\n",
      "TopKCategoricalAccuracy           1              1               1               1               1\n",
      "TrueNegatives                  4043           4036            4043            4011            4019\n",
      "TruePositives                     0              1               0               5               0\n",
      "-----------------------------  -------------  --------------  --------------  --------------  --------------\n"
     ]
    },
    {
     "data": {
      "text/plain": "<Figure size 1440x1440 with 5 Axes>",
      "image/png": "[encoded data removed]"
     },
     "metadata": {
      "needs_background": "light"
     },
     "output_type": "display_data"
    }
   ],
   "source": [
    "showImagesMatrix([images_dots4x[0], images_dots4x[1], images_dots4x[2], images_dots4x[3], images_dots4x[4]], 5)"
   ],
   "metadata": {
    "collapsed": false,
    "pycharm": {
     "name": "#%%\n"
    }
   }
  },
  {
   "cell_type": "code",
   "execution_count": 31,
   "outputs": [
    {
     "name": "stdout",
     "output_type": "stream",
     "text": [
      "-----------------------------  -------------  ---------------  --------------  --------------  ----------------\n",
      "Image 0 vs image:                 0               1               2               3                 4\n",
      "mean                              0             -14.9119         -7.85535        -7.85535          -9.09765\n",
      "avg_hash                          0               0               0               0                 0\n",
      "p_hash                            0               0               0.0332986       0.0332986         0.0332986\n",
      "d_hash                            0               0.00104058      0.00208117      0.00208117        0\n",
      "haar_hash                         0               0.00104058      0.012487        0.012487          0\n",
      "db4_hash                          0               0.00208117      0.0312175       0.0312175         0.0197711\n",
      "AUC                               1               0.967692        0.56063         0.56063           0.691519\n",
      "Accuracy                          1               0.99            0.983889        0.983889          0.986111\n",
      "BinaryAccuracy                    0.991389        0.991389        0.991389        0.991389          0.991389\n",
      "BinaryCrossentropy                0.00376002      0.00426103      0.0247802       0.0247802         0.0136159\n",
      "BinaryIoU                         1               1               1               1                 1\n",
      "CategoricalAccuracy               1               1               1               1                 1\n",
      "CategoricalCrossentropy         nan             nan             nan             nan               nan\n",
      "CategoricalHinge                  1.00075         1.00074         1.00158         1.00158           1.00111\n",
      "CosineSimilarity                  0.00861111      0.00805556      0.00111111      0.00111111        0.00333333\n",
      "FalseNegatives                   31              31              31              31                31\n",
      "FalsePositives                    0               0               0               0                 0\n",
      "Hinge                             0.999567        0.999576        0.999982        0.999982          0.999743\n",
      "KLDivergence                      0               0.000551936     0.0215182       0.0215182         0.0101201\n",
      "LogCoshError                      0               3.11578e-06     0.000406326     0.000406326       0.000173721\n",
      "Mean                              0.26713         0.266401        0.0109759       0.0109759         0.158854\n",
      "MeanAbsoluteError                 0               0.000182796     0.00308534      0.00308534        0.00190297\n",
      "MeanAbsolutePercentageError       0           31818.3             1.45957e+06     1.45957e+06  690322\n",
      "MeanSquaredError                  0               6.23484e-06     0.000829962     0.000829962       0.000350823\n",
      "MeanSquaredLogarithmicError       0               5.30273e-06     0.000619269     0.000619269       0.000268294\n",
      "Poisson                           0.0040069       0.00453121      0.0255251       0.0255251         0.014127\n",
      "Precision                         0               0               0               0                 0\n",
      "Recall                            0               0               0               0                 0\n",
      "RootMeanSquaredError              0               0.00249697      0.0288091       0.0288091         0.0187303\n",
      "SparseCategoricalAccuracy         0.991389        0.991389        0.991389        0.991389          0.991389\n",
      "SparseCategoricalCrossentropy     0               0               0               0                 0\n",
      "SparseTopKCategoricalAccuracy     1               1               1               1                 1\n",
      "SquaredHinge                      0.99919         0.999205        0.999965        0.999965          0.999516\n",
      "Sum                               1.55794         1.52719         0.0640131       0.0640131         0.926464\n",
      "TopKCategoricalAccuracy           1               1               1               1                 1\n",
      "TrueNegatives                  3569            3569            3569            3569              3569\n",
      "TruePositives                     0               0               0               0                 0\n",
      "-----------------------------  -------------  ---------------  --------------  --------------  ----------------\n"
     ]
    },
    {
     "data": {
      "text/plain": "<Figure size 1440x1440 with 5 Axes>",
      "image/png": "[encoded data removed]"
     },
     "metadata": {
      "needs_background": "light"
     },
     "output_type": "display_data"
    }
   ],
   "source": [
    "images_worms, augmented_worms = load_from_file(WORMS_DST)\n",
    "showImagesMatrix([images_worms[0], augmented_worms[0], augmented_worms[2], augmented_worms[5], augmented_worms[16]], 5)"
   ],
   "metadata": {
    "collapsed": false,
    "pycharm": {
     "name": "#%%\n"
    }
   }
  },
  {
   "cell_type": "code",
   "execution_count": 32,
   "outputs": [
    {
     "name": "stdout",
     "output_type": "stream",
     "text": [
      "-----------------------------  -------------  ----------------  --------------  --------------  --------------\n",
      "Image 0 vs image:                 0                1               2               3               4\n",
      "mean                              0               -8.82796        -7.08274        -7.62399        -6.84479\n",
      "avg_hash                          0                0.00104058      0.00208117      0.00416233      0\n",
      "p_hash                            0                0.0332986       0.00416233      0.049948        0.0332986\n",
      "d_hash                            0                0               0               0.00208117      0.00312175\n",
      "haar_hash                         0                0.0228928       0.0145682       0.0270552       0.0187305\n",
      "db4_hash                          0                0.069719        0.0707596       0.0738814       0.0530697\n",
      "AUC                               1                0.725065        0.819878        0.59442         0.675933\n",
      "Accuracy                          1                0.989722        0.985           0.986111        0.988611\n",
      "BinaryAccuracy                    0.991389         0.991389        0.99            0.990833        0.989722\n",
      "BinaryCrossentropy                0.00376002       0.0130543       0.0117198       0.0220373       0.0208661\n",
      "BinaryIoU                         1                0.499722        0.498194        0.499444        0.498472\n",
      "CategoricalAccuracy               1                1               1               1               1\n",
      "CategoricalCrossentropy         nan              nan             nan             nan             nan\n",
      "CategoricalHinge                  1.00075          1.00102         1.00328         1.0018          1.00238\n",
      "CosineSimilarity                  0.00861111       0.00388889      0.00555556      0.00166667      0.00305556\n",
      "FalseNegatives                   31               29              23              29              26\n",
      "FalsePositives                    0                0               5               2               6\n",
      "Hinge                             0.999567         0.999668        0.99943         0.999848        0.999745\n",
      "KLDivergence                      0                0.00940193      0.00413065      0.0179676       0.014876\n",
      "LogCoshError                      0                0.000208631     0.000683088     0.000474169     0.000788302\n",
      "Mean                              0.26713          0.196777        0.129023        0.0720378       0.0880635\n",
      "MeanAbsoluteError                 0                0.00181564      0.00382888      0.0030644       0.00344191\n",
      "MeanAbsolutePercentageError       0           416838               2.05601e+06     1.36172e+06     1.49118e+06\n",
      "MeanSquaredError                  0                0.000422934     0.00141787      0.000974322     0.00167211\n",
      "MeanSquaredLogarithmicError       0                0.000302415     0.000885497     0.000681774     0.00100239\n",
      "Poisson                           0.0040069        0.0134739       0.0109353       0.022463        0.020157\n",
      "Precision                         0                1               0.615385        0.5             0.454545\n",
      "Recall                            0                0.0645161       0.258064        0.0645161       0.16129\n",
      "RootMeanSquaredError              0                0.0205654       0.0376546       0.0312141       0.0408914\n",
      "SparseCategoricalAccuracy         0.991389         0.991389        0.991389        0.991389        0.991389\n",
      "SparseCategoricalCrossentropy     0                0               0               0               0\n",
      "SparseTopKCategoricalAccuracy     1                1               1               1               1\n",
      "SquaredHinge                      0.99919          0.999388        0.998957        0.999715        0.999532\n",
      "Sum                               1.55794          1.1937          2.05199         0.546829        0.917532\n",
      "TopKCategoricalAccuracy           1                1               1               1               1\n",
      "TrueNegatives                  3569             3569            3564            3567            3563\n",
      "TruePositives                     0                2               8               2               5\n",
      "-----------------------------  -------------  ----------------  --------------  --------------  --------------\n"
     ]
    },
    {
     "data": {
      "text/plain": "<Figure size 1440x1440 with 5 Axes>",
      "image/png": "[encoded data removed]"
     },
     "metadata": {
      "needs_background": "light"
     },
     "output_type": "display_data"
    }
   ],
   "source": [
    "showImagesMatrix([images_worms[0], images_worms[1], images_worms[2], images_worms[3], images_worms[4]], 5)"
   ],
   "metadata": {
    "collapsed": false,
    "pycharm": {
     "name": "#%%\n"
    }
   }
  },
  {
   "cell_type": "code",
   "execution_count": 33,
   "outputs": [
    {
     "name": "stdout",
     "output_type": "stream",
     "text": [
      "-----------------------------  -------------  ----------------  --------------  --------------\n",
      "Image 0 vs image:                 0                1               2               3\n",
      "mean                              0               -7.51914        -8.0103         -6.99381\n",
      "avg_hash                          0                0               0               0.00189036\n",
      "p_hash                            0                0.0378072       0.0378072       0.0831758\n",
      "d_hash                            0                0.00189036      0.00378072      0.00567108\n",
      "haar_hash                         0                0.0151229       0.0396975       0.0396975\n",
      "db4_hash                          0                0.0586011       0.155009        0.073724\n",
      "AUC                               1                0.758189        0.543478        0.755661\n",
      "Accuracy                          1                0.988333        0.993611        0.982222\n",
      "BinaryAccuracy                    0.993611         0.993611        0.993611        0.993611\n",
      "BinaryCrossentropy                0.0033145        0.0151475       0.0221525       0.0151436\n",
      "BinaryIoU                         1                1               1               1\n",
      "CategoricalAccuracy               1                1               1               1\n",
      "CategoricalCrossentropy         nan              nan             nan             nan\n",
      "CategoricalHinge                  1.00066          1.00133         1.00007         1.0023\n",
      "CosineSimilarity                  0.00638889       0.00333333      0.000555556     0.00333333\n",
      "FalseNegatives                   23               23              23              23\n",
      "FalsePositives                    0                0               0               0\n",
      "Hinge                             0.999561         0.999853        0.999964        0.999852\n",
      "KLDivergence                      0                0.0119319       0.020989        0.0107244\n",
      "LogCoshError                      0                0.00028379      0.000201823     0.000407884\n",
      "Mean                              0.285851         0.0910329       0.260829        0.0568465\n",
      "MeanAbsoluteError                 0                0.00221306      0.00143793      0.00316626\n",
      "MeanAbsolutePercentageError       0           975027               0.59022         1.96497e+06\n",
      "MeanSquaredError                  0                0.000576766     0.000410341     0.000830115\n",
      "MeanSquaredLogarithmicError       0                0.000428436     0.000311277     0.000618001\n",
      "Poisson                           0.00356126       0.0155776       0.0231513       0.0153464\n",
      "Precision                         0                0               0               0\n",
      "Recall                            0                0               0               0\n",
      "RootMeanSquaredError              0                0.024016        0.0202569       0.0288117\n",
      "SparseCategoricalAccuracy         0.993611         0.993611        0.993611        0.993611\n",
      "SparseCategoricalCrossentropy     0                0               0               0\n",
      "SparseTopKCategoricalAccuracy     1                1               1               1\n",
      "SquaredHinge                      0.999166         0.999717        0.999932        0.999714\n",
      "Sum                               1.58025          0.530919        0.128323        0.531332\n",
      "TopKCategoricalAccuracy           1                1               1               1\n",
      "TrueNegatives                  3577             3577            3577            3577\n",
      "TruePositives                     0                0               0               0\n",
      "-----------------------------  -------------  ----------------  --------------  --------------\n"
     ]
    },
    {
     "data": {
      "text/plain": "<Figure size 1440x1440 with 4 Axes>",
      "image/png": "[encoded data removed]"
     },
     "metadata": {
      "needs_background": "light"
     },
     "output_type": "display_data"
    }
   ],
   "source": [
    "showImagesMatrix([images[0], images_worms[0], images_dots[0], images_dots4x[0][2:62,2:62]], 4)"
   ],
   "metadata": {
    "collapsed": false,
    "pycharm": {
     "name": "#%%\n"
    }
   }
  }
 ],
 "metadata": {
  "kernelspec": {
   "display_name": "Python 3",
   "language": "python",
   "name": "python3"
  },
  "language_info": {
   "codemirror_mode": {
    "name": "ipython",
    "version": 2
   },
   "file_extension": ".py",
   "mimetype": "text/x-python",
   "name": "python",
   "nbconvert_exporter": "python",
   "pygments_lexer": "ipython2",
   "version": "2.7.6"
  }
 },
 "nbformat": 4,
 "nbformat_minor": 0
}