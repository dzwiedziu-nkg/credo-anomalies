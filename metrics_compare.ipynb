{
 "cells": [
  {
   "cell_type": "code",
   "execution_count": 1,
   "outputs": [],
   "source": [
    "from dataset_loader import load_from_file\n",
    "from tabulate import tabulate\n",
    "from matplotlib.pyplot import figure, imshow, axis\n",
    "from commons import *\n",
    "\n",
    "# obrót do poziomu, metodami:\n",
    "# 1. hough lines\n",
    "# 2. tomkowe\n",
    "# 3. tamtą pierwszą biblioteką od eliciticy\n",
    "# informacja wzjaemna - między jednym obrazkiem a porównywanym\n",
    "# jeszcze te metryki: https://towardsdatascience.com/measuring-similarity-in-two-images-using-python-b72233eb53c6\n",
    "\n",
    "\n",
    "DOTS_DST = 'cache/dots_v2.pickle'\n",
    "TRACKS_DST = 'cache/tracks_v2.pickle'\n",
    "WORMS_DST = 'cache/worms_v2.pickle'\n",
    "ARTIFACTS_DST = 'cache/artifacts_v2.pickle'\n",
    "\n",
    "DOTS_DSTx4 = 'cache/dots_v3.pickle'\n",
    "TRACKS_DSTx4 = 'cache/tracks_v3.pickle'\n",
    "WORMS_DSTx4 = 'cache/worms_v3.pickle'\n",
    "ARTIFACTS_DSTx4 = 'cache/artifacts_v3.pickle'\n",
    "\n",
    "\n",
    "tf_classes = [ tf.keras.metrics.AUC,\n",
    "    tf.keras.metrics.Accuracy,\n",
    "    tf.keras.metrics.BinaryAccuracy,\n",
    "    tf.keras.metrics.BinaryCrossentropy,\n",
    "    tf.keras.metrics.BinaryIoU,\n",
    "    tf.keras.metrics.CategoricalAccuracy,\n",
    "    tf.keras.metrics.CategoricalCrossentropy,\n",
    "    tf.keras.metrics.CategoricalHinge,\n",
    "    tf.keras.metrics.CosineSimilarity,\n",
    "    tf.keras.metrics.FalseNegatives,\n",
    "    tf.keras.metrics.FalsePositives,\n",
    "    tf.keras.metrics.Hinge,\n",
    "    #tf.keras.metrics.IoU,\n",
    "    tf.keras.metrics.KLDivergence,\n",
    "    tf.keras.metrics.LogCoshError,\n",
    "    tf.keras.metrics.Mean,\n",
    "    tf.keras.metrics.MeanAbsoluteError,\n",
    "    tf.keras.metrics.MeanAbsolutePercentageError,\n",
    "    #tf.keras.metrics.MeanIoU,\n",
    "    #tf.keras.metrics.MeanMetricWrapper,\n",
    "    #tf.keras.metrics.MeanRelativeError,\n",
    "    tf.keras.metrics.MeanSquaredError,\n",
    "    tf.keras.metrics.MeanSquaredLogarithmicError,\n",
    "    #tf.keras.metrics.MeanTensor,\n",
    "    #tf.keras.metrics.Metric,\n",
    "    #tf.keras.metrics.OneHotIoU,\n",
    "    #tf.keras.metrics.OneHotMeanIoU,\n",
    "    tf.keras.metrics.Poisson,\n",
    "    tf.keras.metrics.Precision,\n",
    "    #tf.keras.metrics.PrecisionAtRecall,\n",
    "    tf.keras.metrics.Recall,\n",
    "    #tf.keras.metrics.RecallAtPrecision,\n",
    "    tf.keras.metrics.RootMeanSquaredError,\n",
    "    #tf.keras.metrics.SensitivityAtSpecificity,\n",
    "    tf.keras.metrics.SparseCategoricalAccuracy,\n",
    "    tf.keras.metrics.SparseCategoricalCrossentropy,\n",
    "    tf.keras.metrics.SparseTopKCategoricalAccuracy,\n",
    "    #tf.keras.metrics.SpecificityAtSensitivity,\n",
    "    tf.keras.metrics.SquaredHinge,\n",
    "    tf.keras.metrics.Sum,\n",
    "    tf.keras.metrics.TopKCategoricalAccuracy,\n",
    "    tf.keras.metrics.TrueNegatives,\n",
    "    tf.keras.metrics.TruePositives ]\n",
    "\n",
    "def generic_tf_metrics(cls):\n",
    "    def tf_metrics(image, recon):\n",
    "        m = cls()\n",
    "        m.update_state(image, recon)\n",
    "        return m.result().numpy()\n",
    "    return tf_metrics, cls.__name__\n",
    "\n",
    "tf_mean = generic_tf_metrics(tf.keras.metrics.Mean)\n",
    "\n",
    "\n",
    "def tf_kl_divergence(image, recon):\n",
    "    m = tf.keras.metrics.KLDivergence()\n",
    "    m.update_state(image, recon)\n",
    "    return m.result().numpy()\n",
    "\n",
    "\n",
    "def tf_accuracy(image, recon):\n",
    "    m = tf.keras.metrics.Accuracy()\n",
    "    m.update_state(image, recon)\n",
    "    return m.result().numpy()\n",
    "\n",
    "def tf_mse(image, recon):\n",
    "    m = tf.keras.metrics.MeanSquaredError()\n",
    "    m.update_state(image, recon)\n",
    "    return m.result().numpy()\n",
    "\n",
    "\n",
    "\n",
    "\n",
    "funcs = [\n",
    "    (dm_func_mean2, 'mean'),\n",
    "    (dm_func_avg_hash, 'avg_hash'),\n",
    "    (dm_func_p_hash, 'p_hash'),\n",
    "    (dm_func_d_hash,  'd_hash'),\n",
    "    (dm_func_haar_hash,  'haar_hash'),\n",
    "    (dm_func_db4_hash, 'db4_hash')\n",
    "] #, tf_kl_divergence, tf_accuracy, tf_mse]\n",
    "for c in tf_classes:\n",
    "    funcs.append(generic_tf_metrics(c))\n",
    "\n",
    "\n",
    "def showImagesMatrix(images, col=10):\n",
    "\n",
    "    hSize = 20\n",
    "    wSize = 20\n",
    "\n",
    "    fig = figure( figsize=(wSize, hSize))\n",
    "    number_of_files = len(images)\n",
    "    row = number_of_files // col\n",
    "    if (number_of_files%col != 0):\n",
    "        row += 1\n",
    "\n",
    "    row_head = ['Image 0 vs image:']\n",
    "    row_funcs = []\n",
    "\n",
    "    for f, n in funcs:\n",
    "        row_funcs.append([n])\n",
    "\n",
    "    img0 = np.expand_dims(images[0], axis=-1)\n",
    "\n",
    "    for i in range(number_of_files):\n",
    "        row_head.append(str(i))\n",
    "        a=fig.add_subplot(row,col,i+1)\n",
    "        image = np.expand_dims(images[i], axis=-1)\n",
    "        imshow(image,cmap='Greys_r')\n",
    "        axis('off')\n",
    "\n",
    "        #print('%010s | %6.3f' % ('dm_func_mean2', v))\n",
    "        for fi, (f, n) in enumerate(funcs):\n",
    "            v = f(img0, image)\n",
    "            row_funcs[fi].append(str(v))\n",
    "\n",
    "    table = [row_head, *row_funcs]\n",
    "    print(tabulate(table))\n",
    "\n",
    "\n",
    "\n",
    "images, augmented = load_from_file(TRACKS_DST)"
   ],
   "metadata": {
    "collapsed": false,
    "pycharm": {
     "name": "#%%\n"
    }
   }
  },
  {
   "cell_type": "code",
   "execution_count": 2,
   "outputs": [
    {
     "name": "stdout",
     "output_type": "stream",
     "text": [
      "-----------------------------  -------------  ----------------  --------------  ----------------  --------------\n",
      "Image 0 vs image:                 0                1               2                 3               4\n",
      "mean                              0               -6.83921        -6.34072          -8.40876        -6.34016\n",
      "avg_hash                          0                0               0                 0               0\n",
      "p_hash                            0                0.0221607       0.0886427         0.0886427       0.0886427\n",
      "d_hash                            0                0               0                 0.00277008      0.00277008\n",
      "haar_hash                         0                0.0470914       0.0941828         0.0498615       0.116343\n",
      "db4_hash                          0                0.102493        0.238227          0.119114        0.354571\n",
      "AUC                               1                0.708616        0.603235          0.815224        0.603235\n",
      "Accuracy                          1                0.990278        0.990556          0.992778        0.990556\n",
      "BinaryAccuracy                    0.994722         0.994722        0.994167          0.994722        0.994167\n",
      "BinaryCrossentropy                0.002982         0.0158283       0.0203103         0.00850612      0.020311\n",
      "BinaryIoU                         0.499444         1               0.499444          0.499444        0.499444\n",
      "CategoricalAccuracy               1                1               1                 1               1\n",
      "CategoricalCrossentropy         nan              nan             nan               nan             nan\n",
      "CategoricalHinge                  1.00045          1.00119         1.00134           1.00066         1.00134\n",
      "CosineSimilarity                  0.00527778       0.00222222      0.00111111        0.00333333      0.00111111\n",
      "FalseNegatives                   15               19              17                15              17\n",
      "FalsePositives                    0                0               2                 0               2\n",
      "Hinge                             0.999447         0.99979         0.999892          0.999553        0.999892\n",
      "KLDivergence                      0                0.0129864       0.0175466         0.00565623      0.0175469\n",
      "LogCoshError                      0                0.000308334     0.00043448        0.000105534     0.000434636\n",
      "Mean                              0.355341         0.13065         0.0692063         0.287102        0.0690941\n",
      "MeanAbsoluteError                 0                0.00215422      0.00270225        0.00112781      0.00270225\n",
      "MeanAbsolutePercentageError       0           947266               1.16267e+06  384532               1.16267e+06\n",
      "MeanSquaredError                  0                0.000630563     0.000890819       0.000212445     0.000891168\n",
      "MeanSquaredLogarithmicError       0                0.000453012     0.000623316       0.000158349     0.000623509\n",
      "Poisson                           0.00330923       0.0163482       0.0208558         0.00896547      0.0208562\n",
      "Precision                         1                0               0.5               1               0.5\n",
      "Recall                            0.210526         0               0.105263          0.210526        0.105263\n",
      "RootMeanSquaredError              0                0.025111        0.0298466         0.0145755       0.0298524\n",
      "SparseCategoricalAccuracy         0.994722         0.994722        0.994722          0.994722        0.994722\n",
      "SparseCategoricalCrossentropy     0                0               0                 0               0\n",
      "SparseTopKCategoricalAccuracy     1                1               1                 1               1\n",
      "SquaredHinge                      0.998998         0.999611        0.999795          0.999189        0.999795\n",
      "Sum                               1.9913           0.756882        0.387827          1.6089          0.387198\n",
      "TopKCategoricalAccuracy           1                1               1                 1               1\n",
      "TrueNegatives                  3581             3581            3579              3581            3579\n",
      "TruePositives                     4                0               2                 4               2\n",
      "-----------------------------  -------------  ----------------  --------------  ----------------  --------------\n"
     ]
    },
    {
     "data": {
      "text/plain": "<Figure size 1440x1440 with 5 Axes>",
      "image/png": "[encoded data removed]"
     },
     "metadata": {
      "needs_background": "light"
     },
     "output_type": "display_data"
    }
   ],
   "source": [
    "showImagesMatrix([images[0], augmented[0], augmented[2], augmented[5], augmented[16]], 5)"
   ],
   "metadata": {
    "collapsed": false,
    "pycharm": {
     "name": "#%%\n"
    }
   }
  },
  {
   "cell_type": "code",
   "execution_count": 3,
   "outputs": [
    {
     "name": "stdout",
     "output_type": "stream",
     "text": [
      "-----------------------------  -------------  ----------------  ----------------  ----------------  --------------\n",
      "Image 0 vs image:                 0                1                 2                 3               4\n",
      "mean                              0               -7.01052          -7.81738          -7.42434        -6.12148\n",
      "avg_hash                          0                0                 0                 0.00277008      0.00554017\n",
      "p_hash                            0                0.0110803         0                 0.0886427       0.0609418\n",
      "d_hash                            0                0.00277008        0                 0.00554017      0.00831025\n",
      "haar_hash                         0                0.0166205         0.0415512         0.0443213       0.0581717\n",
      "db4_hash                          0                0.113573          0.110803          0.246537        0.199446\n",
      "AUC                               1                0.656859          0.762783          0.709542        0.55086\n",
      "Accuracy                          1                0.9925            0.993333          0.992222        0.990833\n",
      "BinaryAccuracy                    0.994722         0.994722          0.994722          0.994722        0.993889\n",
      "BinaryCrossentropy                0.002982         0.0172295         0.012298          0.0152926       0.0230368\n",
      "BinaryIoU                         0.499444         1                 1                 1               0.499306\n",
      "CategoricalAccuracy               1                1                 1                 1               1\n",
      "CategoricalCrossentropy         nan              nan               nan               nan             nan\n",
      "CategoricalHinge                  1.00045          1.00081           1.00056           1.00063         1.00143\n",
      "CosineSimilarity                  0.00527778       0.00166667        0.00277778        0.00222222      0.000555556\n",
      "FalseNegatives                   15               19                19                19              17\n",
      "FalsePositives                    0                0                 0                 0               3\n",
      "Hinge                             0.999447         0.999801          0.999695          0.999813        0.999864\n",
      "KLDivergence                      0                0.014938          0.00996413        0.013216        0.020134\n",
      "LogCoshError                      0                0.000273672       0.000157777       0.000204897     0.000502885\n",
      "Mean                              0.355341         0.164231          0.259527          0.18696         0.0795912\n",
      "MeanAbsoluteError                 0                0.00182353        0.00131954        0.00148475      0.00285258\n",
      "MeanAbsolutePercentageError       0           655411            250182            451344               1.36129e+06\n",
      "MeanSquaredError                  0                0.000559964       0.00032009        0.000420329     0.00103702\n",
      "MeanSquaredLogarithmicError       0                0.000405486       0.000230918       0.000302923     0.000721564\n",
      "Poisson                           0.00330923       0.0179037         0.0128899         0.0159708       0.0235907\n",
      "Precision                         1                0                 0                 0               0.4\n",
      "Recall                            0.210526         0                 0                 0               0.105263\n",
      "RootMeanSquaredError              0                0.0236636         0.017891          0.0205019       0.0322029\n",
      "SparseCategoricalAccuracy         0.994722         0.994722          0.994722          0.994722        0.994722\n",
      "SparseCategoricalCrossentropy     0                0                 0                 0               0\n",
      "SparseTopKCategoricalAccuracy     1                1                 1                 1               1\n",
      "SquaredHinge                      0.998998         0.999635          0.999439          0.999649        0.999773\n",
      "Sum                               1.9913           0.717249          1.09612           0.674523        0.488264\n",
      "TopKCategoricalAccuracy           1                1                 1                 1               1\n",
      "TrueNegatives                  3581             3581              3581              3581            3578\n",
      "TruePositives                     4                0                 0                 0               2\n",
      "-----------------------------  -------------  ----------------  ----------------  ----------------  --------------\n"
     ]
    },
    {
     "data": {
      "text/plain": "<Figure size 1440x1440 with 5 Axes>",
      "image/png": "[encoded data removed]"
     },
     "metadata": {
      "needs_background": "light"
     },
     "output_type": "display_data"
    }
   ],
   "source": [
    "showImagesMatrix([images[0], images[1], images[2], images[3], images[4]], 5)"
   ],
   "metadata": {
    "collapsed": false,
    "pycharm": {
     "name": "#%%\n"
    }
   }
  },
  {
   "cell_type": "code",
   "execution_count": 4,
   "outputs": [
    {
     "name": "stdout",
     "output_type": "stream",
     "text": [
      "-----------------------------  --------------  ---------------  ----------------  ----------------  ----------------\n",
      "Image 0 vs image:                 0                1                 2                 3                 4\n",
      "mean                              0               -5.80507          -2.68695          -2.68695          -2.68695\n",
      "avg_hash                          0                0                 0                 0                 0\n",
      "p_hash                            0                0                 8                 8                 8\n",
      "d_hash                            0                0                 0                 0                 0\n",
      "haar_hash                         0                2.75              8.25             10.5               4.5\n",
      "db4_hash                          0                4.25             11.25             19                 9\n",
      "AUC                               1                0.749861          0.499722          0.499722          0.499722\n",
      "Accuracy                          1                0.998889          0.998889          0.998889          0.998889\n",
      "BinaryAccuracy                    0.999444         0.999444          0.999444          0.999444          0.999444\n",
      "BinaryCrossentropy                0.000260961      0.000569573       0.00249123        0.00249123        0.00249123\n",
      "BinaryIoU                         1                1                 1                 1                 1\n",
      "CategoricalAccuracy               1                1                 1                 1                 1\n",
      "CategoricalCrossentropy         nan              nan               nan               nan               nan\n",
      "CategoricalHinge                  1.00002          1.00008           1.00015           1.00015           1.00015\n",
      "CosineSimilarity                  0.000555555      0.000277778       0                 0                 0\n",
      "FalseNegatives                    2                2                 2                 2                 2\n",
      "FalsePositives                    0                0                 0                 0                 0\n",
      "Hinge                             0.999938         0.999952          1                 1                 1\n",
      "KLDivergence                      0                0.000284966       0.0022501         0.0022501         0.0022501\n",
      "LogCoshError                      0                7.13496e-06       6.00169e-05       6.00169e-05       6.00169e-05\n",
      "Mean                              0.417242         0.26999           0                 0                 0\n",
      "MeanAbsoluteError                 0                0.000121644       0.000297749       0.000297749       0.000297749\n",
      "MeanAbsolutePercentageError       0            74869.8          148874            148874            148874\n",
      "MeanSquaredError                  0                1.43084e-05       0.000124233       0.000124233       0.000124233\n",
      "MeanSquaredLogarithmicError       0                1.15667e-05       8.42727e-05       8.42727e-05       8.42727e-05\n",
      "Poisson                           0.000298349      0.000611411       0.00254845        0.00254845        0.00254845\n",
      "Precision                         0                0                 0                 0                 0\n",
      "Recall                            0                0                 0                 0                 0\n",
      "RootMeanSquaredError              0                0.00378264        0.011146          0.011146          0.011146\n",
      "SparseCategoricalAccuracy         0.999444         0.999444          0.999444          0.999444          0.999444\n",
      "SparseCategoricalCrossentropy     0                0                 0                 0                 0\n",
      "SparseTopKCategoricalAccuracy     1                1                 1                 1                 1\n",
      "SquaredHinge                      0.999889         0.999913          1                 1                 1\n",
      "Sum                               0.22362          0.172008          0                 0                 0\n",
      "TopKCategoricalAccuracy           1                1                 1                 1                 1\n",
      "TrueNegatives                  3598             3598              3598              3598              3598\n",
      "TruePositives                     0                0                 0                 0                 0\n",
      "-----------------------------  --------------  ---------------  ----------------  ----------------  ----------------\n"
     ]
    },
    {
     "data": {
      "text/plain": "<Figure size 1440x1440 with 5 Axes>",
      "image/png": "[encoded data removed]"
     },
     "metadata": {
      "needs_background": "light"
     },
     "output_type": "display_data"
    }
   ],
   "source": [
    "images_dots, augmented_dots = load_from_file(DOTS_DST)\n",
    "\n",
    "showImagesMatrix([images_dots[0], augmented_dots[0], augmented_dots[2], augmented_dots[5], augmented_dots[16]], 5)"
   ],
   "metadata": {
    "collapsed": false,
    "pycharm": {
     "name": "#%%\n"
    }
   }
  },
  {
   "cell_type": "code",
   "execution_count": 5,
   "outputs": [
    {
     "name": "stdout",
     "output_type": "stream",
     "text": [
      "-----------------------------  --------------  ----------------  ----------------  ----------------  ----------------\n",
      "Image 0 vs image:                 0                 1                 2                 3                 4\n",
      "mean                              0                -3.55451          -4.05199          -1.41303          -1.65024\n",
      "avg_hash                          0                 0                 0                 0                 0\n",
      "p_hash                            0                 0                 0                 0                 1\n",
      "d_hash                            0                 0                 0                 0                 0\n",
      "haar_hash                         0                 2.75              3.5               5.75              5.75\n",
      "db4_hash                          0                 4                 7.75              6                 9.75\n",
      "AUC                               1                 0.999861          0.999861          0.749791          0.999583\n",
      "Accuracy                          1                 0.999167          0.998889          0.998611          0.997778\n",
      "BinaryAccuracy                    0.999444          0.999444          0.999444          0.998889          0.998889\n",
      "BinaryCrossentropy                0.000260961       0.00045088        0.000440538       0.00125115        0.00105938\n",
      "BinaryIoU                         1                 0.499861          1                 0.499583          0.499583\n",
      "CategoricalAccuracy               1                 1                 1                 1                 1\n",
      "CategoricalCrossentropy         nan               nan               nan               nan               nan\n",
      "CategoricalHinge                  1.00002           1.00016           1.00018           1.00049           1.00065\n",
      "CosineSimilarity                  0.000555555       0.000555556       0.000555556       0.000277778       0.000555556\n",
      "FalseNegatives                    2                 1                 2                 1                 1\n",
      "FalsePositives                    0                 0                 0                 2                 2\n",
      "Hinge                             0.999938          0.999926          0.999936          0.999909          0.999923\n",
      "KLDivergence                      0                -2.52527e-05      -1.7032e-05        0.000200619      -4.86184e-05\n",
      "LogCoshError                      0                 3.28245e-05       2.35781e-05       0.000142039       0.000123133\n",
      "Mean                              0.417242          0.238503          0.205526          0.135725          0.0950846\n",
      "MeanAbsoluteError                 0                 0.000162672       0.000164125       0.000562455       0.000656137\n",
      "MeanAbsolutePercentageError       0            135076            137981            478214            563544\n",
      "MeanSquaredError                  0                 6.80887e-05       4.82303e-05       0.000300418       0.00025487\n",
      "MeanSquaredLogarithmicError       0                 4.46743e-05       3.50904e-05       0.000180945       0.00017297\n",
      "Poisson                           0.000298349       0.000435769       0.000445443       0.00102366        0.00090587\n",
      "Precision                         0                 1                 0                 0.333333          0.333333\n",
      "Recall                            0                 0.5               0                 0.5               0.5\n",
      "RootMeanSquaredError              0                 0.00825159        0.0069448         0.0173326         0.0159647\n",
      "SparseCategoricalAccuracy         0.999444          0.999444          0.999444          0.999444          0.999444\n",
      "SparseCategoricalCrossentropy     0                 0                 0                 0                 0\n",
      "SparseTopKCategoricalAccuracy     1                 1                 1                 1                 1\n",
      "SquaredHinge                      0.999889          0.99987           0.999885          0.999847          0.999865\n",
      "Sum                               0.22362           0.267497          0.231586          0.329111          0.275559\n",
      "TopKCategoricalAccuracy           1                 1                 1                 1                 1\n",
      "TrueNegatives                  3598              3598              3598              3596              3596\n",
      "TruePositives                     0                 1                 0                 1                 1\n",
      "-----------------------------  --------------  ----------------  ----------------  ----------------  ----------------\n"
     ]
    },
    {
     "data": {
      "text/plain": "<Figure size 1440x1440 with 5 Axes>",
      "image/png": "[encoded data removed]"
     },
     "metadata": {
      "needs_background": "light"
     },
     "output_type": "display_data"
    }
   ],
   "source": [
    "showImagesMatrix([images_dots[0], images_dots[1], images_dots[2], images_dots[3], images_dots[4]], 5)"
   ],
   "metadata": {
    "collapsed": false,
    "pycharm": {
     "name": "#%%\n"
    }
   }
  },
  {
   "cell_type": "code",
   "execution_count": 6,
   "outputs": [
    {
     "name": "stdout",
     "output_type": "stream",
     "text": [
      "-----------------------------  -------------  ----------------  --------------  --------------  --------------\n",
      "Image 0 vs image:                 0                1               2               3               4\n",
      "mean                              0              -11.274          -9.12119        -8.85051        -9.13759\n",
      "avg_hash                          0                0.00110947      0.000739645     0.000739645     0.000739645\n",
      "p_hash                            0                0               0.0118343       0.0118343       0.0118343\n",
      "d_hash                            0                0               0.00147929      0.00221893      0.00147929\n",
      "haar_hash                         0                0.000739645     0.00628698      0.0110947       0.0110947\n",
      "db4_hash                          0                0.0122041       0.0188609       0.0358728       0.0236686\n",
      "AUC                               1                0.893244        0.659215        0.551748        0.668899\n",
      "Accuracy                          1                0.983398        0.97876         0.976562        0.979004\n",
      "BinaryAccuracy                    0.987305         0.987305        0.987305        0.987305        0.987305\n",
      "BinaryCrossentropy                0.00533309       0.00886725      0.0275602       0.0358015       0.0269766\n",
      "BinaryIoU                         1                1               1               1               1\n",
      "CategoricalAccuracy               1                1               1               1               1\n",
      "CategoricalCrossentropy         nan              nan             nan             nan             nan\n",
      "CategoricalHinge                  1.00108          1.00131         1.00205         1.00225         1.00204\n",
      "CosineSimilarity                  0.0126953        0.0100098       0.00415039      0.00146484      0.00439453\n",
      "FalseNegatives                   52               52              52              52              52\n",
      "FalsePositives                    0                0               0               0               0\n",
      "Hinge                             0.999396         0.999506        0.999882        0.999982        0.999876\n",
      "KLDivergence                      0                0.00353517      0.0226798       0.0312278       0.0220719\n",
      "LogCoshError                      0                0.000108677     0.000476841     0.000574977     0.000471459\n",
      "Mean                              0.264039         0.215056        0.0516853       0.00785956      0.0540846\n",
      "MeanAbsoluteError                 0                0.0016017       0.00371221      0.00433453      0.00367073\n",
      "MeanAbsolutePercentageError       0           272069               1.4907e+06      2.12418e+06     1.47187e+06\n",
      "MeanSquaredError                  0                0.000218382     0.000971144     0.00117157      0.000960172\n",
      "MeanSquaredLogarithmicError       0                0.00016006      0.00072098      0.000883482     0.000712057\n",
      "Poisson                           0.00567456       0.00922069      0.0283543       0.0369024       0.0277464\n",
      "Precision                         0                0               0               0               0\n",
      "Recall                            0                0               0               0               0\n",
      "RootMeanSquaredError              0                0.0147778       0.0311632       0.0342282       0.0309866\n",
      "SparseCategoricalAccuracy         0.987305         0.987305        0.987305        0.987305        0.987305\n",
      "SparseCategoricalCrossentropy     0                0               0               0               0\n",
      "SparseTopKCategoricalAccuracy     1                1               1               1               1\n",
      "SquaredHinge                      0.998861         0.999061        0.999768        0.999964        0.999758\n",
      "Sum                               2.47299          2.02387         0.484086        0.0736127       0.506557\n",
      "TopKCategoricalAccuracy           1                1               1               1               1\n",
      "TrueNegatives                  4044             4044            4044            4044            4044\n",
      "TruePositives                     0                0               0               0               0\n",
      "-----------------------------  -------------  ----------------  --------------  --------------  --------------\n"
     ]
    },
    {
     "data": {
      "text/plain": "<Figure size 1440x1440 with 5 Axes>",
      "image/png": "[encoded data removed]"
     },
     "metadata": {
      "needs_background": "light"
     },
     "output_type": "display_data"
    }
   ],
   "source": [
    "images_dots4x, augmented_dots4x = load_from_file(DOTS_DSTx4)\n",
    "showImagesMatrix([images_dots4x[0], augmented_dots4x[0], augmented_dots4x[2], augmented_dots4x[5], augmented_dots4x[16]], 5)"
   ],
   "metadata": {
    "collapsed": false,
    "pycharm": {
     "name": "#%%\n"
    }
   }
  },
  {
   "cell_type": "code",
   "execution_count": 7,
   "outputs": [
    {
     "name": "stdout",
     "output_type": "stream",
     "text": [
      "-----------------------------  -------------  --------------  --------------  --------------  --------------\n",
      "Image 0 vs image:                 0              1               2               3               4\n",
      "mean                              0             -9.74587       -10.1547         -7.22731        -7.34377\n",
      "avg_hash                          0              0.00110947      0.000369822     0.00110947      0.00184911\n",
      "p_hash                            0              0               0               0               0.000739645\n",
      "d_hash                            0              0.00110947      0.00184911      0.00184911      0.00258876\n",
      "haar_hash                         0              0.000369822     0.00628698      0.00813609      0.00591716\n",
      "db4_hash                          0              0.00850592      0.0199704       0.022929        0.0203402\n",
      "AUC                               1              0.950118        0.940082        0.976518        0.992819\n",
      "Accuracy                          1              0.981445        0.979004        0.973633        0.961426\n",
      "BinaryAccuracy                    0.987305       0.987305        0.987305        0.984619        0.984619\n",
      "BinaryCrossentropy                0.00533309     0.00805008      0.00813723      0.0155993       0.016509\n",
      "BinaryIoU                         1              0.498901        1               0.495239        0.496704\n",
      "CategoricalAccuracy               1              1               1               1               1\n",
      "CategoricalCrossentropy         nan            nan             nan             nan             nan\n",
      "CategoricalHinge                  1.00108        1.00302         1.00301         1.00835         1.01045\n",
      "CosineSimilarity                  0.0126953      0.0114746       0.0112305       0.012207        0.0126953\n",
      "FalseNegatives                   52             43              52              24              36\n",
      "FalsePositives                    0              0               0              11              11\n",
      "Hinge                             0.999396       0.999158        0.999272        0.998737        0.999001\n",
      "KLDivergence                      0             -0.000123803     0.00036229     -0.00158391     -0.00140422\n",
      "LogCoshError                      0              0.000309277     0.000234422     0.00173396      0.00162159\n",
      "Mean                              0.264039       0.179063        0.163059        0.116215        0.0801973\n",
      "MeanAbsoluteError                 0              0.00252055      0.00242449      0.00862503      0.0101652\n",
      "MeanAbsolutePercentageError       0              1.11571e+06     1.3541e+06      4.80303e+06     7.46911e+06\n",
      "MeanSquaredError                  0              0.000629852     0.000474438     0.00360911      0.00332921\n",
      "MeanSquaredLogarithmicError       0              0.000426137     0.00035074      0.00220259      0.00230421\n",
      "Poisson                           0.00567456     0.00796728      0.00821498      0.0126761       0.0144356\n",
      "Precision                         0              1               0               0.717949        0.592593\n",
      "Recall                            0              0.173077        0               0.538462        0.307692\n",
      "RootMeanSquaredError              0              0.0250968       0.0217816       0.0600758       0.0576993\n",
      "SparseCategoricalAccuracy         0.987305       0.987305        0.987305        0.987305        0.987305\n",
      "SparseCategoricalCrossentropy     0              0               0               0               0\n",
      "SparseTopKCategoricalAccuracy     1              1               1               1               1\n",
      "SquaredHinge                      0.998861       0.998435        0.998631        0.997703        0.998139\n",
      "Sum                               2.47299        3.44948         2.98195         5.17531         4.09027\n",
      "TopKCategoricalAccuracy           1              1               1               1               1\n",
      "TrueNegatives                  4044           4044            4044            4033            4033\n",
      "TruePositives                     0              9               0              28              16\n",
      "-----------------------------  -------------  --------------  --------------  --------------  --------------\n"
     ]
    },
    {
     "data": {
      "text/plain": "<Figure size 1440x1440 with 5 Axes>",
      "image/png": "[encoded data removed]"
     },
     "metadata": {
      "needs_background": "light"
     },
     "output_type": "display_data"
    }
   ],
   "source": [
    "showImagesMatrix([images_dots4x[0], images_dots4x[1], images_dots4x[2], images_dots4x[3], images_dots4x[4]], 5)"
   ],
   "metadata": {
    "collapsed": false,
    "pycharm": {
     "name": "#%%\n"
    }
   }
  },
  {
   "cell_type": "code",
   "execution_count": 8,
   "outputs": [
    {
     "name": "stdout",
     "output_type": "stream",
     "text": [
      "-----------------------------  -------------  ----------------  --------------  --------------  --------------\n",
      "Image 0 vs image:                 0                1               2               3               4\n",
      "mean                              0               -9.00267        -7.7213         -7.18155        -7.62125\n",
      "avg_hash                          0                0               0               0               0\n",
      "p_hash                            0                0.0224          0.0512          0.0512          0.0512\n",
      "d_hash                            0                0.0016          0.0048          0.0048          0.0016\n",
      "haar_hash                         0                0.0048          0.008           0.0128          0.0064\n",
      "db4_hash                          0                0.0464          0.1072          0.0656          0.048\n",
      "AUC                               1                0.81845         0.637824        0.536727        0.657863\n",
      "Accuracy                          1                0.989167        0.988055        0.986667        0.988889\n",
      "BinaryAccuracy                    0.993056         0.993056        0.993056        0.993056        0.993056\n",
      "BinaryCrossentropy                0.00352709       0.0101336       0.0184065       0.0251349       0.018391\n",
      "BinaryIoU                         1                1               1               1               1\n",
      "CategoricalAccuracy               1                1               1               1               1\n",
      "CategoricalCrossentropy         nan              nan             nan             nan             nan\n",
      "CategoricalHinge                  1.0007           1.00097         1.00129         1.00156         1.00134\n",
      "CosineSimilarity                  0.00694444       0.00444444      0.00194444      0.000555556     0.00222222\n",
      "FalseNegatives                   25               25              25              25              25\n",
      "FalsePositives                    0                0               0               0               0\n",
      "Hinge                             0.999554         0.999681        0.99985         0.999984        0.999871\n",
      "KLDivergence                      0                0.00675718      0.0152268       0.0221124       0.0151732\n",
      "LogCoshError                      0                0.000121038     0.000291788     0.00042152      0.000311448\n",
      "Mean                              0.280032         0.197859        0.094235        0.00993583      0.0808939\n",
      "MeanAbsoluteError                 0                0.00142832      0.00243573      0.0030472       0.00234568\n",
      "MeanAbsolutePercentageError       0           583965               1.03486e+06     1.49637e+06     1.02142e+06\n",
      "MeanSquaredError                  0                0.000243689     0.000592336     0.00086109      0.000634869\n",
      "MeanSquaredLogarithmicError       0                0.000194933     0.000444063     0.000643063     0.000466498\n",
      "Poisson                           0.00378179       0.0105578       0.0190086       0.0258942       0.018955\n",
      "Precision                         0                0               0               0               0\n",
      "Recall                            0                0               0               0               0\n",
      "RootMeanSquaredError              0                0.0156105       0.024338        0.0293443       0.0251966\n",
      "SparseCategoricalAccuracy         0.993056         0.993056        0.993056        0.993056        0.993056\n",
      "SparseCategoricalCrossentropy     0                0               0               0               0\n",
      "SparseTopKCategoricalAccuracy     1                1               1               1               1\n",
      "SquaredHinge                      0.999165         0.999407        0.999714        0.999969        0.99975\n",
      "Sum                               1.60698          1.14882         0.540773        0.0570174       0.464215\n",
      "TopKCategoricalAccuracy           1                1               1               1               1\n",
      "TrueNegatives                  3575             3575            3575            3575            3575\n",
      "TruePositives                     0                0               0               0               0\n",
      "-----------------------------  -------------  ----------------  --------------  --------------  --------------\n"
     ]
    },
    {
     "data": {
      "text/plain": "<Figure size 1440x1440 with 5 Axes>",
      "image/png": "[encoded data removed]"
     },
     "metadata": {
      "needs_background": "light"
     },
     "output_type": "display_data"
    }
   ],
   "source": [
    "images_worms, augmented_worms = load_from_file(WORMS_DST)\n",
    "showImagesMatrix([images_worms[0], augmented_worms[0], augmented_worms[2], augmented_worms[5], augmented_worms[16]], 5)"
   ],
   "metadata": {
    "collapsed": false,
    "pycharm": {
     "name": "#%%\n"
    }
   }
  },
  {
   "cell_type": "code",
   "execution_count": 9,
   "outputs": [
    {
     "name": "stdout",
     "output_type": "stream",
     "text": [
      "-----------------------------  -------------  ----------------  --------------  --------------  --------------\n",
      "Image 0 vs image:                 0                1               2               3               4\n",
      "mean                              0               -7.74534        -6.31735        -7.18328        -6.20656\n",
      "avg_hash                          0                0               0.0032          0.0016          0\n",
      "p_hash                            0                0.048           0.0096          0.048           0.0544\n",
      "d_hash                            0                0.0016          0.0064          0.0064          0.0048\n",
      "haar_hash                         0                0.0288          0.024           0.0352          0.0112\n",
      "db4_hash                          0                0.0672          0.0592          0.1056          0.064\n",
      "AUC                               1                0.658696        0.798255        0.61849         0.598221\n",
      "Accuracy                          1                0.990278        0.988611        0.989444        0.989444\n",
      "BinaryAccuracy                    0.993056         0.992778        0.991389        0.993056        0.990278\n",
      "BinaryCrossentropy                0.00352709       0.0165585       0.0143567       0.0201907       0.021687\n",
      "BinaryIoU                         1                0.499583        0.497917        0.499444        0.498194\n",
      "CategoricalAccuracy               1                1               1               1               1\n",
      "CategoricalCrossentropy         nan              nan             nan             nan             nan\n",
      "CategoricalHinge                  1.0007           1.00116         1.00309         1.00154         1.00233\n",
      "CosineSimilarity                  0.00694444       0.00222222      0.00416667      0.00166667      0.00138889\n",
      "FalseNegatives                   25               23              16              21              22\n",
      "FalsePositives                    0                1               6               0              10\n",
      "Hinge                             0.999554         0.999729        0.999422        0.999736        0.999715\n",
      "KLDivergence                      0                0.0131608       0.00719484      0.0163837       0.0160227\n",
      "LogCoshError                      0                0.00028481      0.000754084     0.000420278     0.000800131\n",
      "Mean                              0.280032         0.159352        0.135996        0.127912        0.0981217\n",
      "MeanAbsoluteError                 0                0.00202796      0.00379121      0.0027411       0.00354829\n",
      "MeanAbsolutePercentageError       0           871097               2.00109e+06     1.19608e+06     2.065e+06\n",
      "MeanSquaredError                  0                0.000582548     0.00156746      0.000860059     0.00169259\n",
      "MeanSquaredLogarithmicError       0                0.000421249     0.000978025     0.000601543     0.00104107\n",
      "Poisson                           0.00378179       0.0170482       0.0136306       0.0206357       0.021111\n",
      "Precision                         0                0.666667        0.6             1               0.230769\n",
      "Recall                            0                0.08            0.36            0.16            0.12\n",
      "RootMeanSquaredError              0                0.024136        0.0395912       0.0293268       0.041141\n",
      "SparseCategoricalAccuracy         0.993056         0.993056        0.993056        0.993056        0.993056\n",
      "SparseCategoricalCrossentropy     0                0               0               0               0\n",
      "SparseTopKCategoricalAccuracy     1                1               1               1               1\n",
      "SquaredHinge                      0.999165         0.999508        0.998962        0.99953         0.999505\n",
      "Sum                               1.60698          0.975069        2.07977         0.950563        1.02457\n",
      "TopKCategoricalAccuracy           1                1               1               1               1\n",
      "TrueNegatives                  3575             3574            3569            3575            3565\n",
      "TruePositives                     0                2               9               4               3\n",
      "-----------------------------  -------------  ----------------  --------------  --------------  --------------\n"
     ]
    },
    {
     "data": {
      "text/plain": "<Figure size 1440x1440 with 5 Axes>",
      "image/png": "[encoded data removed]"
     },
     "metadata": {
      "needs_background": "light"
     },
     "output_type": "display_data"
    }
   ],
   "source": [
    "showImagesMatrix([images_worms[0], images_worms[1], images_worms[2], images_worms[3], images_worms[4]], 5)"
   ],
   "metadata": {
    "collapsed": false,
    "pycharm": {
     "name": "#%%\n"
    }
   }
  },
  {
   "cell_type": "code",
   "execution_count": 10,
   "outputs": [
    {
     "name": "stdout",
     "output_type": "stream",
     "text": [
      "-----------------------------  -------------  --------------  ---------------  --------------\n",
      "Image 0 vs image:                 0              1                2               3\n",
      "mean                              0             -6.72582         -7.24411        -6.52514\n",
      "avg_hash                          0              0                0               0.00277008\n",
      "p_hash                            0              0.0941828        0.0886427       0.0886427\n",
      "d_hash                            0              0.00554017       0.00554017      0.00831025\n",
      "haar_hash                         0              0.0581717        0.0831025       0.0775623\n",
      "db4_hash                          0              0.221607         0.227147        0.274238\n",
      "AUC                               1              0.629169         0.526184        0.758594\n",
      "Accuracy                          1              0.989167         0.994444        0.983056\n",
      "BinaryAccuracy                    0.994722       0.994722         0.994722        0.994722\n",
      "BinaryCrossentropy                0.002982       0.019729         0.0219343       0.0143806\n",
      "BinaryIoU                         0.499444       1                1               1\n",
      "CategoricalAccuracy               1              1                1               1\n",
      "CategoricalCrossentropy         nan            nan              nan             nan\n",
      "CategoricalHinge                  1.00045        1.00128          1.00001         1.00215\n",
      "CosineSimilarity                  0.00527778     0.00138889       0.000277778     0.00277778\n",
      "FalseNegatives                   15             19               19              19\n",
      "FalsePositives                    0              0                0               0\n",
      "Hinge                             0.999447       0.999841         0.999931        0.999772\n",
      "KLDivergence                      0              0.0170875        0.0210566       0.0103187\n",
      "LogCoshError                      0              0.000333434      0.000231705     0.000383869\n",
      "Mean                              0.355341       0.0995575        0.466832        0.087666\n",
      "MeanAbsoluteError                 0              0.00236855       0.00144553      0.00296514\n",
      "MeanAbsolutePercentageError       0              1.12491e+06  18882.1             1.88707e+06\n",
      "MeanSquaredError                  0              0.000682124      0.000476257     0.000783925\n",
      "MeanSquaredLogarithmicError       0              0.000501905      0.000341886     0.000571114\n",
      "Poisson                           0.00330923     0.0204342        0.0229581       0.014673\n",
      "Precision                         1              0                0               0\n",
      "Recall                            0.210526       0                0               0\n",
      "RootMeanSquaredError              0              0.0261175        0.0218233       0.0279987\n",
      "SparseCategoricalAccuracy         0.994722       0.994722         0.994722        0.994722\n",
      "SparseCategoricalCrossentropy     0              0                0               0\n",
      "SparseTopKCategoricalAccuracy     1              1                1               1\n",
      "SquaredHinge                      0.998998       0.999711         0.999878        0.999569\n",
      "Sum                               1.9913         0.571317         0.250198        0.821081\n",
      "TopKCategoricalAccuracy           1              1                1               1\n",
      "TrueNegatives                  3581           3581             3581            3581\n",
      "TruePositives                     4              0                0               0\n",
      "-----------------------------  -------------  --------------  ---------------  --------------\n"
     ]
    },
    {
     "data": {
      "text/plain": "<Figure size 1440x1440 with 4 Axes>",
      "image/png": "[encoded data removed]"
     },
     "metadata": {
      "needs_background": "light"
     },
     "output_type": "display_data"
    }
   ],
   "source": [
    "showImagesMatrix([images[0], images_worms[0], images_dots[0], images_dots4x[0][2:62,2:62]], 4)"
   ],
   "metadata": {
    "collapsed": false,
    "pycharm": {
     "name": "#%%\n"
    }
   }
  },
  {
   "cell_type": "code",
   "execution_count": 10,
   "outputs": [],
   "source": [],
   "metadata": {
    "collapsed": false,
    "pycharm": {
     "name": "#%%\n"
    }
   }
  }
 ],
 "metadata": {
  "kernelspec": {
   "display_name": "Python 3",
   "language": "python",
   "name": "python3"
  },
  "language_info": {
   "codemirror_mode": {
    "name": "ipython",
    "version": 2
   },
   "file_extension": ".py",
   "mimetype": "text/x-python",
   "name": "python",
   "nbconvert_exporter": "python",
   "pygments_lexer": "ipython2",
   "version": "2.7.6"
  }
 },
 "nbformat": 4,
 "nbformat_minor": 0
}