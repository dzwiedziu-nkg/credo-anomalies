{
 "cells": [
  {
   "cell_type": "code",
   "execution_count": 1,
   "outputs": [],
   "source": [
    "# Please visit:\n",
    "#\n",
    "# https://download.nkg-mn.com/credo/anomalies/\n",
    "#\n",
    "# Prepared dots_100000.pickle and others can be downloaded from mentioned website.\n",
    "from keras.layers import RandomFlip, RandomRotation\n",
    "import tensorflow as tf\n",
    "import numpy as np\n",
    "from PIL import Image\n",
    "import os\n",
    "from scipy.ndimage import rotate\n",
    "\n",
    "\n",
    "\n",
    "\n",
    "# metryka - za\n",
    "# czy nie ma warstw inne niż proste konwolucje (np. falkowe, np. warstwy od transformacji hougha)\n",
    "# poeównianie kulbacka leubrera (VAE)"
   ],
   "metadata": {
    "collapsed": false,
    "pycharm": {
     "name": "#%%\n"
    }
   }
  },
  {
   "cell_type": "code",
   "execution_count": 2,
   "outputs": [],
   "source": [
    "from dataset_loader import load_dataset_with_augmentation, save_to_file, load_from_file, cut_image_to_size\n",
    "\n",
    "DOTS_SRC = 'hit-images-final2/dot'\n",
    "DOTS_DST = 'cache/dots_v3.pickle'\n",
    "\n",
    "TRACKS_SRC = 'hit-images-final2/line'\n",
    "TRACKS_DST = 'cache/tracks_v3.pickle'\n",
    "\n",
    "WORMS_SRC = 'hit-images-final2/worms'\n",
    "WORMS_DST = 'cache/worms_v3.pickle'\n",
    "\n",
    "ARTIFACTS_SRC = 'hit-images-final2/artefact'\n",
    "ARTIFACTS_DST = 'cache/artifacts_v3.pickle'"
   ],
   "metadata": {
    "collapsed": false,
    "pycharm": {
     "name": "#%%\n"
    }
   }
  },
  {
   "cell_type": "code",
   "execution_count": 3,
   "outputs": [
    {
     "name": "stdout",
     "output_type": "stream",
     "text": [
      "done\n"
     ]
    }
   ],
   "source": [
    "from dataset_loader import load_images\n",
    "\n",
    "\n",
    "def make_augmentations(images, mul=1):\n",
    "    if mul == 1:\n",
    "        return images\n",
    "\n",
    "    arr = []\n",
    "    new_images = []\n",
    "    for i, image in enumerate(images):\n",
    "        #im = Image.fromarray((image * 255).astype(np.uint8))\n",
    "        mask = np.where(image == 0, 0.0, 1.0)\n",
    "        new_images.append(cut_image_to_size(image, 64))\n",
    "        for flip in [False, True]:\n",
    "            for j in range(1, mul):\n",
    "                deg = 360/mul * j\n",
    "\n",
    "                augmented_image = rotate(image, deg, reshape=False)\n",
    "                augmented_mask = rotate(mask, deg, reshape=False)\n",
    "                if flip:\n",
    "                    augmented_image = np.flipud(augmented_image)\n",
    "                    augmented_mask = np.flipud(augmented_mask)\n",
    "                #augmented_image -= augmented_image.min()\n",
    "                augmented_image = np.where(augmented_mask < 0.25, 0, augmented_image)\n",
    "                augmented_image = np.where(augmented_image < 0, 0, augmented_image)\n",
    "                augmented_image = np.where(augmented_image > 1, 1, augmented_image)\n",
    "                #ai_max = augmented_image.max()\n",
    "                #if ai_max > 1:\n",
    "                    #augmented_image *= 1/ai_max\n",
    "                arr.append(cut_image_to_size(augmented_image, 64))\n",
    "\n",
    "    augs = np.vstack([arr])\n",
    "\n",
    "    return new_images, augs\n",
    "\n",
    "save_to_file(DOTS_DST, make_augmentations(load_images(DOTS_SRC, 4), 12))\n",
    "save_to_file(TRACKS_DST, make_augmentations(load_images(TRACKS_SRC, 4), 12))\n",
    "save_to_file(WORMS_DST, make_augmentations(load_images(WORMS_SRC, 4), 12))\n",
    "save_to_file(ARTIFACTS_DST, make_augmentations(load_images(ARTIFACTS_SRC, 4), 12))\n",
    "\n",
    "print('done')"
   ],
   "metadata": {
    "collapsed": false,
    "pycharm": {
     "name": "#%%\n"
    }
   }
  },
  {
   "cell_type": "code",
   "execution_count": 3,
   "outputs": [],
   "source": [],
   "metadata": {
    "collapsed": false,
    "pycharm": {
     "name": "#%%\n"
    }
   }
  }
 ],
 "metadata": {
  "kernelspec": {
   "display_name": "Python 3",
   "language": "python",
   "name": "python3"
  },
  "language_info": {
   "codemirror_mode": {
    "name": "ipython",
    "version": 2
   },
   "file_extension": ".py",
   "mimetype": "text/x-python",
   "name": "python",
   "nbconvert_exporter": "python",
   "pygments_lexer": "ipython2",
   "version": "2.7.6"
  }
 },
 "nbformat": 4,
 "nbformat_minor": 0
}