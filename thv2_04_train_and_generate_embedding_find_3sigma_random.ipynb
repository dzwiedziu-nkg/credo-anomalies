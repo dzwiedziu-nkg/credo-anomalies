{
 "cells": [
  {
   "cell_type": "code",
   "execution_count": 2,
   "outputs": [],
   "source": [
    "# Konfiguracja startowa\n",
    "import pickle\n",
    "\n",
    "DO_TRAIN = False  # czy trenowanie ma być wykonane na nowo, czy wczytane z dysku (jak z dysku to też zbiór testowy jest z dysku, augmentacja itd.)\n",
    "\n",
    "def load_cache(fn):\n",
    "    with open(fn, 'rb') as cf:\n",
    "        return pickle.load(cf)\n",
    "\n",
    "\n",
    "def write_cache(fn, data):\n",
    "    with open(fn, 'wb') as cf:\n",
    "        pickle.dump(data, cf)"
   ],
   "metadata": {
    "collapsed": false,
    "ExecuteTime": {
     "start_time": "2023-04-27T09:27:16.871479Z",
     "end_time": "2023-04-27T09:27:16.966411Z"
    }
   }
  },
  {
   "cell_type": "code",
   "execution_count": 3,
   "outputs": [
    {
     "name": "stdout",
     "output_type": "stream",
     "text": [
      "len(all_set): 13824\n"
     ]
    }
   ],
   "source": [
    "# Załadowanie hitów w PNG z katalogu hit-images-final2\n",
    "# z podziałem na \"dot\", \"track\" i \"worm\" (podkatalogi)\n",
    "\n",
    "from align_images_pca import align_image\n",
    "from PIL import Image\n",
    "import numpy as np\n",
    "import glob\n",
    "\n",
    "\n",
    "CACHE_IMAGES = 'cache/images_v2.pickle'\n",
    "\n",
    "ALL_SRC = 'wybrane_final'\n",
    "\n",
    "\n",
    "def load_image(image_path, align=True):\n",
    "    img = Image.open(image_path)\n",
    "    img = img.convert('L')\n",
    "    image = np.asarray(img)\n",
    "    #image = np.asarray(Image.open(image_path).convert('L'))\n",
    "    if align:\n",
    "        image = align_image(image)\n",
    "    mask = np.where(image > 25, 1, 0)\n",
    "    image = mask * image\n",
    "    if np.max(image) == 0:\n",
    "        return None\n",
    "    image = image.astype(np.float32) / np.max(image)\n",
    "    image = np.expand_dims(image, 2)\n",
    "    return image\n",
    "\n",
    "\n",
    "def load_images(src):\n",
    "    images = []\n",
    "    files_used = []\n",
    "    files = list(glob.glob(\"%s/*.png\" % src))\n",
    "    files = sorted(files)\n",
    "    for image_path in files:\n",
    "        image = load_image(src)\n",
    "        if image is None:\n",
    "            continue\n",
    "        images.append(image)\n",
    "        files_used.append(image_path)\n",
    "    return np.asarray(images), files_used\n",
    "\n",
    "\n",
    "if DO_TRAIN:\n",
    "    all_set, all_files = load_images(ALL_SRC)\n",
    "    write_cache(CACHE_IMAGES, [all_set, all_files])\n",
    "else:\n",
    "    [all_set, all_files] = load_cache(CACHE_IMAGES)\n",
    "\n",
    "print('len(all_set): %d' % all_set.shape[0])"
   ],
   "metadata": {
    "collapsed": false,
    "ExecuteTime": {
     "start_time": "2023-04-27T09:27:16.879632Z",
     "end_time": "2023-04-27T09:27:24.427259Z"
    }
   }
  },
  {
   "cell_type": "code",
   "execution_count": 4,
   "outputs": [
    {
     "name": "stdout",
     "output_type": "stream",
     "text": [
      "len(dots2_set): 27648\n"
     ]
    }
   ],
   "source": [
    "# augmentacja przez mirror, czyli pomnożenie próbek 2x przez dodanie lustrzanie odbitych\n",
    "\n",
    "import pickle\n",
    "CACHE_AUGMENTATION = 'cache/augmentation_v2.pickle'\n",
    "\n",
    "def augmentation_mirror(src, files):\n",
    "    images = []\n",
    "    files_aug = []\n",
    "    for i in range(0, len(src)):\n",
    "        img = src[i]\n",
    "        images.append(img)\n",
    "        images.append(np.flip(img))\n",
    "        files_aug.append(files[i])\n",
    "        files_aug.append(files[i])\n",
    "    return np.asarray(images), files_aug\n",
    "\n",
    "if DO_TRAIN:\n",
    "    all2_set, all2_files = augmentation_mirror(all_set, all_files)\n",
    "    write_cache(CACHE_AUGMENTATION, [all2_set, all2_files])\n",
    "else:\n",
    "    [all2_set, all2_files] = load_cache(CACHE_AUGMENTATION)\n",
    "\n",
    "print('len(dots2_set): %d' % all2_set.shape[0])"
   ],
   "metadata": {
    "collapsed": false,
    "ExecuteTime": {
     "start_time": "2023-04-27T09:27:24.434016Z",
     "end_time": "2023-04-27T09:27:24.898496Z"
    }
   }
  },
  {
   "cell_type": "code",
   "execution_count": 5,
   "outputs": [
    {
     "name": "stdout",
     "output_type": "stream",
     "text": [
      "len(all2_set): 22118/5530\n"
     ]
    }
   ],
   "source": [
    "# wygenerowanie zbioru train, validate i test o proporcjach odpowiednio 60%, 20% i 20%\n",
    "# zwracane listy zawierają indeksy próbek, które zostały przydzielone do ww. ziorów\n",
    "\n",
    "import pickle\n",
    "CACHE_DIV = 'cache/sets_tvt.pickle'\n",
    "\n",
    "def train_validate_test_split(df, train_percent=.8, seed=None):\n",
    "    p = np.random.permutation(df.shape[0])\n",
    "    n = int(train_percent * len(p))\n",
    "    train = p[:n]\n",
    "    validation = p[n:]\n",
    "    return train, validation\n",
    "\n",
    "if DO_TRAIN:\n",
    "    all2_train, all2_validate = train_validate_test_split(all2_set)\n",
    "    write_cache(CACHE_DIV, [all2_train, all2_validate])\n",
    "else:\n",
    "    [all2_train, all2_validate] = load_cache(CACHE_DIV)\n",
    "\n",
    "print('len(all2_set): %d/%d' % (all2_train.shape[0], all2_validate.shape[0]))"
   ],
   "metadata": {
    "collapsed": false,
    "ExecuteTime": {
     "start_time": "2023-04-27T09:27:24.905093Z",
     "end_time": "2023-04-27T09:27:24.974304Z"
    }
   }
  },
  {
   "cell_type": "code",
   "execution_count": 6,
   "outputs": [],
   "source": [
    "# wytrenowanie kanałów\n",
    "# * tracks\n",
    "# * tnd (tracks and dots)\n",
    "\n",
    "from commons import *\n",
    "from dataset_loader import load_from_file\n",
    "from IPython.display import display\n",
    "import matplotlib.pyplot as plt\n",
    "import cv2\n",
    "\n",
    "#DOTS_DST = 'cache/dots_100000.pickle'\n",
    "#ARTIFACTS_DST = 'cache/artifacts_100000.pickle'\n",
    "\n",
    "#DOTS_AC = 'cache/dots_100000.h5'\n",
    "#TRACKS_AC = 'cache/th_dots_optics_100000.h5'\n",
    "#WORMS_AC = 'cache/worms_100000.h5'\n",
    "#ARTIFACTS_AC = 'cache/artifacts_100000.h5'\n",
    "ALL_AC = 'cache/th_all_%d.h5'\n",
    "\n",
    "def train_and_test(train_set, validation_set, fn_template, latentDim=16):\n",
    "    fn = fn_template % latentDim\n",
    "    autoencoder = original_autoencoder(latentDim=latentDim)\n",
    "    autoencoder = train_or_cache(train_set, autoencoder, fn, validation_set=validation_set, force_train=True, latentDim=latentDim)\n",
    "\n",
    "    for df_func, df_name in zip(\n",
    "            [dm_func_mean],\n",
    "            ['mean']\n",
    "    ):\n",
    "        for img_set, set_names in zip([validation_set], ['train']):\n",
    "            decoded = autoencoder.predict(img_set)\n",
    "\n",
    "            vis, errors = visualize_predictions(decoded, img_set, df_func, False, 16)\n",
    "            img_path = fn.replace('.h5', '-vis.png')\n",
    "            hist_path = fn.replace('.h5', '-hist.png')\n",
    "            cv2.imwrite(img_path, vis)\n",
    "            display(Image.open(img_path))\n",
    "            if len(img_set) > 256:\n",
    "                vis, errors = visualize_predictions(decoded, img_set, df_func, False)\n",
    "                img_path = fn.replace('.h5', '-vis_full.png')\n",
    "                cv2.imwrite(img_path, vis)\n",
    "\n",
    "            plt.figure(figsize=(8,6))\n",
    "            plt.hist(errors, bins=100, alpha=0.5, label=set_names)\n",
    "            plt.xlabel(\"Data\", size=14)\n",
    "            plt.ylabel(\"Count\", size=14)\n",
    "            plt.title(df_name)\n",
    "            plt.legend(loc='upper right')\n",
    "            plt.savefig(hist_path)\n",
    "\n",
    "if DO_TRAIN:\n",
    "    for latentD in [16]:\n",
    "        train_and_test(all2_set[all2_train], all2_set[all2_validate], ALL_AC, latentD)"
   ],
   "metadata": {
    "collapsed": false,
    "ExecuteTime": {
     "start_time": "2023-04-27T09:27:24.927464Z",
     "end_time": "2023-04-27T09:27:57.238634Z"
    }
   }
  },
  {
   "cell_type": "code",
   "execution_count": 7,
   "outputs": [],
   "source": [
    "if DO_TRAIN:\n",
    "    for latentD in [2, 4, 6, 8, 12, 24, 32, 48, 64]:\n",
    "        train_and_test(all2_set[all2_train], all2_set[all2_validate], ALL_AC, latentD)"
   ],
   "metadata": {
    "collapsed": false,
    "ExecuteTime": {
     "start_time": "2023-04-27T09:27:57.246296Z",
     "end_time": "2023-04-27T09:27:57.254566Z"
    }
   }
  },
  {
   "cell_type": "code",
   "execution_count": 8,
   "outputs": [],
   "source": [
    "# zapis embeddingu do pliku\n",
    "\n",
    "from keras.models import load_model\n",
    "\n",
    "def encoder_embedding(model_file, test_set):\n",
    "    encoder = load_model(model_file.replace('.h5', '-encoder.h5'))\n",
    "    embedding = encoder.predict(test_set)\n",
    "    #with_c = np.vstack([v, np.ones(v.shape) * c])\n",
    "    #transposed = with_c.transpose()\n",
    "    return embedding\n",
    "\n",
    "#all_embedding = encoder_embedding(ALL_AC % 64, all_set)\n",
    "#all_embedding_files = np.hstack(all_files)\n",
    "\n",
    "\n",
    "# np.save(\"res/emb_array_all_%d\" % 16, all_embedding)\n",
    "\n",
    "# with open(\"res/file_list_all.txt\", 'w') as fp:\n",
    "#     for ff in all_embedding_files:\n",
    "#         fp.write(ff + \"\\n\")\n"
   ],
   "metadata": {
    "collapsed": false,
    "ExecuteTime": {
     "start_time": "2023-04-27T09:27:57.259658Z",
     "end_time": "2023-04-27T09:27:57.314713Z"
    }
   }
  },
  {
   "cell_type": "code",
   "execution_count": 9,
   "outputs": [
    {
     "name": "stdout",
     "output_type": "stream",
     "text": [
      "[0.1, 0.2, 0.3, 0.4, 0.5, 0.6, 0.7, 0.8, 0.9, 1.0, 2.0, 3.0, 4.0, 5.0, 6.0, 7.0, 8.0, 9.0, 10.0, 20.0, 30.0, 40.0, 50.0, 60.0, 70.0, 80.0, 90.0, 100.0, 110.0, 120.0, 130.0, 140.0, 150.0, 160.0, 170.0, 180.0, 190.0, 200.0, 210.0, 220.0, 230.0, 240.0, 250.0, 260.0, 270.0, 280.0, 290.0, 300.0, 310.0, 320.0, 330.0, 340.0, 350.0, 360.0, 370.0, 380.0, 390.0, 400.0]\n"
     ]
    }
   ],
   "source": [
    "zero_to_one = (np.asarray(range(10)) + 1) / 10.0\n",
    "one_to_ten = np.asarray(range(9)) + 2\n",
    "ten_to_hundreds = (np.asarray(range(39)) + 2) * 10\n",
    "\n",
    "eps_used = list((np.hstack([zero_to_one, one_to_ten, ten_to_hundreds])))\n",
    "print(eps_used)"
   ],
   "metadata": {
    "collapsed": false,
    "ExecuteTime": {
     "start_time": "2023-04-27T09:27:57.278187Z",
     "end_time": "2023-04-27T09:27:57.314713Z"
    }
   }
  },
  {
   "cell_type": "code",
   "execution_count": 10,
   "outputs": [],
   "source": [
    "def find_sigma(func, embedding, t_files, latentDim, min_samples=5, start_eps=200, percent=0.2):\n",
    "    size = float(embedding.shape[0])\n",
    "    left_eps = 0.1\n",
    "    right_eps = 1000.0\n",
    "    looking_count = round(size * (percent / 100.0))\n",
    "    while True:\n",
    "        eps = (left_eps + right_eps) / 2.0\n",
    "        p = func(embedding, t_files, latentDim, eps, False, min_samples)\n",
    "        if p == looking_count:\n",
    "            break\n",
    "\n",
    "        if p > looking_count:\n",
    "            left_eps = eps\n",
    "        else:\n",
    "            right_eps = eps\n",
    "    print('Znalezione: latentDim=%d, min_samples=%d, eps=%f' % (latentDim, min_samples, eps))\n",
    "    func(embedding, t_files, latentDim, eps, True, min_samples)\n",
    "    return eps\n",
    "\n",
    "\n",
    "looking_ld = [2, 4, 6, 8, 12, 16, 24, 32, 48, 64]\n",
    "looking_ms = [3, 4, 5, 6, 7, 8]"
   ],
   "metadata": {
    "collapsed": false,
    "ExecuteTime": {
     "start_time": "2023-04-27T09:27:57.314713Z",
     "end_time": "2023-04-27T09:27:57.331987Z"
    }
   }
  },
  {
   "cell_type": "code",
   "execution_count": 32,
   "outputs": [
    {
     "name": "stdout",
     "output_type": "stream",
     "text": [
      "All files: 13824\n",
      "wybrane_final\\23116709.png\n",
      "wybrane_final\\17361478.png\n",
      "wybrane_final\\21049828.png\n",
      "wybrane_final\\14029635.png\n",
      "wybrane_final\\19686179.png\n",
      "wybrane_final\\13845184.png\n",
      "wybrane_final\\1357864.png\n",
      "wybrane_final\\9621040.png\n",
      "wybrane_final\\22005919.png\n",
      "wybrane_final\\11088069.png\n",
      "wybrane_final\\24626711.png\n",
      "wybrane_final\\7606495.png\n",
      "wybrane_final\\13843458.png\n",
      "wybrane_final\\11634237.png\n",
      "wybrane_final\\21974874.png\n",
      "wybrane_final\\18231255.png\n",
      "wybrane_final\\12008545.png\n",
      "wybrane_final\\1365429.png\n",
      "wybrane_final\\23149347.png\n",
      "wybrane_final\\7075694.png\n",
      "wybrane_final\\14220572.png\n",
      "wybrane_final\\11809278.png\n",
      "wybrane_final\\1369370.png\n",
      "wybrane_final\\18287015.png\n",
      "wybrane_final\\23131541.png\n",
      "wybrane_final\\1322025.png\n",
      "wybrane_final\\24598218.png\n",
      "wybrane_final\\24282205.png\n"
     ]
    },
    {
     "data": {
      "text/plain": "<Figure size 1368x1008 with 28 Axes>",
      "image/png": "[encoded data removed]"
     },
     "metadata": {
      "needs_background": "light"
     },
     "output_type": "display_data"
    },
    {
     "name": "stdout",
     "output_type": "stream",
     "text": [
      "All files: 13824\n",
      "wybrane_final\\11623626.png\n",
      "wybrane_final\\16001286.png\n",
      "wybrane_final\\20445720.png\n",
      "wybrane_final\\19700089.png\n",
      "wybrane_final\\24168412.png\n",
      "wybrane_final\\23051370.png\n",
      "wybrane_final\\23844431.png\n",
      "wybrane_final\\22323598.png\n",
      "wybrane_final\\11896443.png\n",
      "wybrane_final\\15482083.png\n",
      "wybrane_final\\15489657.png\n",
      "wybrane_final\\1354377.png\n",
      "wybrane_final\\15647096.png\n",
      "wybrane_final\\15018164.png\n",
      "wybrane_final\\1832287.png\n",
      "wybrane_final\\24594562.png\n",
      "wybrane_final\\24630597.png\n",
      "wybrane_final\\9800108.png\n",
      "wybrane_final\\24604786.png\n",
      "wybrane_final\\1767166.png\n",
      "wybrane_final\\7200454.png\n",
      "wybrane_final\\21978937.png\n",
      "wybrane_final\\24590090.png\n",
      "wybrane_final\\24591615.png\n",
      "wybrane_final\\1357969.png\n",
      "wybrane_final\\24240029.png\n",
      "wybrane_final\\11895928.png\n",
      "wybrane_final\\24287706.png\n"
     ]
    },
    {
     "data": {
      "text/plain": "<Figure size 1368x1008 with 28 Axes>",
      "image/png": "[encoded data removed]"
     },
     "metadata": {
      "needs_background": "light"
     },
     "output_type": "display_data"
    },
    {
     "name": "stdout",
     "output_type": "stream",
     "text": [
      "All files: 13824\n",
      "wybrane_final\\13696014.png\n",
      "wybrane_final\\22365160.png\n",
      "wybrane_final\\1358435.png\n",
      "wybrane_final\\18430650.png\n",
      "wybrane_final\\21864717.png\n",
      "wybrane_final\\24604012.png\n",
      "wybrane_final\\11800788.png\n",
      "wybrane_final\\1321341.png\n",
      "wybrane_final\\17579156.png\n",
      "wybrane_final\\21971407.png\n",
      "wybrane_final\\24597742.png\n",
      "wybrane_final\\11698723.png\n",
      "wybrane_final\\11897194.png\n",
      "wybrane_final\\24590799.png\n",
      "wybrane_final\\24622656.png\n",
      "wybrane_final\\17359503.png\n",
      "wybrane_final\\10260979.png\n",
      "wybrane_final\\16074468.png\n",
      "wybrane_final\\22219592.png\n",
      "wybrane_final\\22499942.png\n",
      "wybrane_final\\1368407.png\n",
      "wybrane_final\\10075751.png\n",
      "wybrane_final\\11800138.png\n",
      "wybrane_final\\22265284.png\n",
      "wybrane_final\\24621829.png\n",
      "wybrane_final\\1350222.png\n",
      "wybrane_final\\22428844.png\n",
      "wybrane_final\\15426000.png\n"
     ]
    },
    {
     "data": {
      "text/plain": "<Figure size 1368x1008 with 28 Axes>",
      "image/png": "[encoded data removed]"
     },
     "metadata": {
      "needs_background": "light"
     },
     "output_type": "display_data"
    },
    {
     "name": "stdout",
     "output_type": "stream",
     "text": [
      "All files: 13824\n",
      "wybrane_final\\23945004.png\n",
      "wybrane_final\\11897732.png\n",
      "wybrane_final\\11848839.png\n",
      "wybrane_final\\1329715.png\n",
      "wybrane_final\\21969368.png\n",
      "wybrane_final\\20235640.png\n",
      "wybrane_final\\11442719.png\n",
      "wybrane_final\\14406417.png\n",
      "wybrane_final\\7057557.png\n",
      "wybrane_final\\24604255.png\n",
      "wybrane_final\\11808709.png\n",
      "wybrane_final\\1865212.png\n",
      "wybrane_final\\22280674.png\n",
      "wybrane_final\\22051220.png\n",
      "wybrane_final\\13605732.png\n",
      "wybrane_final\\22667844.png\n",
      "wybrane_final\\23778234.png\n",
      "wybrane_final\\19413831.png\n",
      "wybrane_final\\1326246.png\n",
      "wybrane_final\\24287651.png\n",
      "wybrane_final\\13697380.png\n",
      "wybrane_final\\24604255.png\n",
      "wybrane_final\\11809447.png\n",
      "wybrane_final\\18641264.png\n",
      "wybrane_final\\1745147.png\n",
      "wybrane_final\\7060202.png\n",
      "wybrane_final\\11898629.png\n",
      "wybrane_final\\23214854.png\n"
     ]
    },
    {
     "data": {
      "text/plain": "<Figure size 1368x1008 with 28 Axes>",
      "image/png": "[encoded data removed]"
     },
     "metadata": {
      "needs_background": "light"
     },
     "output_type": "display_data"
    },
    {
     "name": "stdout",
     "output_type": "stream",
     "text": [
      "All files: 13824\n",
      "wybrane_final\\21971998.png\n",
      "wybrane_final\\22232134.png\n",
      "wybrane_final\\1366559.png\n",
      "wybrane_final\\23104615.png\n",
      "wybrane_final\\1350291.png\n",
      "wybrane_final\\18040947.png\n",
      "wybrane_final\\24595571.png\n",
      "wybrane_final\\21978614.png\n",
      "wybrane_final\\17676822.png\n",
      "wybrane_final\\17851118.png\n",
      "wybrane_final\\24598374.png\n",
      "wybrane_final\\22351432.png\n",
      "wybrane_final\\18802708.png\n",
      "wybrane_final\\21973638.png\n",
      "wybrane_final\\17362337.png\n",
      "wybrane_final\\24630222.png\n",
      "wybrane_final\\13687783.png\n",
      "wybrane_final\\22113319.png\n",
      "wybrane_final\\23446405.png\n",
      "wybrane_final\\17034106.png\n",
      "wybrane_final\\23742633.png\n",
      "wybrane_final\\1326089.png\n",
      "wybrane_final\\24593543.png\n",
      "wybrane_final\\23126443.png\n",
      "wybrane_final\\22395180.png\n",
      "wybrane_final\\1302999.png\n",
      "wybrane_final\\13893189.png\n",
      "wybrane_final\\21971510.png\n"
     ]
    },
    {
     "data": {
      "text/plain": "<Figure size 1368x1008 with 28 Axes>",
      "image/png": "[encoded data removed]"
     },
     "metadata": {
      "needs_background": "light"
     },
     "output_type": "display_data"
    },
    {
     "name": "stdout",
     "output_type": "stream",
     "text": [
      "All files: 13824\n",
      "wybrane_final\\23117326.png\n",
      "wybrane_final\\24094968.png\n",
      "wybrane_final\\17858516.png\n",
      "wybrane_final\\15632782.png\n",
      "wybrane_final\\19686200.png\n",
      "wybrane_final\\1867762.png\n",
      "wybrane_final\\24591907.png\n",
      "wybrane_final\\22489399.png\n",
      "wybrane_final\\24624025.png\n",
      "wybrane_final\\23777943.png\n",
      "wybrane_final\\11812917.png\n",
      "wybrane_final\\5266337.png\n",
      "wybrane_final\\13602942.png\n",
      "wybrane_final\\11893970.png\n",
      "wybrane_final\\11865518.png\n",
      "wybrane_final\\21974808.png\n",
      "wybrane_final\\11897326.png\n",
      "wybrane_final\\21977665.png\n",
      "wybrane_final\\10260979.png\n",
      "wybrane_final\\11634534.png\n",
      "wybrane_final\\7418909.png\n",
      "wybrane_final\\22013091.png\n",
      "wybrane_final\\1358396.png\n",
      "wybrane_final\\23522020.png\n",
      "wybrane_final\\21051869.png\n",
      "wybrane_final\\11861195.png\n",
      "wybrane_final\\13844409.png\n",
      "wybrane_final\\1315779.png\n"
     ]
    },
    {
     "data": {
      "text/plain": "<Figure size 1368x1008 with 28 Axes>",
      "image/png": "[encoded data removed]"
     },
     "metadata": {
      "needs_background": "light"
     },
     "output_type": "display_data"
    },
    {
     "name": "stdout",
     "output_type": "stream",
     "text": [
      "All files: 13824\n",
      "wybrane_final\\2698649.png\n",
      "wybrane_final\\22007366.png\n",
      "wybrane_final\\9859560.png\n",
      "wybrane_final\\17358551.png\n",
      "wybrane_final\\20267060.png\n",
      "wybrane_final\\1852499.png\n",
      "wybrane_final\\22111024.png\n",
      "wybrane_final\\24601881.png\n",
      "wybrane_final\\1302525.png\n",
      "wybrane_final\\11699323.png\n",
      "wybrane_final\\1373566.png\n",
      "wybrane_final\\13842585.png\n",
      "wybrane_final\\22265289.png\n",
      "wybrane_final\\11800874.png\n",
      "wybrane_final\\11822364.png\n",
      "wybrane_final\\23051271.png\n",
      "wybrane_final\\12845481.png\n",
      "wybrane_final\\22349363.png\n",
      "wybrane_final\\17230766.png\n",
      "wybrane_final\\22031457.png\n",
      "wybrane_final\\24438473.png\n",
      "wybrane_final\\24591125.png\n",
      "wybrane_final\\23378824.png\n",
      "wybrane_final\\21976359.png\n",
      "wybrane_final\\24592739.png\n",
      "wybrane_final\\23193873.png\n",
      "wybrane_final\\24598196.png\n",
      "wybrane_final\\11684269.png\n"
     ]
    },
    {
     "data": {
      "text/plain": "<Figure size 1368x1008 with 28 Axes>",
      "image/png": "[encoded data removed]"
     },
     "metadata": {
      "needs_background": "light"
     },
     "output_type": "display_data"
    },
    {
     "name": "stdout",
     "output_type": "stream",
     "text": [
      "All files: 13824\n",
      "wybrane_final\\12252296.png\n",
      "wybrane_final\\13838629.png\n",
      "wybrane_final\\17040073.png\n",
      "wybrane_final\\21983504.png\n",
      "wybrane_final\\11811789.png\n",
      "wybrane_final\\21979312.png\n",
      "wybrane_final\\18444908.png\n",
      "wybrane_final\\17003448.png\n",
      "wybrane_final\\1316969.png\n",
      "wybrane_final\\21972565.png\n",
      "wybrane_final\\11863523.png\n",
      "wybrane_final\\22174675.png\n",
      "wybrane_final\\15647096.png\n",
      "wybrane_final\\5831475.png\n",
      "wybrane_final\\9012121.png\n",
      "wybrane_final\\16061774.png\n",
      "wybrane_final\\13842934.png\n",
      "wybrane_final\\17679012.png\n",
      "wybrane_final\\10622318.png\n",
      "wybrane_final\\24590605.png\n",
      "wybrane_final\\11604217.png\n",
      "wybrane_final\\22209629.png\n",
      "wybrane_final\\11898697.png\n",
      "wybrane_final\\24591034.png\n",
      "wybrane_final\\1303298.png\n",
      "wybrane_final\\11602311.png\n",
      "wybrane_final\\23524530.png\n",
      "wybrane_final\\11813501.png\n"
     ]
    },
    {
     "data": {
      "text/plain": "<Figure size 1368x1008 with 28 Axes>",
      "image/png": "[encoded data removed]"
     },
     "metadata": {
      "needs_background": "light"
     },
     "output_type": "display_data"
    },
    {
     "name": "stdout",
     "output_type": "stream",
     "text": [
      "All files: 13824\n",
      "wybrane_final\\13610076.png\n",
      "wybrane_final\\7622993.png\n",
      "wybrane_final\\17338190.png\n",
      "wybrane_final\\13602129.png\n",
      "wybrane_final\\9464665.png\n",
      "wybrane_final\\1390835.png\n",
      "wybrane_final\\24186088.png\n",
      "wybrane_final\\15032830.png\n",
      "wybrane_final\\24594040.png\n",
      "wybrane_final\\3264246.png\n",
      "wybrane_final\\11809237.png\n",
      "wybrane_final\\15670648.png\n",
      "wybrane_final\\13697058.png\n",
      "wybrane_final\\6452529.png\n",
      "wybrane_final\\24590279.png\n",
      "wybrane_final\\13259147.png\n",
      "wybrane_final\\16096684.png\n",
      "wybrane_final\\1499603.png\n",
      "wybrane_final\\16622869.png\n",
      "wybrane_final\\13832169.png\n",
      "wybrane_final\\16234804.png\n",
      "wybrane_final\\1345234.png\n",
      "wybrane_final\\12428992.png\n",
      "wybrane_final\\23116385.png\n",
      "wybrane_final\\13693756.png\n",
      "wybrane_final\\11897172.png\n",
      "wybrane_final\\10053386.png\n",
      "wybrane_final\\1373566.png\n"
     ]
    },
    {
     "data": {
      "text/plain": "<Figure size 1368x1008 with 28 Axes>",
      "image/png": "[encoded data removed]"
     },
     "metadata": {
      "needs_background": "light"
     },
     "output_type": "display_data"
    },
    {
     "name": "stdout",
     "output_type": "stream",
     "text": [
      "All files: 13824\n",
      "wybrane_final\\11862597.png\n",
      "wybrane_final\\23635356.png\n",
      "wybrane_final\\24594541.png\n",
      "wybrane_final\\7334381.png\n",
      "wybrane_final\\16428373.png\n",
      "wybrane_final\\13658701.png\n",
      "wybrane_final\\11819002.png\n",
      "wybrane_final\\1368877.png\n",
      "wybrane_final\\24437391.png\n",
      "wybrane_final\\24603186.png\n",
      "wybrane_final\\1314464.png\n",
      "wybrane_final\\11681560.png\n",
      "wybrane_final\\9054663.png\n",
      "wybrane_final\\4226973.png\n",
      "wybrane_final\\11684269.png\n",
      "wybrane_final\\5246494.png\n",
      "wybrane_final\\23424513.png\n",
      "wybrane_final\\11683448.png\n",
      "wybrane_final\\24655105.png\n",
      "wybrane_final\\22033316.png\n",
      "wybrane_final\\21973047.png\n",
      "wybrane_final\\1310895.png\n",
      "wybrane_final\\23472817.png\n",
      "wybrane_final\\21978052.png\n",
      "wybrane_final\\17885329.png\n",
      "wybrane_final\\24431000.png\n",
      "wybrane_final\\19498137.png\n",
      "wybrane_final\\16753801.png\n"
     ]
    },
    {
     "data": {
      "text/plain": "<Figure size 1368x1008 with 28 Axes>",
      "image/png": "[encoded data removed]"
     },
     "metadata": {
      "needs_background": "light"
     },
     "output_type": "display_data"
    },
    {
     "name": "stdout",
     "output_type": "stream",
     "text": [
      "All files: 13824\n",
      "wybrane_final\\1375630.png\n",
      "wybrane_final\\18012596.png\n",
      "wybrane_final\\13814030.png\n",
      "wybrane_final\\1310381.png\n",
      "wybrane_final\\11898590.png\n",
      "wybrane_final\\19820955.png\n",
      "wybrane_final\\22322862.png\n",
      "wybrane_final\\9888939.png\n",
      "wybrane_final\\24597902.png\n",
      "wybrane_final\\24627846.png\n",
      "wybrane_final\\22305611.png\n",
      "wybrane_final\\1368581.png\n",
      "wybrane_final\\24630332.png\n",
      "wybrane_final\\16034973.png\n",
      "wybrane_final\\23058875.png\n",
      "wybrane_final\\1351157.png\n",
      "wybrane_final\\21972565.png\n",
      "wybrane_final\\17062563.png\n",
      "wybrane_final\\13843943.png\n",
      "wybrane_final\\21974743.png\n",
      "wybrane_final\\22300605.png\n",
      "wybrane_final\\24602254.png\n",
      "wybrane_final\\24602020.png\n",
      "wybrane_final\\21977749.png\n",
      "wybrane_final\\16073561.png\n",
      "wybrane_final\\11898769.png\n",
      "wybrane_final\\13610184.png\n",
      "wybrane_final\\21983798.png\n"
     ]
    },
    {
     "data": {
      "text/plain": "<Figure size 1368x1008 with 28 Axes>",
      "image/png": "[encoded data removed]"
     },
     "metadata": {
      "needs_background": "light"
     },
     "output_type": "display_data"
    },
    {
     "name": "stdout",
     "output_type": "stream",
     "text": [
      "All files: 13824\n",
      "wybrane_final\\17019991.png\n",
      "wybrane_final\\1350682.png\n",
      "wybrane_final\\12008685.png\n",
      "wybrane_final\\22448493.png\n",
      "wybrane_final\\13825047.png\n",
      "wybrane_final\\11650372.png\n",
      "wybrane_final\\1317214.png\n",
      "wybrane_final\\23841904.png\n",
      "wybrane_final\\1300925.png\n",
      "wybrane_final\\13804972.png\n",
      "wybrane_final\\11864576.png\n",
      "wybrane_final\\22354720.png\n",
      "wybrane_final\\23599146.png\n",
      "wybrane_final\\22704493.png\n",
      "wybrane_final\\11800417.png\n",
      "wybrane_final\\18253571.png\n",
      "wybrane_final\\24270694.png\n",
      "wybrane_final\\11898423.png\n",
      "wybrane_final\\16298802.png\n",
      "wybrane_final\\18861036.png\n",
      "wybrane_final\\23057771.png\n",
      "wybrane_final\\24614015.png\n",
      "wybrane_final\\11838954.png\n",
      "wybrane_final\\24326837.png\n",
      "wybrane_final\\13619407.png\n",
      "wybrane_final\\1382963.png\n",
      "wybrane_final\\2805175.png\n",
      "wybrane_final\\21978583.png\n"
     ]
    },
    {
     "data": {
      "text/plain": "<Figure size 1368x1008 with 28 Axes>",
      "image/png": "[encoded data removed]"
     },
     "metadata": {
      "needs_background": "light"
     },
     "output_type": "display_data"
    },
    {
     "name": "stdout",
     "output_type": "stream",
     "text": [
      "All files: 13824\n",
      "wybrane_final\\24603883.png\n",
      "wybrane_final\\22054680.png\n",
      "wybrane_final\\11681467.png\n",
      "wybrane_final\\11821548.png\n",
      "wybrane_final\\1851780.png\n",
      "wybrane_final\\22236788.png\n",
      "wybrane_final\\11858576.png\n",
      "wybrane_final\\4492253.png\n",
      "wybrane_final\\23051370.png\n",
      "wybrane_final\\24274103.png\n",
      "wybrane_final\\11698858.png\n",
      "wybrane_final\\22497929.png\n",
      "wybrane_final\\24591947.png\n",
      "wybrane_final\\22357430.png\n",
      "wybrane_final\\22437067.png\n",
      "wybrane_final\\11822364.png\n",
      "wybrane_final\\1365008.png\n",
      "wybrane_final\\24139535.png\n",
      "wybrane_final\\1315865.png\n",
      "wybrane_final\\11823281.png\n",
      "wybrane_final\\11810215.png\n",
      "wybrane_final\\11898101.png\n",
      "wybrane_final\\1867516.png\n",
      "wybrane_final\\24594073.png\n",
      "wybrane_final\\1383078.png\n",
      "wybrane_final\\6206187.png\n",
      "wybrane_final\\1370374.png\n",
      "wybrane_final\\10260979.png\n"
     ]
    },
    {
     "data": {
      "text/plain": "<Figure size 1368x1008 with 28 Axes>",
      "image/png": "[encoded data removed]"
     },
     "metadata": {
      "needs_background": "light"
     },
     "output_type": "display_data"
    },
    {
     "name": "stdout",
     "output_type": "stream",
     "text": [
      "All files: 13824\n",
      "wybrane_final\\1669982.png\n",
      "wybrane_final\\23111209.png\n",
      "wybrane_final\\21974313.png\n",
      "wybrane_final\\16259039.png\n",
      "wybrane_final\\5273514.png\n",
      "wybrane_final\\22436675.png\n",
      "wybrane_final\\24603107.png\n",
      "wybrane_final\\21983253.png\n",
      "wybrane_final\\24308358.png\n",
      "wybrane_final\\21068319.png\n",
      "wybrane_final\\21981798.png\n",
      "wybrane_final\\9076376.png\n",
      "wybrane_final\\24602952.png\n",
      "wybrane_final\\21978707.png\n",
      "wybrane_final\\1351273.png\n",
      "wybrane_final\\11069965.png\n",
      "wybrane_final\\11812026.png\n",
      "wybrane_final\\1350554.png\n",
      "wybrane_final\\16034700.png\n",
      "wybrane_final\\22038875.png\n",
      "wybrane_final\\24597746.png\n",
      "wybrane_final\\23431996.png\n",
      "wybrane_final\\24628408.png\n",
      "wybrane_final\\21983459.png\n",
      "wybrane_final\\18610938.png\n",
      "wybrane_final\\11625484.png\n",
      "wybrane_final\\24594326.png\n",
      "wybrane_final\\11681078.png\n"
     ]
    },
    {
     "data": {
      "text/plain": "<Figure size 1368x1008 with 28 Axes>",
      "image/png": "[encoded data removed]"
     },
     "metadata": {
      "needs_background": "light"
     },
     "output_type": "display_data"
    },
    {
     "name": "stdout",
     "output_type": "stream",
     "text": [
      "All files: 13824\n",
      "wybrane_final\\11680783.png\n",
      "wybrane_final\\23422612.png\n",
      "wybrane_final\\21983202.png\n",
      "wybrane_final\\11896794.png\n",
      "wybrane_final\\13836743.png\n",
      "wybrane_final\\6610507.png\n",
      "wybrane_final\\22499941.png\n",
      "wybrane_final\\11698727.png\n",
      "wybrane_final\\24318698.png\n",
      "wybrane_final\\17362887.png\n",
      "wybrane_final\\22667952.png\n",
      "wybrane_final\\11811658.png\n",
      "wybrane_final\\11896840.png\n",
      "wybrane_final\\1402371.png\n",
      "wybrane_final\\24594593.png\n",
      "wybrane_final\\24597690.png\n",
      "wybrane_final\\21983561.png\n",
      "wybrane_final\\10603968.png\n",
      "wybrane_final\\1357380.png\n",
      "wybrane_final\\23058922.png\n",
      "wybrane_final\\1853299.png\n",
      "wybrane_final\\24603141.png\n",
      "wybrane_final\\10428598.png\n",
      "wybrane_final\\24593276.png\n",
      "wybrane_final\\11896255.png\n",
      "wybrane_final\\11899082.png\n",
      "wybrane_final\\24594312.png\n",
      "wybrane_final\\1365008.png\n"
     ]
    },
    {
     "data": {
      "text/plain": "<Figure size 1368x1008 with 28 Axes>",
      "image/png": "[encoded data removed]"
     },
     "metadata": {
      "needs_background": "light"
     },
     "output_type": "display_data"
    },
    {
     "name": "stdout",
     "output_type": "stream",
     "text": [
      "All files: 13824\n",
      "wybrane_final\\1369187.png\n",
      "wybrane_final\\1368850.png\n",
      "wybrane_final\\24178184.png\n",
      "wybrane_final\\11837984.png\n",
      "wybrane_final\\11896694.png\n",
      "wybrane_final\\9247097.png\n",
      "wybrane_final\\24627203.png\n",
      "wybrane_final\\24598283.png\n",
      "wybrane_final\\1366352.png\n",
      "wybrane_final\\16428710.png\n",
      "wybrane_final\\21979260.png\n",
      "wybrane_final\\22034306.png\n",
      "wybrane_final\\1309232.png\n",
      "wybrane_final\\13829425.png\n",
      "wybrane_final\\16862341.png\n",
      "wybrane_final\\23314715.png\n",
      "wybrane_final\\17361073.png\n",
      "wybrane_final\\19287528.png\n",
      "wybrane_final\\21974678.png\n",
      "wybrane_final\\18698545.png\n",
      "wybrane_final\\22449068.png\n",
      "wybrane_final\\13842346.png\n",
      "wybrane_final\\11809447.png\n",
      "wybrane_final\\24622840.png\n",
      "wybrane_final\\15424356.png\n",
      "wybrane_final\\17000160.png\n",
      "wybrane_final\\21978052.png\n",
      "wybrane_final\\24323833.png\n"
     ]
    },
    {
     "data": {
      "text/plain": "<Figure size 1368x1008 with 28 Axes>",
      "image/png": "[encoded data removed]"
     },
     "metadata": {
      "needs_background": "light"
     },
     "output_type": "display_data"
    },
    {
     "name": "stdout",
     "output_type": "stream",
     "text": [
      "All files: 13824\n",
      "wybrane_final\\13836146.png\n",
      "wybrane_final\\24630323.png\n",
      "wybrane_final\\21509734.png\n",
      "wybrane_final\\24135587.png\n",
      "wybrane_final\\8401397.png\n",
      "wybrane_final\\24622925.png\n",
      "wybrane_final\\18263373.png\n",
      "wybrane_final\\1353895.png\n",
      "wybrane_final\\11840272.png\n",
      "wybrane_final\\16292497.png\n",
      "wybrane_final\\24602569.png\n",
      "wybrane_final\\24591577.png\n",
      "wybrane_final\\19277073.png\n",
      "wybrane_final\\24574034.png\n",
      "wybrane_final\\19633148.png\n",
      "wybrane_final\\24305759.png\n",
      "wybrane_final\\5474106.png\n",
      "wybrane_final\\11832689.png\n",
      "wybrane_final\\11864136.png\n",
      "wybrane_final\\15668178.png\n",
      "wybrane_final\\11837926.png\n",
      "wybrane_final\\4875297.png\n",
      "wybrane_final\\13837684.png\n",
      "wybrane_final\\11683313.png\n",
      "wybrane_final\\13842743.png\n",
      "wybrane_final\\6228829.png\n",
      "wybrane_final\\8267516.png\n",
      "wybrane_final\\1312620.png\n"
     ]
    },
    {
     "data": {
      "text/plain": "<Figure size 1368x1008 with 28 Axes>",
      "image/png": "[encoded data removed]"
     },
     "metadata": {
      "needs_background": "light"
     },
     "output_type": "display_data"
    },
    {
     "name": "stdout",
     "output_type": "stream",
     "text": [
      "All files: 13824\n",
      "wybrane_final\\24594822.png\n",
      "wybrane_final\\5909930.png\n",
      "wybrane_final\\24594713.png\n",
      "wybrane_final\\13816712.png\n",
      "wybrane_final\\1308993.png\n",
      "wybrane_final\\6859585.png\n",
      "wybrane_final\\5034058.png\n",
      "wybrane_final\\1365756.png\n",
      "wybrane_final\\22456020.png\n",
      "wybrane_final\\21972665.png\n",
      "wybrane_final\\21245180.png\n",
      "wybrane_final\\11896800.png\n",
      "wybrane_final\\24601187.png\n",
      "wybrane_final\\21974570.png\n",
      "wybrane_final\\24289541.png\n",
      "wybrane_final\\11900035.png\n",
      "wybrane_final\\18270323.png\n",
      "wybrane_final\\15426287.png\n",
      "wybrane_final\\1737396.png\n",
      "wybrane_final\\23769557.png\n",
      "wybrane_final\\1384123.png\n",
      "wybrane_final\\22027241.png\n",
      "wybrane_final\\21567287.png\n",
      "wybrane_final\\18271782.png\n",
      "wybrane_final\\22034706.png\n",
      "wybrane_final\\22391119.png\n",
      "wybrane_final\\22439098.png\n",
      "wybrane_final\\24591934.png\n"
     ]
    },
    {
     "data": {
      "text/plain": "<Figure size 1368x1008 with 28 Axes>",
      "image/png": "[encoded data removed]"
     },
     "metadata": {
      "needs_background": "light"
     },
     "output_type": "display_data"
    },
    {
     "name": "stdout",
     "output_type": "stream",
     "text": [
      "All files: 13824\n",
      "wybrane_final\\22365698.png\n",
      "wybrane_final\\18235557.png\n",
      "wybrane_final\\24602631.png\n",
      "wybrane_final\\11811387.png\n",
      "wybrane_final\\1358011.png\n",
      "wybrane_final\\18074449.png\n",
      "wybrane_final\\11679513.png\n",
      "wybrane_final\\24593232.png\n",
      "wybrane_final\\5041156.png\n",
      "wybrane_final\\13806409.png\n",
      "wybrane_final\\21919130.png\n",
      "wybrane_final\\1613894.png\n",
      "wybrane_final\\2617393.png\n",
      "wybrane_final\\24308542.png\n",
      "wybrane_final\\21975179.png\n",
      "wybrane_final\\23148347.png\n",
      "wybrane_final\\21246314.png\n",
      "wybrane_final\\24613915.png\n",
      "wybrane_final\\7240867.png\n",
      "wybrane_final\\22680991.png\n",
      "wybrane_final\\11834006.png\n",
      "wybrane_final\\11809917.png\n",
      "wybrane_final\\18265038.png\n",
      "wybrane_final\\11809962.png\n",
      "wybrane_final\\23507857.png\n",
      "wybrane_final\\11679276.png\n",
      "wybrane_final\\24593205.png\n",
      "wybrane_final\\11872097.png\n"
     ]
    },
    {
     "data": {
      "text/plain": "<Figure size 1368x1008 with 28 Axes>",
      "image/png": "[encoded data removed]"
     },
     "metadata": {
      "needs_background": "light"
     },
     "output_type": "display_data"
    },
    {
     "name": "stdout",
     "output_type": "stream",
     "text": [
      "All files: 13824\n",
      "wybrane_final\\22675676.png\n",
      "wybrane_final\\24186088.png\n",
      "wybrane_final\\2447406.png\n",
      "wybrane_final\\11665972.png\n",
      "wybrane_final\\11898742.png\n",
      "wybrane_final\\22640990.png\n",
      "wybrane_final\\13842431.png\n",
      "wybrane_final\\13637136.png\n",
      "wybrane_final\\11899012.png\n",
      "wybrane_final\\24601938.png\n",
      "wybrane_final\\23654728.png\n",
      "wybrane_final\\4494546.png\n",
      "wybrane_final\\24613851.png\n",
      "wybrane_final\\16626396.png\n",
      "wybrane_final\\23941429.png\n",
      "wybrane_final\\11636025.png\n",
      "wybrane_final\\16647933.png\n",
      "wybrane_final\\22251551.png\n",
      "wybrane_final\\11895951.png\n",
      "wybrane_final\\24594580.png\n",
      "wybrane_final\\1322761.png\n",
      "wybrane_final\\13289924.png\n",
      "wybrane_final\\23654543.png\n",
      "wybrane_final\\24209079.png\n",
      "wybrane_final\\23518034.png\n",
      "wybrane_final\\24438473.png\n",
      "wybrane_final\\3061461.png\n",
      "wybrane_final\\11895794.png\n"
     ]
    },
    {
     "data": {
      "text/plain": "<Figure size 1368x1008 with 28 Axes>",
      "image/png": "[encoded data removed]"
     },
     "metadata": {
      "needs_background": "light"
     },
     "output_type": "display_data"
    }
   ],
   "source": [
    "from random import randrange\n",
    "import matplotlib.pyplot as plt\n",
    "\n",
    "for i in range(20):\n",
    "    fig = plt.figure(figsize=(19, 14))\n",
    "    columns = 7\n",
    "    rows = int(28 / 7) + 1\n",
    "\n",
    "    print('All files: %d' % len(all_files))\n",
    "\n",
    "    for aaa in range(28):\n",
    "        index = randrange(len(all_files))\n",
    "        img_help = load_image(all_files[index], False)\n",
    "        print(all_files[index])\n",
    "\n",
    "        aaa1 = aaa + 1\n",
    "        r = fig.add_subplot(rows, columns, aaa1)\n",
    "        r.axis(\"off\")\n",
    "        plt.imshow(img_help, cmap='gray', vmin=0, vmax=1, interpolation='none')\n",
    "        plt.savefig('paper/random_%d.svg' % i)\n",
    "\n",
    "    plt.show()"
   ],
   "metadata": {
    "collapsed": false,
    "ExecuteTime": {
     "start_time": "2023-04-27T09:59:58.734915Z",
     "end_time": "2023-04-27T10:02:23.129111Z"
    }
   }
  },
  {
   "cell_type": "code",
   "execution_count": null,
   "outputs": [],
   "source": [],
   "metadata": {
    "collapsed": false
   }
  }
 ],
 "metadata": {
  "kernelspec": {
   "display_name": "Python 3",
   "language": "python",
   "name": "python3"
  },
  "language_info": {
   "codemirror_mode": {
    "name": "ipython",
    "version": 2
   },
   "file_extension": ".py",
   "mimetype": "text/x-python",
   "name": "python",
   "nbconvert_exporter": "python",
   "pygments_lexer": "ipython2",
   "version": "2.7.6"
  }
 },
 "nbformat": 4,
 "nbformat_minor": 0
}
