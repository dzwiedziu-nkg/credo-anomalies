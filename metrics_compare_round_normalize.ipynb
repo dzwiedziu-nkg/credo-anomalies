{
 "cells": [
  {
   "cell_type": "code",
   "execution_count": 4,
   "outputs": [
    {
     "name": "stdout",
     "output_type": "stream",
     "text": [
      "44.00699833724652\n",
      "44.00699833724652\n",
      "18.366955541360774\n",
      "61.76171488083117\n",
      "45.65845620289663\n",
      "4.579069071989996\n",
      "-----------------------------  -------------  ----------------  ----------------  ----------------  --------------\n",
      "Image 0 vs image:                 0                1                 2                 3               4\n",
      "mean                              0               -7.54473          -8.09669          -8.07097        -6.85452\n",
      "avg_hash                          0                0                 0                 0.00378072      0.00378072\n",
      "p_hash                            0                0.0226843         0.0378072         0.0831758       0.0529301\n",
      "d_hash                            0                0.00189036        0                 0.00378072      0.00567108\n",
      "haar_hash                         0                0.0226843         0.0567108         0.0491493       0.0321361\n",
      "db4_hash                          0                0.0661626         0.10586           0.111531        0.0907372\n",
      "AUC                               1                0.585382          0.672625          0.716395        0.540914\n",
      "Accuracy                          1                0.99              0.990556          0.991667        0.988055\n",
      "BinaryAccuracy                    0.993611         0.993611          0.993611          0.993611        0.993333\n",
      "BinaryCrossentropy                0.00334466       0.020617          0.0152245         0.014982        0.0232673\n",
      "BinaryIoU                         1                1                 0.499861          1               0.499583\n",
      "CategoricalAccuracy               1                1                 1                 1               1\n",
      "CategoricalCrossentropy         nan              nan               nan               nan             nan\n",
      "CategoricalHinge                  1.00066          1.00097           1.00077           1.00066         1.00151\n",
      "CosineSimilarity                  0.00638889       0.00111111        0.00222222        0.00277778      0.000555556\n",
      "FalseNegatives                   23               23                22                23              21\n",
      "FalsePositives                    0                0                 0                 0               1\n",
      "Hinge                             0.999553         0.999879          0.99979           0.999857        0.999883\n",
      "KLDivergence                      0                0.0181401         0.0126068         0.0125911       0.0200452\n",
      "LogCoshError                      0                0.000279182       0.000190533       0.000193853     0.000446005\n",
      "Mean                              0.287618         0.0997393         0.176748          0.151763        0.0668989\n",
      "MeanAbsoluteError                 0                0.00214854        0.00162152        0.00153958      0.00292198\n",
      "MeanAbsolutePercentageError       0           811353            546280            397962               1.40393e+06\n",
      "MeanSquaredError                  0                0.000566625       0.00038649        0.000393442     0.000914262\n",
      "MeanSquaredLogarithmicError       0                0.000434024       0.000294703       0.00029643      0.000652911\n",
      "Poisson                           0.00359642       0.0213897         0.0158337         0.015576        0.0238351\n",
      "Precision                         0                0                 1                 0               0.666667\n",
      "Recall                            0                0                 0.0434783         0               0.0869565\n",
      "RootMeanSquaredError              0                0.0238039         0.0196593         0.0198354       0.0302368\n",
      "SparseCategoricalAccuracy         0.993611         0.993611          0.993611          0.993611        0.993611\n",
      "SparseCategoricalCrossentropy     0                0                 0                 0               0\n",
      "SparseTopKCategoricalAccuracy     1                1                 1                 1               1\n",
      "SquaredHinge                      0.999151         0.999774          0.999607          0.999724        0.999791\n",
      "Sum                               1.61071          0.434041          0.754688          0.515837        0.421241\n",
      "TopKCategoricalAccuracy           1                1                 1                 1               1\n",
      "TrueNegatives                  3577             3577              3577              3577            3576\n",
      "TruePositives                     0                0                 1                 0               2\n",
      "-----------------------------  -------------  ----------------  ----------------  ----------------  --------------\n"
     ]
    },
    {
     "data": {
      "text/plain": "<Figure size 1440x1440 with 5 Axes>",
      "image/png": "[encoded data removed]"
     },
     "metadata": {
      "needs_background": "light"
     },
     "output_type": "display_data"
    }
   ],
   "source": [
    "import numpy as np\n",
    "\n",
    "from dataset_loader import load_from_file\n",
    "from tabulate import tabulate\n",
    "from matplotlib.pyplot import figure, imshow, axis\n",
    "from commons import *\n",
    "from skimage import data, util\n",
    "from skimage.measure import label, regionprops\n",
    "from scipy.ndimage import rotate\n",
    "\n",
    "# obrót do poziomu, metodami:\n",
    "# 1. hough lines\n",
    "# 2. tomkowe\n",
    "# 3. tamtą pierwszą biblioteką od eliciticy\n",
    "# informacja wzjaemna - między jednym obrazkiem a porównywanym\n",
    "# jeszcze te metryki: https://towardsdatascience.com/measuring-similarity-in-two-images-using-python-b72233eb53c6\n",
    "\n",
    "\n",
    "DOTS_DST = 'cache/dots_v2.pickle'\n",
    "TRACKS_DST = 'cache/tracks_v2.pickle'\n",
    "WORMS_DST = 'cache/worms_v2.pickle'\n",
    "ARTIFACTS_DST = 'cache/artifacts_v2.pickle'\n",
    "\n",
    "DOTS_DSTx4 = 'cache/dots_v3.pickle'\n",
    "TRACKS_DSTx4 = 'cache/tracks_v3.pickle'\n",
    "WORMS_DSTx4 = 'cache/worms_v3.pickle'\n",
    "ARTIFACTS_DSTx4 = 'cache/artifacts_v3.pickle'\n",
    "\n",
    "\n",
    "tf_classes = [ tf.keras.metrics.AUC,\n",
    "    tf.keras.metrics.Accuracy,\n",
    "    tf.keras.metrics.BinaryAccuracy,\n",
    "    tf.keras.metrics.BinaryCrossentropy,\n",
    "    tf.keras.metrics.BinaryIoU,\n",
    "    tf.keras.metrics.CategoricalAccuracy,\n",
    "    tf.keras.metrics.CategoricalCrossentropy,\n",
    "    tf.keras.metrics.CategoricalHinge,\n",
    "    tf.keras.metrics.CosineSimilarity,\n",
    "    tf.keras.metrics.FalseNegatives,\n",
    "    tf.keras.metrics.FalsePositives,\n",
    "    tf.keras.metrics.Hinge,\n",
    "    #tf.keras.metrics.IoU,\n",
    "    tf.keras.metrics.KLDivergence,\n",
    "    tf.keras.metrics.LogCoshError,\n",
    "    tf.keras.metrics.Mean,\n",
    "    tf.keras.metrics.MeanAbsoluteError,\n",
    "    tf.keras.metrics.MeanAbsolutePercentageError,\n",
    "    #tf.keras.metrics.MeanIoU,\n",
    "    #tf.keras.metrics.MeanMetricWrapper,\n",
    "    #tf.keras.metrics.MeanRelativeError,\n",
    "    tf.keras.metrics.MeanSquaredError,\n",
    "    tf.keras.metrics.MeanSquaredLogarithmicError,\n",
    "    #tf.keras.metrics.MeanTensor,\n",
    "    #tf.keras.metrics.Metric,\n",
    "    #tf.keras.metrics.OneHotIoU,\n",
    "    #tf.keras.metrics.OneHotMeanIoU,\n",
    "    tf.keras.metrics.Poisson,\n",
    "    tf.keras.metrics.Precision,\n",
    "    #tf.keras.metrics.PrecisionAtRecall,\n",
    "    tf.keras.metrics.Recall,\n",
    "    #tf.keras.metrics.RecallAtPrecision,\n",
    "    tf.keras.metrics.RootMeanSquaredError,\n",
    "    #tf.keras.metrics.SensitivityAtSpecificity,\n",
    "    tf.keras.metrics.SparseCategoricalAccuracy,\n",
    "    tf.keras.metrics.SparseCategoricalCrossentropy,\n",
    "    tf.keras.metrics.SparseTopKCategoricalAccuracy,\n",
    "    #tf.keras.metrics.SpecificityAtSensitivity,\n",
    "    tf.keras.metrics.SquaredHinge,\n",
    "    tf.keras.metrics.Sum,\n",
    "    tf.keras.metrics.TopKCategoricalAccuracy,\n",
    "    tf.keras.metrics.TrueNegatives,\n",
    "    tf.keras.metrics.TruePositives ]\n",
    "\n",
    "def generic_tf_metrics(cls):\n",
    "    def tf_metrics(image, recon):\n",
    "        m = cls()\n",
    "        m.update_state(image, recon)\n",
    "        return m.result().numpy()\n",
    "    return tf_metrics, cls.__name__\n",
    "\n",
    "tf_mean = generic_tf_metrics(tf.keras.metrics.Mean)\n",
    "\n",
    "\n",
    "def tf_kl_divergence(image, recon):\n",
    "    m = tf.keras.metrics.KLDivergence()\n",
    "    m.update_state(image, recon)\n",
    "    return m.result().numpy()\n",
    "\n",
    "\n",
    "def tf_accuracy(image, recon):\n",
    "    m = tf.keras.metrics.Accuracy()\n",
    "    m.update_state(image, recon)\n",
    "    return m.result().numpy()\n",
    "\n",
    "def tf_mse(image, recon):\n",
    "    m = tf.keras.metrics.MeanSquaredError()\n",
    "    m.update_state(image, recon)\n",
    "    return m.result().numpy()\n",
    "\n",
    "\n",
    "\n",
    "\n",
    "funcs = [\n",
    "    (dm_func_mean2, 'mean'),\n",
    "    (dm_func_avg_hash, 'avg_hash'),\n",
    "    (dm_func_p_hash, 'p_hash'),\n",
    "    (dm_func_d_hash,  'd_hash'),\n",
    "    (dm_func_haar_hash,  'haar_hash'),\n",
    "    (dm_func_db4_hash, 'db4_hash')\n",
    "] #, tf_kl_divergence, tf_accuracy, tf_mse]\n",
    "for c in tf_classes:\n",
    "    funcs.append(generic_tf_metrics(c))\n",
    "\n",
    "\n",
    "def round_normalize(image):\n",
    "    label_img = np.where(image > 0, 1, 0)\n",
    "    #label_img = label(img, connectivity=img.ndim)\n",
    "    props = regionprops(label_img)\n",
    "\n",
    "    deg = props[0].orientation*(180/np.pi)\n",
    "    print(deg)\n",
    "    mask = np.where(image == 0, 0.0, 1.0)\n",
    "    rotated_mask = rotate(mask, deg, reshape=False)\n",
    "    rotated_image = rotate(image, deg, reshape=False)\n",
    "    rotated_image = np.where(rotated_mask < 0.25, 0, rotated_image)\n",
    "    rotated_image = np.where(rotated_image < 0, 0, rotated_image)\n",
    "    rotated_image = np.where(rotated_image > 1, 1, rotated_image)\n",
    "    return rotated_image\n",
    "\n",
    "\n",
    "def showImagesMatrix(images, col=10):\n",
    "\n",
    "    hSize = 20\n",
    "    wSize = 20\n",
    "\n",
    "    fig = figure( figsize=(wSize, hSize))\n",
    "    number_of_files = len(images)\n",
    "    row = number_of_files // col\n",
    "    if (number_of_files%col != 0):\n",
    "        row += 1\n",
    "\n",
    "    row_head = ['Image 0 vs image:']\n",
    "    row_funcs = []\n",
    "\n",
    "    for f, n in funcs:\n",
    "        row_funcs.append([n])\n",
    "\n",
    "    img0 = round_normalize(images[0])\n",
    "    img0 = np.expand_dims(img0, axis=-1)\n",
    "\n",
    "    for i in range(number_of_files):\n",
    "        row_head.append(str(i))\n",
    "        a=fig.add_subplot(row,col,i+1)\n",
    "        image = round_normalize(images[i])\n",
    "        image = np.expand_dims(image, axis=-1)\n",
    "        imshow(image,cmap='Greys_r')\n",
    "        axis('off')\n",
    "\n",
    "        #print('%010s | %6.3f' % ('dm_func_mean2', v))\n",
    "        for fi, (f, n) in enumerate(funcs):\n",
    "            v = f(img0, image)\n",
    "            row_funcs[fi].append(str(v))\n",
    "\n",
    "    table = [row_head, *row_funcs]\n",
    "    print(tabulate(table))\n",
    "\n",
    "\n",
    "\n",
    "images, augmented = load_from_file(TRACKS_DST)\n",
    "showImagesMatrix([images[0], images[1], images[2], images[3], images[4]], 5)"
   ],
   "metadata": {
    "collapsed": false,
    "pycharm": {
     "name": "#%%\n"
    }
   }
  },
  {
   "cell_type": "code",
   "execution_count": 9,
   "outputs": [
    {
     "name": "stdout",
     "output_type": "stream",
     "text": [
      "-----------------------------  -------------  --------------  -------------  ----------------  ----------------\n",
      "Image 0 vs image:                 0              1               2                3                 4\n",
      "mean                              0             -7.37842         0               -9.06188          -9.10329\n",
      "avg_hash                          0              0.00189036      0                0                 0\n",
      "p_hash                            0              0.0378072       0                0.0604915         0.0604915\n",
      "d_hash                            0              0.00189036      0                0                 0\n",
      "haar_hash                         0              0.0604915       0                0.0453686         0.0453686\n",
      "db4_hash                          0              0.0982987       0                0.0151229         0.0151229\n",
      "AUC                               1              0.605371        1                0.934612          0.89097\n",
      "Accuracy                          1              0.986111        1                0.992778          0.992222\n",
      "BinaryAccuracy                    0.993611       0.993611        0.993611         0.993611          0.993611\n",
      "BinaryCrossentropy                0.00334466     0.0193712       0.00334466       0.00532437        0.00651724\n",
      "BinaryIoU                         1              1               1                1                 1\n",
      "CategoricalAccuracy               1              1               1                1                 1\n",
      "CategoricalCrossentropy         nan            nan             nan              nan               nan\n",
      "CategoricalHinge                  1.00066        1.00138         1.00066          1.00086           1.00085\n",
      "CosineSimilarity                  0.00638889     0.00138889      0.00638889       0.00555556        0.005\n",
      "FalseNegatives                   23             23              23               23                23\n",
      "FalsePositives                    0              0               0                0                 0\n",
      "Hinge                             0.999553       0.999863        0.999553         0.999652          0.999649\n",
      "KLDivergence                      0              0.0163077       0                0.00192856        0.00319423\n",
      "LogCoshError                      0              0.000312746     0                9.82532e-05       9.52561e-05\n",
      "Mean                              0.287618       0.0831144       0.287618         0.223988          0.225789\n",
      "MeanAbsoluteError                 0              0.00248818      0                0.00105546        0.00101431\n",
      "MeanAbsolutePercentageError       0              1.24253e+06     0           107973            204917\n",
      "MeanSquaredError                  0              0.000635859     0                0.000197965       0.000192364\n",
      "MeanSquaredLogarithmicError       0              0.000482772     0                0.000138036       0.000137929\n",
      "Poisson                           0.00359642     0.0200008       0.00359642       0.00552498        0.00679065\n",
      "Precision                         0              0               0                0                 0\n",
      "Recall                            0              0               0                0                 0\n",
      "RootMeanSquaredError              0              0.0252162       0                0.01407           0.0138695\n",
      "SparseCategoricalAccuracy         0.993611       0.993611        0.993611         0.993611          0.993611\n",
      "SparseCategoricalCrossentropy     0              0               0                0                 0\n",
      "SparseTopKCategoricalAccuracy     1              1               1                1                 1\n",
      "SquaredHinge                      0.999151       0.999742        0.999151         0.999331          0.999328\n",
      "Sum                               1.61071        0.494393        1.61071          1.25438           1.26446\n",
      "TopKCategoricalAccuracy           1              1               1                1                 1\n",
      "TrueNegatives                  3577           3577            3577             3577              3577\n",
      "TruePositives                     0              0               0                0                 0\n",
      "-----------------------------  -------------  --------------  -------------  ----------------  ----------------\n"
     ]
    },
    {
     "data": {
      "text/plain": "<Figure size 1440x1440 with 5 Axes>",
      "image/png": "[encoded data removed]"
     },
     "metadata": {
      "needs_background": "light"
     },
     "output_type": "display_data"
    }
   ],
   "source": [
    "showImagesMatrix([images[0], augmented[0], augmented[2], augmented[5], augmented[16]], 5)"
   ],
   "metadata": {
    "collapsed": false,
    "pycharm": {
     "name": "#%%\n"
    }
   }
  },
  {
   "cell_type": "code",
   "execution_count": 10,
   "outputs": [
    {
     "name": "stdout",
     "output_type": "stream",
     "text": [
      "-----------------------------  -------------  ----------------  ----------------  ----------------  --------------\n",
      "Image 0 vs image:                 0                1                 2                 3               4\n",
      "mean                              0               -7.54473          -8.09669          -8.07097        -6.85452\n",
      "avg_hash                          0                0                 0                 0.00378072      0.00378072\n",
      "p_hash                            0                0.0226843         0.0378072         0.0831758       0.0529301\n",
      "d_hash                            0                0.00189036        0                 0.00378072      0.00567108\n",
      "haar_hash                         0                0.0226843         0.0567108         0.0491493       0.0321361\n",
      "db4_hash                          0                0.0661626         0.10586           0.111531        0.0907372\n",
      "AUC                               1                0.585382          0.672625          0.716395        0.540914\n",
      "Accuracy                          1                0.99              0.990556          0.991667        0.988055\n",
      "BinaryAccuracy                    0.993611         0.993611          0.993611          0.993611        0.993333\n",
      "BinaryCrossentropy                0.00334466       0.020617          0.0152245         0.014982        0.0232673\n",
      "BinaryIoU                         1                1                 0.499861          1               0.499583\n",
      "CategoricalAccuracy               1                1                 1                 1               1\n",
      "CategoricalCrossentropy         nan              nan               nan               nan             nan\n",
      "CategoricalHinge                  1.00066          1.00097           1.00077           1.00066         1.00151\n",
      "CosineSimilarity                  0.00638889       0.00111111        0.00222222        0.00277778      0.000555556\n",
      "FalseNegatives                   23               23                22                23              21\n",
      "FalsePositives                    0                0                 0                 0               1\n",
      "Hinge                             0.999553         0.999879          0.99979           0.999857        0.999883\n",
      "KLDivergence                      0                0.0181401         0.0126068         0.0125911       0.0200452\n",
      "LogCoshError                      0                0.000279182       0.000190533       0.000193853     0.000446005\n",
      "Mean                              0.287618         0.0997393         0.176748          0.151763        0.0668989\n",
      "MeanAbsoluteError                 0                0.00214854        0.00162152        0.00153958      0.00292198\n",
      "MeanAbsolutePercentageError       0           811353            546280            397962               1.40393e+06\n",
      "MeanSquaredError                  0                0.000566625       0.00038649        0.000393442     0.000914262\n",
      "MeanSquaredLogarithmicError       0                0.000434024       0.000294703       0.00029643      0.000652911\n",
      "Poisson                           0.00359642       0.0213897         0.0158337         0.015576        0.0238351\n",
      "Precision                         0                0                 1                 0               0.666667\n",
      "Recall                            0                0                 0.0434783         0               0.0869565\n",
      "RootMeanSquaredError              0                0.0238039         0.0196593         0.0198354       0.0302368\n",
      "SparseCategoricalAccuracy         0.993611         0.993611          0.993611          0.993611        0.993611\n",
      "SparseCategoricalCrossentropy     0                0                 0                 0               0\n",
      "SparseTopKCategoricalAccuracy     1                1                 1                 1               1\n",
      "SquaredHinge                      0.999151         0.999774          0.999607          0.999724        0.999791\n",
      "Sum                               1.61071          0.434041          0.754688          0.515837        0.421241\n",
      "TopKCategoricalAccuracy           1                1                 1                 1               1\n",
      "TrueNegatives                  3577             3577              3577              3577            3576\n",
      "TruePositives                     0                0                 1                 0               2\n",
      "-----------------------------  -------------  ----------------  ----------------  ----------------  --------------\n"
     ]
    },
    {
     "data": {
      "text/plain": "<Figure size 1440x1440 with 5 Axes>",
      "image/png": "[encoded data removed]"
     },
     "metadata": {
      "needs_background": "light"
     },
     "output_type": "display_data"
    }
   ],
   "source": [
    "showImagesMatrix([images[0], images[1], images[2], images[3], images[4]], 5)"
   ],
   "metadata": {
    "collapsed": false,
    "pycharm": {
     "name": "#%%\n"
    }
   }
  },
  {
   "cell_type": "code",
   "execution_count": 11,
   "outputs": [
    {
     "name": "stdout",
     "output_type": "stream",
     "text": [
      "-----------------------------  --------------  ---------------  ----------------  ----------------  ----------------\n",
      "Image 0 vs image:                 0                1                 2                 3                 4\n",
      "mean                              0               -5.41299          -2.68695          -2.68695          -2.68695\n",
      "avg_hash                          0                0                 0                 0                 0\n",
      "p_hash                            0                0                 8                 8                 8\n",
      "d_hash                            0                0                 0                 0                 0\n",
      "haar_hash                         0                1.25             10.5              10.5               4.5\n",
      "db4_hash                          0                4.25             19                19                 9\n",
      "AUC                               1                0.999861          0.499722          0.499722          0.499722\n",
      "Accuracy                          1                0.998889          0.998889          0.998889          0.998889\n",
      "BinaryAccuracy                    0.999444         0.999444          0.999444          0.999444          0.999444\n",
      "BinaryCrossentropy                0.000260961      0.000355745       0.00249123        0.00249123        0.00249123\n",
      "BinaryIoU                         1                1                 1                 1                 1\n",
      "CategoricalAccuracy               1                1                 1                 1                 1\n",
      "CategoricalCrossentropy         nan              nan               nan               nan               nan\n",
      "CategoricalHinge                  1.00002          1.0001            1.00015           1.00015           1.00015\n",
      "CosineSimilarity                  0.000555555      0.000555556       0                 0                 0\n",
      "FalseNegatives                    2                2                 2                 2                 2\n",
      "FalsePositives                    0                0                 0                 0                 0\n",
      "Hinge                             0.999938         0.999958          1                 1                 1\n",
      "KLDivergence                      0                4.49902e-05       0.0022501         0.0022501         0.0022501\n",
      "LogCoshError                      0                9.34634e-06       6.00169e-05       6.00169e-05       6.00169e-05\n",
      "Mean                              0.417242         0.222948          0                 0                 0\n",
      "MeanAbsoluteError                 0                0.000130612       0.000297749       0.000297749       0.000297749\n",
      "MeanAbsolutePercentageError       0            66093.6          148874            148874            148874\n",
      "MeanSquaredError                  0                1.87766e-05       0.000124233       0.000124233       0.000124233\n",
      "MeanSquaredLogarithmicError       0                1.34485e-05       8.42727e-05       8.42727e-05       8.42727e-05\n",
      "Poisson                           0.000298349      0.000380863       0.00254845        0.00254845        0.00254845\n",
      "Precision                         0                0                 0                 0                 0\n",
      "Recall                            0                0                 0                 0                 0\n",
      "RootMeanSquaredError              0                0.0043332         0.011146          0.011146          0.011146\n",
      "SparseCategoricalAccuracy         0.999444         0.999444          0.999444          0.999444          0.999444\n",
      "SparseCategoricalCrossentropy     0                0                 0                 0                 0\n",
      "SparseTopKCategoricalAccuracy     1                1                 1                 1                 1\n",
      "SquaredHinge                      0.999889         0.999922          1                 1                 1\n",
      "Sum                               0.22362          0.149605          0                 0                 0\n",
      "TopKCategoricalAccuracy           1                1                 1                 1                 1\n",
      "TrueNegatives                  3598             3598              3598              3598              3598\n",
      "TruePositives                     0                0                 0                 0                 0\n",
      "-----------------------------  --------------  ---------------  ----------------  ----------------  ----------------\n"
     ]
    },
    {
     "data": {
      "text/plain": "<Figure size 1440x1440 with 5 Axes>",
      "image/png": "[encoded data removed]"
     },
     "metadata": {
      "needs_background": "light"
     },
     "output_type": "display_data"
    }
   ],
   "source": [
    "images_dots, augmented_dots = load_from_file(DOTS_DST)\n",
    "\n",
    "showImagesMatrix([images_dots[0], augmented_dots[0], augmented_dots[2], augmented_dots[5], augmented_dots[16]], 5)"
   ],
   "metadata": {
    "collapsed": false,
    "pycharm": {
     "name": "#%%\n"
    }
   }
  },
  {
   "cell_type": "code",
   "execution_count": 12,
   "outputs": [
    {
     "name": "stdout",
     "output_type": "stream",
     "text": [
      "-----------------------------  --------------  ----------------  ----------------  ----------------  ----------------\n",
      "Image 0 vs image:                 0                 1                 2                 3                 4\n",
      "mean                              0                -2.76714          -4.75607          -1.04214          -1.50167\n",
      "avg_hash                          0                 0                 0                 0                 0\n",
      "p_hash                            0                 8                 0                 8                 0\n",
      "d_hash                            0                 0                 0                 0                 0\n",
      "haar_hash                         0                 6.5               3.5               6                 3.5\n",
      "db4_hash                          0                10                 5                 9.5               6.25\n",
      "AUC                               1                 0.749514          0.999583          0.749236          0.999444\n",
      "Accuracy                          1                 0.998611          0.998333          0.998056          0.996944\n",
      "BinaryAccuracy                    0.999444          0.999444          0.999444          0.998889          0.999167\n",
      "BinaryCrossentropy                0.000260961       0.000851634       0.000438133       0.00160867        0.00117864\n",
      "BinaryIoU                         1                 1                 0.499861          0.499722          0.499722\n",
      "CategoricalAccuracy               1                 1                 1                 1                 1\n",
      "CategoricalCrossentropy         nan               nan               nan               nan               nan\n",
      "CategoricalHinge                  1.00002           1.00027           1.00019           1.00064           1.00073\n",
      "CosineSimilarity                  0.000555555       0.000277778       0.000555555       0.000277778       0.000555556\n",
      "FalseNegatives                    2                 2                 1                 2                 1\n",
      "FalsePositives                    0                 0                 0                 2                 1\n",
      "Hinge                             0.999938          0.999966          0.999932          0.999965          0.999951\n",
      "KLDivergence                      0                 0.000329238      -1.84594e-05       0.000323539       2.09533e-05\n",
      "LogCoshError                      0                 5.71627e-05       1.47153e-05       0.000179644       0.000136664\n",
      "Mean                              0.417242          0.100259          0.208332          0.0499225         0.0583153\n",
      "MeanAbsoluteError                 0                 0.000342623       0.000178432       0.000708444       0.00077822\n",
      "MeanAbsolutePercentageError       0            266379            157882            635454            600633\n",
      "MeanSquaredError                  0                 0.000117516       2.96053e-05       0.000388484       0.000282515\n",
      "MeanSquaredLogarithmicError       0                 8.02853e-05       2.46424e-05       0.000227118       0.000189261\n",
      "Poisson                           0.000298349       0.000817723       0.000458323       0.00118435        0.00100154\n",
      "Precision                         0                 0                 1                 0                 0.5\n",
      "Recall                            0                 0                 0.5               0                 0.5\n",
      "RootMeanSquaredError              0                 0.0108405         0.00544107        0.01971           0.0168082\n",
      "SparseCategoricalAccuracy         0.999444          0.999444          0.999444          0.999444          0.999444\n",
      "SparseCategoricalCrossentropy     0                 0                 0                 0                 0\n",
      "SparseTopKCategoricalAccuracy     1                 1                 1                 1                 1\n",
      "SquaredHinge                      0.999889          0.999936          0.999879          0.999934          0.999909\n",
      "Sum                               0.22362           0.12236           0.245478          0.127842          0.174479\n",
      "TopKCategoricalAccuracy           1                 1                 1                 1                 1\n",
      "TrueNegatives                  3598              3598              3598              3596              3597\n",
      "TruePositives                     0                 0                 1                 0                 1\n",
      "-----------------------------  --------------  ----------------  ----------------  ----------------  ----------------\n"
     ]
    },
    {
     "data": {
      "text/plain": "<Figure size 1440x1440 with 5 Axes>",
      "image/png": "[encoded data removed]"
     },
     "metadata": {
      "needs_background": "light"
     },
     "output_type": "display_data"
    }
   ],
   "source": [
    "showImagesMatrix([images_dots[0], images_dots[1], images_dots[2], images_dots[3], images_dots[4]], 5)"
   ],
   "metadata": {
    "collapsed": false,
    "pycharm": {
     "name": "#%%\n"
    }
   }
  },
  {
   "cell_type": "code",
   "execution_count": 13,
   "outputs": [
    {
     "name": "stdout",
     "output_type": "stream",
     "text": [
      "-----------------------------  -------------  ----------------  --------------  --------------  --------------\n",
      "Image 0 vs image:                 0                1               2               3               4\n",
      "mean                              0              -10.3988         -9.01399        -9.01399        -9.40571\n",
      "avg_hash                          0                0.000991736     0.000661157     0.000661157     0.000661157\n",
      "p_hash                            0                0               0.0105785       0.0105785       0.0105785\n",
      "d_hash                            0                0.000991736     0.00132231      0.00132231      0.00132231\n",
      "haar_hash                         0                0.00595041      0.0145455       0.0145455       0.00528926\n",
      "db4_hash                          0                0.0168595       0.0340496       0.0340496       0.0168595\n",
      "AUC                               1                0.825325        0.548318        0.548318        0.696115\n",
      "Accuracy                          1                0.980225        0.974609        0.974609        0.978516\n",
      "BinaryAccuracy                    0.986572         0.986572        0.986572        0.986572        0.986572\n",
      "BinaryCrossentropy                0.00535206       0.0125992       0.0357858       0.0357858       0.0247483\n",
      "BinaryIoU                         1                1               1               1               1\n",
      "CategoricalAccuracy               1                1               1               1               1\n",
      "CategoricalCrossentropy         nan              nan             nan             nan             nan\n",
      "CategoricalHinge                  1.00108          1.00155         1.00225         1.00225         1.00197\n",
      "CosineSimilarity                  0.0134277        0.0090332       0.00146484      0.00146484      0.00537109\n",
      "FalseNegatives                   55               55              55              55              55\n",
      "FalsePositives                    0                0               0               0               0\n",
      "Hinge                             0.999397         0.999621        0.999982        0.999982        0.999843\n",
      "KLDivergence                      0                0.00725296      0.031193        0.031193        0.0197512\n",
      "LogCoshError                      0                0.000221893     0.000574316     0.000574316     0.000438174\n",
      "Mean                              0.263805         0.164421        0.00782246      0.00782246      0.0686893\n",
      "MeanAbsoluteError                 0                0.00234539      0.00435158      0.00435158      0.00348192\n",
      "MeanAbsolutePercentageError       0           492954               2.12291e+06     2.12291e+06     1.30748e+06\n",
      "MeanSquaredError                  0                0.000448134     0.00117024      0.00117024      0.00089198\n",
      "MeanSquaredLogarithmicError       0                0.000327327     0.000882263     0.000882263     0.000659299\n",
      "Poisson                           0.00569313       0.0129626       0.0368861       0.0368861       0.0254444\n",
      "Precision                         0                0               0               0               0\n",
      "Recall                            0                0               0               0               0\n",
      "RootMeanSquaredError              0                0.0211692       0.0342087       0.0342087       0.029866\n",
      "SparseCategoricalAccuracy         0.986572         0.986572        0.986572        0.986572        0.986572\n",
      "SparseCategoricalCrossentropy     0                0               0               0               0\n",
      "SparseTopKCategoricalAccuracy     1                1               1               1               1\n",
      "SquaredHinge                      0.998862         0.999274        0.999965        0.999965        0.999694\n",
      "Sum                               2.46988          1.55052         0.0732381       0.0732381       0.643107\n",
      "TopKCategoricalAccuracy           1                1               1               1               1\n",
      "TrueNegatives                  4041             4041            4041            4041            4041\n",
      "TruePositives                     0                0               0               0               0\n",
      "-----------------------------  -------------  ----------------  --------------  --------------  --------------\n"
     ]
    },
    {
     "data": {
      "text/plain": "<Figure size 1440x1440 with 5 Axes>",
      "image/png": "[encoded data removed]"
     },
     "metadata": {
      "needs_background": "light"
     },
     "output_type": "display_data"
    }
   ],
   "source": [
    "images_dots4x, augmented_dots4x = load_from_file(DOTS_DSTx4)\n",
    "showImagesMatrix([images_dots4x[0], augmented_dots4x[0], augmented_dots4x[2], augmented_dots4x[5], augmented_dots4x[16]], 5)"
   ],
   "metadata": {
    "collapsed": false,
    "pycharm": {
     "name": "#%%\n"
    }
   }
  },
  {
   "cell_type": "code",
   "execution_count": 14,
   "outputs": [
    {
     "name": "stdout",
     "output_type": "stream",
     "text": [
      "-----------------------------  -------------  --------------  --------------  --------------  --------------\n",
      "Image 0 vs image:                 0              1               2               3               4\n",
      "mean                              0             -8.17037       -10.0407         -7.59865        -7.4948\n",
      "avg_hash                          0              0.000661157     0.000330579     0.000330579     0.00165289\n",
      "p_hash                            0              0.0105785       0               0               0\n",
      "d_hash                            0              0.00132231      0.00165289      0.00132231      0.00198347\n",
      "haar_hash                         0              0.0158678       0.00661157      0.00231405      0.00528926\n",
      "db4_hash                          0              0.0416529       0.0161983       0.0201653       0.0145455\n",
      "AUC                               1              0.620105        0.933594        0.99953         0.975866\n",
      "Accuracy                          1              0.972656        0.976807        0.972412        0.958496\n",
      "BinaryAccuracy                    0.986572       0.984863        0.986572        0.986328        0.985352\n",
      "BinaryCrossentropy                0.00535206     0.0342272       0.00829711      0.0142874       0.0168521\n",
      "BinaryIoU                         1              0.499023        1               0.495361        0.496948\n",
      "CategoricalAccuracy               1              1               1               1               1\n",
      "CategoricalCrossentropy         nan            nan             nan             nan             nan\n",
      "CategoricalHinge                  1.00108        1.00449         1.00313         1.00786         1.01049\n",
      "CosineSimilarity                  0.0134277      0.00341797      0.0117188       0.0134277       0.0129395\n",
      "FalseNegatives                   55             54              55              18              35\n",
      "FalsePositives                    0              7               0               1               5\n",
      "Hinge                             0.999397       0.999893        0.999324        0.9985          0.999022\n",
      "KLDivergence                      0              0.0262413       0.000403536    -0.00240594     -0.00107155\n",
      "LogCoshError                      0              0.00102006      0.00028286      0.00152021      0.00163802\n",
      "Mean                              0.263805       0.0226699       0.151           0.138101        0.0785681\n",
      "MeanAbsoluteError                 0              0.0062116       0.00265158      0.00857823      0.010382\n",
      "MeanAbsolutePercentageError       0              3.84125e+06     1.41151e+06     3.22692e+06     7.07363e+06\n",
      "MeanSquaredError                  0              0.00210005      0.00057438      0.00312128      0.00335424\n",
      "MeanSquaredLogarithmicError       0              0.0014797       0.000414882     0.0019014       0.00231964\n",
      "Poisson                           0.00569313     0.0343506       0.00829009      0.0118654       0.0147818\n",
      "Precision                         0              0.125           0               0.973684        0.8\n",
      "Recall                            0              0.0181818       0               0.672727        0.363636\n",
      "RootMeanSquaredError              0              0.0458263       0.0239662       0.0558684       0.0579158\n",
      "SparseCategoricalAccuracy         0.986572       0.986572        0.986572        0.986572        0.986572\n",
      "SparseCategoricalCrossentropy     0              0               0               0               0\n",
      "SparseTopKCategoricalAccuracy     1              1               1               1               1\n",
      "SquaredHinge                      0.998862       0.999791        0.998721        0.997299        0.998172\n",
      "Sum                               2.46988        0.436602        2.77035         6.14536         4.00531\n",
      "TopKCategoricalAccuracy           1              1               1               1               1\n",
      "TrueNegatives                  4041           4034            4041            4040            4036\n",
      "TruePositives                     0              1               0              37              20\n",
      "-----------------------------  -------------  --------------  --------------  --------------  --------------\n"
     ]
    },
    {
     "data": {
      "text/plain": "<Figure size 1440x1440 with 5 Axes>",
      "image/png": "[encoded data removed]"
     },
     "metadata": {
      "needs_background": "light"
     },
     "output_type": "display_data"
    }
   ],
   "source": [
    "showImagesMatrix([images_dots4x[0], images_dots4x[1], images_dots4x[2], images_dots4x[3], images_dots4x[4]], 5)"
   ],
   "metadata": {
    "collapsed": false,
    "pycharm": {
     "name": "#%%\n"
    }
   }
  },
  {
   "cell_type": "code",
   "execution_count": 15,
   "outputs": [
    {
     "name": "stdout",
     "output_type": "stream",
     "text": [
      "-----------------------------  -------------  ----------------  --------------  --------------  ----------------\n",
      "Image 0 vs image:                 0                1               2               3                 4\n",
      "mean                              0               -8.91179        -7.86473        -7.86473          -9.57585\n",
      "avg_hash                          0                0               0               0                 0\n",
      "p_hash                            0                0.0187305       0.0332986       0.0332986         0.0332986\n",
      "d_hash                            0                0               0.00416233      0.00416233        0.00208117\n",
      "haar_hash                         0                0.0208117       0.00832466      0.00832466        0.00832466\n",
      "db4_hash                          0                0.0645161       0.130073        0.130073          0.118626\n",
      "AUC                               1                0.707174        0.592987        0.592987          0.723963\n",
      "Accuracy                          1                0.985278        0.984444        0.984444          0.986667\n",
      "BinaryAccuracy                    0.991389         0.991389        0.991389        0.991389          0.991389\n",
      "BinaryCrossentropy                0.00374356       0.0143383       0.023888        0.023888          0.0125156\n",
      "BinaryIoU                         1                1               1               1                 1\n",
      "CategoricalAccuracy               1                1               1               1                 1\n",
      "CategoricalCrossentropy         nan              nan             nan             nan               nan\n",
      "CategoricalHinge                  1.00075          1.00116         1.00158         1.00158           1.001\n",
      "CosineSimilarity                  0.00861111       0.00361111      0.00166667      0.00166667        0.00388889\n",
      "FalseNegatives                   31               31              31              31                31\n",
      "FalsePositives                    0                0               0               0                 0\n",
      "Hinge                             0.999568         0.999769        0.99998         0.99998           0.999694\n",
      "KLDivergence                      0                0.0108548       0.020597        0.020597          0.00906358\n",
      "LogCoshError                      0                0.000197556     0.000404003     0.000404003       0.000125069\n",
      "Mean                              0.26752          0.142701        0.012092        0.012092          0.189506\n",
      "MeanAbsoluteError                 0                0.00202079      0.0030558       0.0030558         0.00157809\n",
      "MeanAbsolutePercentageError       0           764679               1.38752e+06     1.38752e+06  627134\n",
      "MeanSquaredError                  0                0.00039906      0.000824584     0.000824584       0.000251846\n",
      "MeanSquaredLogarithmicError       0                0.000305166     0.000615345     0.000615345       0.000205666\n",
      "Poisson                           0.0039896        0.0148501       0.0245866       0.0245866         0.0130532\n",
      "Precision                         0                0               0               0                 0\n",
      "Recall                            0                0               0               0                 0\n",
      "RootMeanSquaredError              0                0.0199765       0.0287156       0.0287156         0.0158697\n",
      "SparseCategoricalAccuracy         0.991389         0.991389        0.991389        0.991389          0.991389\n",
      "SparseCategoricalCrossentropy     0                0               0               0                 0\n",
      "SparseTopKCategoricalAccuracy     1                1               1               1                 1\n",
      "SquaredHinge                      0.999191         0.999566        0.999961        0.999961          0.999435\n",
      "Sum                               1.55452          0.83212         0.0702648       0.0702648         1.10119\n",
      "TopKCategoricalAccuracy           1                1               1               1                 1\n",
      "TrueNegatives                  3569             3569            3569            3569              3569\n",
      "TruePositives                     0                0               0               0                 0\n",
      "-----------------------------  -------------  ----------------  --------------  --------------  ----------------\n"
     ]
    },
    {
     "data": {
      "text/plain": "<Figure size 1440x1440 with 5 Axes>",
      "image/png": "[encoded data removed]"
     },
     "metadata": {
      "needs_background": "light"
     },
     "output_type": "display_data"
    }
   ],
   "source": [
    "images_worms, augmented_worms = load_from_file(WORMS_DST)\n",
    "showImagesMatrix([images_worms[0], augmented_worms[0], augmented_worms[2], augmented_worms[5], augmented_worms[16]], 5)"
   ],
   "metadata": {
    "collapsed": false,
    "pycharm": {
     "name": "#%%\n"
    }
   }
  },
  {
   "cell_type": "code",
   "execution_count": 16,
   "outputs": [
    {
     "name": "stdout",
     "output_type": "stream",
     "text": [
      "-----------------------------  -------------  ----------------  --------------  --------------  --------------\n",
      "Image 0 vs image:                 0                1               2               3               4\n",
      "mean                              0               -8.50968        -6.87625        -7.62669        -6.90466\n",
      "avg_hash                          0                0               0.00208117      0.00104058      0\n",
      "p_hash                            0                0.0332986       0.00832466      0.0166493       0.0166493\n",
      "d_hash                            0                0.00312175      0.00416233      0.00520291      0.00208117\n",
      "haar_hash                         0                0.00728408      0.00520291      0.0260146       0.00728408\n",
      "db4_hash                          0                0.114464        0.0780437       0.120708        0.0780437\n",
      "AUC                               1                0.708227        0.738221        0.578883        0.692025\n",
      "Accuracy                          1                0.988889        0.984167        0.9875          0.988611\n",
      "BinaryAccuracy                    0.991389         0.990833        0.988889        0.991111        0.989722\n",
      "BinaryCrossentropy                0.00374356       0.0139142       0.0154013       0.0216309       0.0194586\n",
      "BinaryIoU                         1                0.499444        0.498056        0.499444        0.498333\n",
      "CategoricalAccuracy               1                1               1               1               1\n",
      "CategoricalCrossentropy         nan              nan             nan             nan             nan\n",
      "CategoricalHinge                  1.00075          1.00115         1.00344         1.00166         1.00235\n",
      "CosineSimilarity                  0.00861111       0.00361111      0.00416667      0.00138889      0.00333333\n",
      "FalseNegatives                   31               29              26              28              25\n",
      "FalsePositives                    0                2               9               1               6\n",
      "Hinge                             0.999568         0.999726        0.999526        0.9998          0.999713\n",
      "KLDivergence                      0                0.0102107       0.00784807      0.0175971       0.0134779\n",
      "LogCoshError                      0                0.000258209     0.000782306     0.000473857     0.000755261\n",
      "Mean                              0.26752          0.160972        0.108079        0.0969387       0.0981777\n",
      "MeanAbsoluteError                 0                0.00198848      0.0040556       0.00301296      0.00329145\n",
      "MeanAbsolutePercentageError       0           858672               2.76877e+06     1.34902e+06     1.46684e+06\n",
      "MeanSquaredError                  0                0.000527334     0.00163604      0.000972503     0.00160415\n",
      "MeanSquaredLogarithmicError       0                0.000384819     0.00104374      0.000677635     0.000957694\n",
      "Poisson                           0.0039896        0.0142874       0.0146069       0.022036        0.0187751\n",
      "Precision                         0                0.5             0.357143        0.75            0.5\n",
      "Recall                            0                0.0645161       0.16129         0.0967742       0.193548\n",
      "RootMeanSquaredError              0                0.0229638       0.040448        0.031185        0.0400518\n",
      "SparseCategoricalAccuracy         0.991389         0.991389        0.991389        0.991389        0.991389\n",
      "SparseCategoricalCrossentropy     0                0               0               0               0\n",
      "SparseTopKCategoricalAccuracy     1                1               1               1               1\n",
      "SquaredHinge                      0.999191         0.999501        0.999157        0.999645        0.999473\n",
      "Sum                               1.55452          0.985882        1.70549         0.720095        1.03267\n",
      "TopKCategoricalAccuracy           1                1               1               1               1\n",
      "TrueNegatives                  3569             3567            3560            3568            3563\n",
      "TruePositives                     0                2               5               3               6\n",
      "-----------------------------  -------------  ----------------  --------------  --------------  --------------\n"
     ]
    },
    {
     "data": {
      "text/plain": "<Figure size 1440x1440 with 5 Axes>",
      "image/png": "[encoded data removed]"
     },
     "metadata": {
      "needs_background": "light"
     },
     "output_type": "display_data"
    }
   ],
   "source": [
    "showImagesMatrix([images_worms[0], images_worms[1], images_worms[2], images_worms[3], images_worms[4]], 5)"
   ],
   "metadata": {
    "collapsed": false,
    "pycharm": {
     "name": "#%%\n"
    }
   }
  },
  {
   "cell_type": "code",
   "execution_count": 17,
   "outputs": [
    {
     "name": "stdout",
     "output_type": "stream",
     "text": [
      "-----------------------------  -------------  ----------------  ---------------  --------------\n",
      "Image 0 vs image:                 0                1                2               3\n",
      "mean                              0               -7.67865         -7.94841        -6.90541\n",
      "avg_hash                          0                0                0               0.00189036\n",
      "p_hash                            0                0.00756144       0.0378072       0.0378072\n",
      "d_hash                            0                0.00189036       0.00378072      0.00567108\n",
      "haar_hash                         0                0.0378072        0.0623819       0.0548204\n",
      "db4_hash                          0                0.137996         0.0661626       0.111531\n",
      "AUC                               1                0.78002          0.521605        0.754993\n",
      "Accuracy                          1                0.988611         0.993333        0.981667\n",
      "BinaryAccuracy                    0.993611         0.993611         0.993611        0.993611\n",
      "BinaryCrossentropy                0.00334466       0.0130467        0.0228628       0.0154968\n",
      "BinaryIoU                         1                1                1               1\n",
      "CategoricalAccuracy               1                1                1               1\n",
      "CategoricalCrossentropy         nan              nan              nan             nan\n",
      "CategoricalHinge                  1.00066          1.00125          1.00007         1.00235\n",
      "CosineSimilarity                  0.00638889       0.00361111       0.000277778     0.00333333\n",
      "FalseNegatives                   23               23               23              23\n",
      "FalsePositives                    0                0                0               0\n",
      "Hinge                             0.999553         0.999819         0.999959        0.999875\n",
      "KLDivergence                      0                0.00975196       0.0217          0.0110348\n",
      "LogCoshError                      0                0.000253466      0.000210688     0.000433529\n",
      "Mean                              0.287618         0.112394         0.272746        0.0482415\n",
      "MeanAbsoluteError                 0                0.00200535       0.00153095      0.00327451\n",
      "MeanAbsolutePercentageError       0           946757            18882.3             2.05971e+06\n",
      "MeanSquaredError                  0                0.000516396      0.000428327     0.000882574\n",
      "MeanSquaredLogarithmicError       0                0.000382245      0.00032382      0.000655538\n",
      "Poisson                           0.00359642       0.0134069        0.0238897       0.0156763\n",
      "Precision                         0                0                0               0\n",
      "Recall                            0                0                0               0\n",
      "RootMeanSquaredError              0                0.0227243        0.0206961       0.0297081\n",
      "SparseCategoricalAccuracy         0.993611         0.993611         0.993611        0.993611\n",
      "SparseCategoricalCrossentropy     0                0                0               0\n",
      "SparseTopKCategoricalAccuracy     1                1                1               1\n",
      "SquaredHinge                      0.999151         0.999652         0.999925        0.999755\n",
      "Sum                               1.61071          0.653102         0.146178        0.451663\n",
      "TopKCategoricalAccuracy           1                1                1               1\n",
      "TrueNegatives                  3577             3577             3577            3577\n",
      "TruePositives                     0                0                0               0\n",
      "-----------------------------  -------------  ----------------  ---------------  --------------\n"
     ]
    },
    {
     "data": {
      "text/plain": "<Figure size 1440x1440 with 4 Axes>",
      "image/png": "[encoded data removed]"
     },
     "metadata": {
      "needs_background": "light"
     },
     "output_type": "display_data"
    }
   ],
   "source": [
    "showImagesMatrix([images[0], images_worms[0], images_dots[0], images_dots4x[0][2:62,2:62]], 4)"
   ],
   "metadata": {
    "collapsed": false,
    "pycharm": {
     "name": "#%%\n"
    }
   }
  }
 ],
 "metadata": {
  "kernelspec": {
   "display_name": "Python 3",
   "language": "python",
   "name": "python3"
  },
  "language_info": {
   "codemirror_mode": {
    "name": "ipython",
    "version": 2
   },
   "file_extension": ".py",
   "mimetype": "text/x-python",
   "name": "python",
   "nbconvert_exporter": "python",
   "pygments_lexer": "ipython2",
   "version": "2.7.6"
  }
 },
 "nbformat": 4,
 "nbformat_minor": 0
}