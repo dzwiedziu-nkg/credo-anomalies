{
 "cells": [
  {
   "cell_type": "code",
   "execution_count": 2,
   "metadata": {
    "collapsed": true
   },
   "outputs": [],
   "source": [
    "from commons import original_autoencoder, train_or_cache\n",
    "from dataset_loader import load_dataset_with_cache\n",
    "\n",
    "def load_and_test(dataset, aug, autoencoder, acache):\n",
    "    test_set = load_dataset_with_cache(dataset, aug)\n",
    "    print('%s: %d' % (dataset, len(test_set)))\n",
    "    train_or_cache(test_set, autoencoder, '%s_%s' % (acache, dataset))\n"
   ]
  },
  {
   "cell_type": "code",
   "execution_count": 3,
   "outputs": [
    {
     "name": "stdout",
     "output_type": "stream",
     "text": [
      "320\n",
      "0\n",
      "128\n",
      "18496\n",
      "0\n",
      "256\n",
      "0\n",
      "230416\n",
      "244800\n",
      "0\n",
      "36928\n",
      "0\n",
      "256\n",
      "18464\n",
      "0\n",
      "128\n",
      "289\n",
      "Model: \"autoencoder\"\n",
      "_________________________________________________________________\n",
      " Layer (type)                Output Shape              Param #   \n",
      "=================================================================\n",
      " input_1 (InputLayer)        [(None, 60, 60, 1)]       0         \n",
      "                                                                 \n",
      " encoder (Functional)        (None, 16)                249616    \n",
      "                                                                 \n",
      " decoder (Functional)        (None, 60, 60, 1)         300865    \n",
      "                                                                 \n",
      "=================================================================\n",
      "Total params: 550,481\n",
      "Trainable params: 550,097\n",
      "Non-trainable params: 384\n",
      "_________________________________________________________________\n"
     ]
    }
   ],
   "source": [
    "autoencoder = original_autoencoder()\n",
    "autoencoder.summary()"
   ],
   "metadata": {
    "collapsed": false,
    "pycharm": {
     "name": "#%%\n"
    }
   }
  },
  {
   "cell_type": "code",
   "execution_count": null,
   "outputs": [
    {
     "name": "stdout",
     "output_type": "stream",
     "text": [
      "dots: 53500\n",
      "Epoch 1/200\n",
      "1120/1338 [========================>.....] - ETA: 1:06 - loss: 10.8050"
     ]
    }
   ],
   "source": [
    "load_and_test('dots', 100, autoencoder, 'original')"
   ],
   "metadata": {
    "collapsed": false,
    "pycharm": {
     "name": "#%%\n",
     "is_executing": true
    }
   }
  },
  {
   "cell_type": "code",
   "execution_count": null,
   "outputs": [],
   "source": [],
   "metadata": {
    "collapsed": false,
    "pycharm": {
     "name": "#%%\n"
    }
   }
  }
 ],
 "metadata": {
  "kernelspec": {
   "display_name": "Python 3",
   "language": "python",
   "name": "python3"
  },
  "language_info": {
   "codemirror_mode": {
    "name": "ipython",
    "version": 2
   },
   "file_extension": ".py",
   "mimetype": "text/x-python",
   "name": "python",
   "nbconvert_exporter": "python",
   "pygments_lexer": "ipython2",
   "version": "2.7.6"
  }
 },
 "nbformat": 4,
 "nbformat_minor": 0
}