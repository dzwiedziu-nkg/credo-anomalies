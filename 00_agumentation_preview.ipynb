{
 "cells": [
  {
   "cell_type": "code",
   "execution_count": 1,
   "outputs": [],
   "source": [
    "# Please visit:\n",
    "#\n",
    "# https://download.nkg-mn.com/credo/anomalies/\n",
    "#\n",
    "# Prepared dots_100000.pickle and others can be downloaded from mentioned website.\n",
    "from keras.layers import RandomFlip, RandomRotation\n",
    "import tensorflow as tf\n",
    "import numpy as np\n",
    "from PIL import Image\n",
    "import os\n",
    "from scipy.ndimage import rotate\n",
    "\n",
    "\n",
    "\n",
    "\n",
    "# metryka - za\n",
    "# czy nie ma warstw inne niż proste konwolucje (np. falkowe, np. warstwy od transformacji hougha)\n",
    "# poeównianie kulbacka leubrera (VAE)"
   ],
   "metadata": {
    "collapsed": false,
    "pycharm": {
     "name": "#%%\n"
    }
   }
  },
  {
   "cell_type": "code",
   "execution_count": 2,
   "outputs": [],
   "source": [
    "from dataset_loader import load_dataset_with_augmentation, save_to_file\n",
    "\n",
    "DOTS_SRC = 'hit-images-final2/dot'\n",
    "#DOTS_DST = 'cache/dots_100000.pickle'\n",
    "\n",
    "TRACKS_SRC = 'hit-images-final2/line'\n",
    "#TRACKS_DST = 'cache/tracks_100000.pickle'\n",
    "\n",
    "WORMS_SRC = 'hit-images-final2/worms'\n",
    "#WORMS_DST = 'cache/worms_100000.pickle'\n",
    "\n",
    "ARTIFACTS_SRC = 'hit-images-final2/artefact'\n",
    "#ARTIFACTS_DST = 'cache/artifacts_100000.pickle'"
   ],
   "metadata": {
    "collapsed": false,
    "pycharm": {
     "name": "#%%\n"
    }
   }
  },
  {
   "cell_type": "code",
   "execution_count": 4,
   "outputs": [
    {
     "name": "stdout",
     "output_type": "stream",
     "text": [
      "done\n"
     ]
    }
   ],
   "source": [
    "from dataset_loader import load_images\n",
    "\n",
    "\n",
    "def make_augmentations(images, dst, mul=1):\n",
    "    if mul == 1:\n",
    "        return images\n",
    "\n",
    "    #data_augmentation = tf.keras.Sequential([\n",
    "        #RandomFlip(\"horizontal_and_vertical\"),\n",
    "    #    RandomRotation(0.4),\n",
    "    #])\n",
    "\n",
    "    for i, image in enumerate(images):\n",
    "        os.makedirs('%s/%d' % (dst, i), exist_ok=True)\n",
    "        im = Image.fromarray((image * 255).astype(np.uint8))\n",
    "        im.save('%s/%d/original.png' % (dst, i))\n",
    "\n",
    "        #image = tf.expand_dims(image, 0)\n",
    "        arr = []\n",
    "        for j in range(0, mul):\n",
    "            augmented_image = rotate(image, 360/(mul + 1) * (j+1), reshape=False) #data_augmentation(image)\n",
    "            arr.append(augmented_image.astype(np.flo))\n",
    "\n",
    "        for j in range(0, mul):\n",
    "            augmented_image = rotate(image, 360/(mul + 1) * (j+1), reshape=False) #data_augmentation(image)\n",
    "            augmented_image = np.flipud(augmented_image)\n",
    "\n",
    "            arr.append(augmented_image)\n",
    "\n",
    "        augs = np.vstack([arr])\n",
    "        for j, ai in enumerate(augs):\n",
    "            ai = augs[j]\n",
    "            im = ai#Image.fromarray((ai * 255).astype(np.uint8))\n",
    "            im = Image.fromarray(ai)\n",
    "            im.save('%s/%d/%d.png' % (dst, i, j))\n",
    "\n",
    "for src in [DOTS_SRC, TRACKS_SRC, WORMS_SRC, ARTIFACTS_SRC]:\n",
    "    images = load_images(src)\n",
    "    make_augmentations(images, src.replace('hit-images-final2', 'cache'), 12)\n",
    "#images, augmented = load_dataset_with_augmentation(DOTS_SRC, min_count=2000)\n",
    "\n",
    "print('done')"
   ],
   "metadata": {
    "collapsed": false,
    "pycharm": {
     "name": "#%%\n"
    }
   }
  }
 ],
 "metadata": {
  "kernelspec": {
   "display_name": "Python 3",
   "language": "python",
   "name": "python3"
  },
  "language_info": {
   "codemirror_mode": {
    "name": "ipython",
    "version": 2
   },
   "file_extension": ".py",
   "mimetype": "text/x-python",
   "name": "python",
   "nbconvert_exporter": "python",
   "pygments_lexer": "ipython2",
   "version": "2.7.6"
  }
 },
 "nbformat": 4,
 "nbformat_minor": 0
}